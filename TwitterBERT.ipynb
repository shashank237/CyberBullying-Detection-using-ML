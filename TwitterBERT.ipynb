{
  "nbformat": 4,
  "nbformat_minor": 0,
  "metadata": {
    "colab": {
      "provenance": [],
      "include_colab_link": true
    },
    "kernelspec": {
      "name": "python3",
      "display_name": "Python 3"
    },
    "language_info": {
      "name": "python"
    },
    "accelerator": "GPU"
  },
  "cells": [
    {
      "cell_type": "markdown",
      "metadata": {
        "id": "view-in-github",
        "colab_type": "text"
      },
      "source": [
        "<a href=\"https://colab.research.google.com/github/shashank237/CyberBullying-Detection-using-ML/blob/main/TwitterBERT.ipynb\" target=\"_parent\"><img src=\"https://colab.research.google.com/assets/colab-badge.svg\" alt=\"Open In Colab\"/></a>"
      ]
    },
    {
      "cell_type": "code",
      "metadata": {
        "colab": {
          "base_uri": "https://localhost:8080/"
        },
        "id": "eJNF-vZQbS_C",
        "outputId": "381d6cb8-96cd-4637-a1a5-feefd460165b"
      },
      "source": [
        "! python --version"
      ],
      "execution_count": null,
      "outputs": [
        {
          "output_type": "stream",
          "text": [
            "Python 3.7.10\n"
          ],
          "name": "stdout"
        }
      ]
    },
    {
      "cell_type": "markdown",
      "metadata": {
        "id": "7wnrTOrs-RfO"
      },
      "source": [
        "# Installing Necesary Libraries"
      ]
    },
    {
      "cell_type": "code",
      "metadata": {
        "colab": {
          "base_uri": "https://localhost:8080/"
        },
        "id": "ed5plTz-bZoC",
        "outputId": "1f804a40-f30c-4881-f2fa-c69bb8351742"
      },
      "source": [
        "!pip install tensorflow_hub\n",
        "!pip install keras tf-models-official pydot graphviz"
      ],
      "execution_count": null,
      "outputs": [
        {
          "output_type": "stream",
          "text": [
            "Requirement already satisfied: tensorflow_hub in /usr/local/lib/python3.7/dist-packages (0.12.0)\n",
            "Requirement already satisfied: numpy>=1.12.0 in /usr/local/lib/python3.7/dist-packages (from tensorflow_hub) (1.19.5)\n",
            "Requirement already satisfied: protobuf>=3.8.0 in /usr/local/lib/python3.7/dist-packages (from tensorflow_hub) (3.12.4)\n",
            "Requirement already satisfied: six>=1.9 in /usr/local/lib/python3.7/dist-packages (from protobuf>=3.8.0->tensorflow_hub) (1.15.0)\n",
            "Requirement already satisfied: setuptools in /usr/local/lib/python3.7/dist-packages (from protobuf>=3.8.0->tensorflow_hub) (56.1.0)\n",
            "Requirement already satisfied: keras in /usr/local/lib/python3.7/dist-packages (2.4.3)\n",
            "Collecting tf-models-official\n",
            "\u001b[?25l  Downloading https://files.pythonhosted.org/packages/96/08/81bbc275e8e9c6d1e03dd26daec3a67f45e6322804cbce3d51f93eae1961/tf_models_official-2.5.0-py2.py3-none-any.whl (1.6MB)\n",
            "\u001b[K     |████████████████████████████████| 1.6MB 14.5MB/s \n",
            "\u001b[?25hRequirement already satisfied: pydot in /usr/local/lib/python3.7/dist-packages (1.3.0)\n",
            "Requirement already satisfied: graphviz in /usr/local/lib/python3.7/dist-packages (0.10.1)\n",
            "Requirement already satisfied: scipy>=0.14 in /usr/local/lib/python3.7/dist-packages (from keras) (1.4.1)\n",
            "Requirement already satisfied: pyyaml in /usr/local/lib/python3.7/dist-packages (from keras) (3.13)\n",
            "Requirement already satisfied: numpy>=1.9.1 in /usr/local/lib/python3.7/dist-packages (from keras) (1.19.5)\n",
            "Requirement already satisfied: h5py in /usr/local/lib/python3.7/dist-packages (from keras) (3.1.0)\n",
            "Requirement already satisfied: psutil>=5.4.3 in /usr/local/lib/python3.7/dist-packages (from tf-models-official) (5.4.8)\n",
            "Requirement already satisfied: gin-config in /usr/local/lib/python3.7/dist-packages (from tf-models-official) (0.4.0)\n",
            "Requirement already satisfied: tensorflow-datasets in /usr/local/lib/python3.7/dist-packages (from tf-models-official) (4.0.1)\n",
            "Requirement already satisfied: Pillow in /usr/local/lib/python3.7/dist-packages (from tf-models-official) (7.1.2)\n",
            "Collecting opencv-python-headless\n",
            "\u001b[?25l  Downloading https://files.pythonhosted.org/packages/c8/84/72ec52fbac4775c2a5bf0ee5573c922a0cac35eb841907edf56493a5e313/opencv_python_headless-4.5.2.52-cp37-cp37m-manylinux2014_x86_64.whl (38.2MB)\n",
            "\u001b[K     |████████████████████████████████| 38.2MB 81kB/s \n",
            "\u001b[?25hRequirement already satisfied: pycocotools in /usr/local/lib/python3.7/dist-packages (from tf-models-official) (2.0.2)\n",
            "Requirement already satisfied: tensorflow-hub>=0.6.0 in /usr/local/lib/python3.7/dist-packages (from tf-models-official) (0.12.0)\n",
            "Requirement already satisfied: google-api-python-client>=1.6.7 in /usr/local/lib/python3.7/dist-packages (from tf-models-official) (1.12.8)\n",
            "Requirement already satisfied: google-cloud-bigquery>=0.31.0 in /usr/local/lib/python3.7/dist-packages (from tf-models-official) (1.21.0)\n",
            "Collecting tensorflow-addons\n",
            "\u001b[?25l  Downloading https://files.pythonhosted.org/packages/66/4b/e893d194e626c24b3df2253066aa418f46a432fdb68250cde14bf9bb0700/tensorflow_addons-0.13.0-cp37-cp37m-manylinux2010_x86_64.whl (679kB)\n",
            "\u001b[K     |████████████████████████████████| 686kB 29.4MB/s \n",
            "\u001b[?25hRequirement already satisfied: Cython in /usr/local/lib/python3.7/dist-packages (from tf-models-official) (0.29.23)\n",
            "Collecting sentencepiece\n",
            "\u001b[?25l  Downloading https://files.pythonhosted.org/packages/f5/99/e0808cb947ba10f575839c43e8fafc9cc44e4a7a2c8f79c60db48220a577/sentencepiece-0.1.95-cp37-cp37m-manylinux2014_x86_64.whl (1.2MB)\n",
            "\u001b[K     |████████████████████████████████| 1.2MB 40.4MB/s \n",
            "\u001b[?25hCollecting tf-slim>=1.1.0\n",
            "\u001b[?25l  Downloading https://files.pythonhosted.org/packages/02/97/b0f4a64df018ca018cc035d44f2ef08f91e2e8aa67271f6f19633a015ff7/tf_slim-1.1.0-py2.py3-none-any.whl (352kB)\n",
            "\u001b[K     |████████████████████████████████| 358kB 50.2MB/s \n",
            "\u001b[?25hCollecting sacrebleu\n",
            "\u001b[?25l  Downloading https://files.pythonhosted.org/packages/7e/57/0c7ca4e31a126189dab99c19951910bd081dea5bbd25f24b77107750eae7/sacrebleu-1.5.1-py3-none-any.whl (54kB)\n",
            "\u001b[K     |████████████████████████████████| 61kB 9.5MB/s \n",
            "\u001b[?25hRequirement already satisfied: six in /usr/local/lib/python3.7/dist-packages (from tf-models-official) (1.15.0)\n",
            "Requirement already satisfied: oauth2client in /usr/local/lib/python3.7/dist-packages (from tf-models-official) (4.1.3)\n",
            "Requirement already satisfied: kaggle>=1.3.9 in /usr/local/lib/python3.7/dist-packages (from tf-models-official) (1.5.12)\n",
            "Requirement already satisfied: pandas>=0.22.0 in /usr/local/lib/python3.7/dist-packages (from tf-models-official) (1.1.5)\n",
            "Requirement already satisfied: tensorflow>=2.5.0 in /usr/local/lib/python3.7/dist-packages (from tf-models-official) (2.5.0)\n",
            "Collecting py-cpuinfo>=3.3.0\n",
            "\u001b[?25l  Downloading https://files.pythonhosted.org/packages/e6/ba/77120e44cbe9719152415b97d5bfb29f4053ee987d6cb63f55ce7d50fadc/py-cpuinfo-8.0.0.tar.gz (99kB)\n",
            "\u001b[K     |████████████████████████████████| 102kB 15.0MB/s \n",
            "\u001b[?25hCollecting seqeval\n",
            "\u001b[?25l  Downloading https://files.pythonhosted.org/packages/9d/2d/233c79d5b4e5ab1dbf111242299153f3caddddbb691219f363ad55ce783d/seqeval-1.2.2.tar.gz (43kB)\n",
            "\u001b[K     |████████████████████████████████| 51kB 9.1MB/s \n",
            "\u001b[?25hCollecting tensorflow-model-optimization>=0.4.1\n",
            "\u001b[?25l  Downloading https://files.pythonhosted.org/packages/55/38/4fd48ea1bfcb0b6e36d949025200426fe9c3a8bfae029f0973d85518fa5a/tensorflow_model_optimization-0.5.0-py2.py3-none-any.whl (172kB)\n",
            "\u001b[K     |████████████████████████████████| 174kB 57.4MB/s \n",
            "\u001b[?25hRequirement already satisfied: matplotlib in /usr/local/lib/python3.7/dist-packages (from tf-models-official) (3.2.2)\n",
            "Requirement already satisfied: pyparsing>=2.1.4 in /usr/local/lib/python3.7/dist-packages (from pydot) (2.4.7)\n",
            "Requirement already satisfied: cached-property; python_version < \"3.8\" in /usr/local/lib/python3.7/dist-packages (from h5py->keras) (1.5.2)\n",
            "Requirement already satisfied: dill in /usr/local/lib/python3.7/dist-packages (from tensorflow-datasets->tf-models-official) (0.3.3)\n",
            "Requirement already satisfied: attrs>=18.1.0 in /usr/local/lib/python3.7/dist-packages (from tensorflow-datasets->tf-models-official) (21.2.0)\n",
            "Requirement already satisfied: protobuf>=3.6.1 in /usr/local/lib/python3.7/dist-packages (from tensorflow-datasets->tf-models-official) (3.12.4)\n",
            "Requirement already satisfied: requests>=2.19.0 in /usr/local/lib/python3.7/dist-packages (from tensorflow-datasets->tf-models-official) (2.23.0)\n",
            "Requirement already satisfied: termcolor in /usr/local/lib/python3.7/dist-packages (from tensorflow-datasets->tf-models-official) (1.1.0)\n",
            "Requirement already satisfied: importlib-resources; python_version < \"3.9\" in /usr/local/lib/python3.7/dist-packages (from tensorflow-datasets->tf-models-official) (5.1.3)\n",
            "Requirement already satisfied: tensorflow-metadata in /usr/local/lib/python3.7/dist-packages (from tensorflow-datasets->tf-models-official) (1.0.0)\n",
            "Requirement already satisfied: promise in /usr/local/lib/python3.7/dist-packages (from tensorflow-datasets->tf-models-official) (2.3)\n",
            "Requirement already satisfied: tqdm in /usr/local/lib/python3.7/dist-packages (from tensorflow-datasets->tf-models-official) (4.41.1)\n",
            "Requirement already satisfied: dm-tree in /usr/local/lib/python3.7/dist-packages (from tensorflow-datasets->tf-models-official) (0.1.6)\n",
            "Requirement already satisfied: absl-py in /usr/local/lib/python3.7/dist-packages (from tensorflow-datasets->tf-models-official) (0.12.0)\n",
            "Requirement already satisfied: future in /usr/local/lib/python3.7/dist-packages (from tensorflow-datasets->tf-models-official) (0.16.0)\n",
            "Requirement already satisfied: setuptools>=18.0 in /usr/local/lib/python3.7/dist-packages (from pycocotools->tf-models-official) (56.1.0)\n",
            "Requirement already satisfied: google-auth>=1.16.0 in /usr/local/lib/python3.7/dist-packages (from google-api-python-client>=1.6.7->tf-models-official) (1.30.0)\n",
            "Requirement already satisfied: google-api-core<2dev,>=1.21.0 in /usr/local/lib/python3.7/dist-packages (from google-api-python-client>=1.6.7->tf-models-official) (1.26.3)\n",
            "Requirement already satisfied: google-auth-httplib2>=0.0.3 in /usr/local/lib/python3.7/dist-packages (from google-api-python-client>=1.6.7->tf-models-official) (0.0.4)\n",
            "Requirement already satisfied: uritemplate<4dev,>=3.0.0 in /usr/local/lib/python3.7/dist-packages (from google-api-python-client>=1.6.7->tf-models-official) (3.0.1)\n",
            "Requirement already satisfied: httplib2<1dev,>=0.15.0 in /usr/local/lib/python3.7/dist-packages (from google-api-python-client>=1.6.7->tf-models-official) (0.17.4)\n",
            "Requirement already satisfied: google-resumable-media!=0.4.0,<0.5.0dev,>=0.3.1 in /usr/local/lib/python3.7/dist-packages (from google-cloud-bigquery>=0.31.0->tf-models-official) (0.4.1)\n",
            "Requirement already satisfied: google-cloud-core<2.0dev,>=1.0.3 in /usr/local/lib/python3.7/dist-packages (from google-cloud-bigquery>=0.31.0->tf-models-official) (1.0.3)\n",
            "Requirement already satisfied: typeguard>=2.7 in /usr/local/lib/python3.7/dist-packages (from tensorflow-addons->tf-models-official) (2.7.1)\n",
            "Collecting portalocker==2.0.0\n",
            "  Downloading https://files.pythonhosted.org/packages/89/a6/3814b7107e0788040870e8825eebf214d72166adf656ba7d4bf14759a06a/portalocker-2.0.0-py2.py3-none-any.whl\n",
            "Requirement already satisfied: pyasn1-modules>=0.0.5 in /usr/local/lib/python3.7/dist-packages (from oauth2client->tf-models-official) (0.2.8)\n",
            "Requirement already satisfied: pyasn1>=0.1.7 in /usr/local/lib/python3.7/dist-packages (from oauth2client->tf-models-official) (0.4.8)\n",
            "Requirement already satisfied: rsa>=3.1.4 in /usr/local/lib/python3.7/dist-packages (from oauth2client->tf-models-official) (4.7.2)\n",
            "Requirement already satisfied: python-slugify in /usr/local/lib/python3.7/dist-packages (from kaggle>=1.3.9->tf-models-official) (5.0.2)\n",
            "Requirement already satisfied: certifi in /usr/local/lib/python3.7/dist-packages (from kaggle>=1.3.9->tf-models-official) (2020.12.5)\n",
            "Requirement already satisfied: python-dateutil in /usr/local/lib/python3.7/dist-packages (from kaggle>=1.3.9->tf-models-official) (2.8.1)\n",
            "Requirement already satisfied: urllib3 in /usr/local/lib/python3.7/dist-packages (from kaggle>=1.3.9->tf-models-official) (1.24.3)\n",
            "Requirement already satisfied: pytz>=2017.2 in /usr/local/lib/python3.7/dist-packages (from pandas>=0.22.0->tf-models-official) (2018.9)\n",
            "Requirement already satisfied: typing-extensions~=3.7.4 in /usr/local/lib/python3.7/dist-packages (from tensorflow>=2.5.0->tf-models-official) (3.7.4.3)\n",
            "Requirement already satisfied: tensorboard~=2.5 in /usr/local/lib/python3.7/dist-packages (from tensorflow>=2.5.0->tf-models-official) (2.5.0)\n",
            "Requirement already satisfied: flatbuffers~=1.12.0 in /usr/local/lib/python3.7/dist-packages (from tensorflow>=2.5.0->tf-models-official) (1.12)\n",
            "Requirement already satisfied: opt-einsum~=3.3.0 in /usr/local/lib/python3.7/dist-packages (from tensorflow>=2.5.0->tf-models-official) (3.3.0)\n",
            "Requirement already satisfied: wheel~=0.35 in /usr/local/lib/python3.7/dist-packages (from tensorflow>=2.5.0->tf-models-official) (0.36.2)\n",
            "Requirement already satisfied: google-pasta~=0.2 in /usr/local/lib/python3.7/dist-packages (from tensorflow>=2.5.0->tf-models-official) (0.2.0)\n",
            "Requirement already satisfied: wrapt~=1.12.1 in /usr/local/lib/python3.7/dist-packages (from tensorflow>=2.5.0->tf-models-official) (1.12.1)\n",
            "Requirement already satisfied: keras-preprocessing~=1.1.2 in /usr/local/lib/python3.7/dist-packages (from tensorflow>=2.5.0->tf-models-official) (1.1.2)\n",
            "Requirement already satisfied: grpcio~=1.34.0 in /usr/local/lib/python3.7/dist-packages (from tensorflow>=2.5.0->tf-models-official) (1.34.1)\n",
            "Requirement already satisfied: astunparse~=1.6.3 in /usr/local/lib/python3.7/dist-packages (from tensorflow>=2.5.0->tf-models-official) (1.6.3)\n",
            "Requirement already satisfied: keras-nightly~=2.5.0.dev in /usr/local/lib/python3.7/dist-packages (from tensorflow>=2.5.0->tf-models-official) (2.5.0.dev2021032900)\n",
            "Requirement already satisfied: tensorflow-estimator<2.6.0,>=2.5.0rc0 in /usr/local/lib/python3.7/dist-packages (from tensorflow>=2.5.0->tf-models-official) (2.5.0)\n",
            "Requirement already satisfied: gast==0.4.0 in /usr/local/lib/python3.7/dist-packages (from tensorflow>=2.5.0->tf-models-official) (0.4.0)\n",
            "Requirement already satisfied: scikit-learn>=0.21.3 in /usr/local/lib/python3.7/dist-packages (from seqeval->tf-models-official) (0.22.2.post1)\n",
            "Requirement already satisfied: kiwisolver>=1.0.1 in /usr/local/lib/python3.7/dist-packages (from matplotlib->tf-models-official) (1.3.1)\n",
            "Requirement already satisfied: cycler>=0.10 in /usr/local/lib/python3.7/dist-packages (from matplotlib->tf-models-official) (0.10.0)\n",
            "Requirement already satisfied: idna<3,>=2.5 in /usr/local/lib/python3.7/dist-packages (from requests>=2.19.0->tensorflow-datasets->tf-models-official) (2.10)\n",
            "Requirement already satisfied: chardet<4,>=3.0.2 in /usr/local/lib/python3.7/dist-packages (from requests>=2.19.0->tensorflow-datasets->tf-models-official) (3.0.4)\n",
            "Requirement already satisfied: zipp>=0.4; python_version < \"3.8\" in /usr/local/lib/python3.7/dist-packages (from importlib-resources; python_version < \"3.9\"->tensorflow-datasets->tf-models-official) (3.4.1)\n",
            "Requirement already satisfied: googleapis-common-protos<2,>=1.52.0 in /usr/local/lib/python3.7/dist-packages (from tensorflow-metadata->tensorflow-datasets->tf-models-official) (1.53.0)\n",
            "Requirement already satisfied: cachetools<5.0,>=2.0.0 in /usr/local/lib/python3.7/dist-packages (from google-auth>=1.16.0->google-api-python-client>=1.6.7->tf-models-official) (4.2.2)\n",
            "Requirement already satisfied: packaging>=14.3 in /usr/local/lib/python3.7/dist-packages (from google-api-core<2dev,>=1.21.0->google-api-python-client>=1.6.7->tf-models-official) (20.9)\n",
            "Requirement already satisfied: text-unidecode>=1.3 in /usr/local/lib/python3.7/dist-packages (from python-slugify->kaggle>=1.3.9->tf-models-official) (1.3)\n",
            "Requirement already satisfied: werkzeug>=0.11.15 in /usr/local/lib/python3.7/dist-packages (from tensorboard~=2.5->tensorflow>=2.5.0->tf-models-official) (1.0.1)\n",
            "Requirement already satisfied: tensorboard-data-server<0.7.0,>=0.6.0 in /usr/local/lib/python3.7/dist-packages (from tensorboard~=2.5->tensorflow>=2.5.0->tf-models-official) (0.6.1)\n",
            "Requirement already satisfied: markdown>=2.6.8 in /usr/local/lib/python3.7/dist-packages (from tensorboard~=2.5->tensorflow>=2.5.0->tf-models-official) (3.3.4)\n",
            "Requirement already satisfied: tensorboard-plugin-wit>=1.6.0 in /usr/local/lib/python3.7/dist-packages (from tensorboard~=2.5->tensorflow>=2.5.0->tf-models-official) (1.8.0)\n",
            "Requirement already satisfied: google-auth-oauthlib<0.5,>=0.4.1 in /usr/local/lib/python3.7/dist-packages (from tensorboard~=2.5->tensorflow>=2.5.0->tf-models-official) (0.4.4)\n",
            "Requirement already satisfied: joblib>=0.11 in /usr/local/lib/python3.7/dist-packages (from scikit-learn>=0.21.3->seqeval->tf-models-official) (1.0.1)\n",
            "Requirement already satisfied: importlib-metadata; python_version < \"3.8\" in /usr/local/lib/python3.7/dist-packages (from markdown>=2.6.8->tensorboard~=2.5->tensorflow>=2.5.0->tf-models-official) (4.0.1)\n",
            "Requirement already satisfied: requests-oauthlib>=0.7.0 in /usr/local/lib/python3.7/dist-packages (from google-auth-oauthlib<0.5,>=0.4.1->tensorboard~=2.5->tensorflow>=2.5.0->tf-models-official) (1.3.0)\n",
            "Requirement already satisfied: oauthlib>=3.0.0 in /usr/local/lib/python3.7/dist-packages (from requests-oauthlib>=0.7.0->google-auth-oauthlib<0.5,>=0.4.1->tensorboard~=2.5->tensorflow>=2.5.0->tf-models-official) (3.1.0)\n",
            "Building wheels for collected packages: py-cpuinfo, seqeval\n",
            "  Building wheel for py-cpuinfo (setup.py) ... \u001b[?25l\u001b[?25hdone\n",
            "  Created wheel for py-cpuinfo: filename=py_cpuinfo-8.0.0-cp37-none-any.whl size=22245 sha256=848b79478c6f2b3c8b3b0a0fcb6fd69f2d2678c8cee22117eb227d8a22db9e90\n",
            "  Stored in directory: /root/.cache/pip/wheels/2e/15/f5/aa2a056d223903b52cf4870134e3a01df0c723816835dd08db\n",
            "  Building wheel for seqeval (setup.py) ... \u001b[?25l\u001b[?25hdone\n",
            "  Created wheel for seqeval: filename=seqeval-1.2.2-cp37-none-any.whl size=16172 sha256=0f92aa7ea334b3483074f0490ee9548bd3b93cf8139bb4a6a60122b621cd28b1\n",
            "  Stored in directory: /root/.cache/pip/wheels/52/df/1b/45d75646c37428f7e626214704a0e35bd3cfc32eda37e59e5f\n",
            "Successfully built py-cpuinfo seqeval\n",
            "\u001b[31mERROR: tf-models-official 2.5.0 has requirement pyyaml>=5.1, but you'll have pyyaml 3.13 which is incompatible.\u001b[0m\n",
            "Installing collected packages: opencv-python-headless, tensorflow-addons, sentencepiece, tf-slim, portalocker, sacrebleu, py-cpuinfo, seqeval, tensorflow-model-optimization, tf-models-official\n",
            "Successfully installed opencv-python-headless-4.5.2.52 portalocker-2.0.0 py-cpuinfo-8.0.0 sacrebleu-1.5.1 sentencepiece-0.1.95 seqeval-1.2.2 tensorflow-addons-0.13.0 tensorflow-model-optimization-0.5.0 tf-models-official-2.5.0 tf-slim-1.1.0\n"
          ],
          "name": "stdout"
        }
      ]
    },
    {
      "cell_type": "code",
      "metadata": {
        "colab": {
          "base_uri": "https://localhost:8080/"
        },
        "id": "L1oC3kqXfjH-",
        "outputId": "11a6d3bf-0019-490d-bfd0-263cab566372"
      },
      "source": [
        "import os\n",
        "\n",
        "import numpy as np\n",
        "import pandas as pd\n",
        "\n",
        "import tensorflow as tf\n",
        "import tensorflow_hub as hub\n",
        "\n",
        "from keras.utils import np_utils\n",
        "\n",
        "import official.nlp.bert.bert_models\n",
        "import official.nlp.bert.configs\n",
        "import official.nlp.bert.run_classifier\n",
        "import official.nlp.bert.tokenization as tokenization\n",
        "\n",
        "from official.modeling import tf_utils\n",
        "from official import nlp\n",
        "from official.nlp import bert\n",
        "\n",
        "from sklearn.model_selection import train_test_split\n",
        "from sklearn.preprocessing import LabelEncoder\n",
        "\n",
        "import matplotlib.pyplot as plt\n",
        "\n",
        "gpus = tf.config.experimental.list_physical_devices('GPU')\n",
        "if gpus:\n",
        "  try:\n",
        "    # Currently, memory growth needs to be the same across GPUs\n",
        "    for gpu in gpus:\n",
        "      tf.config.experimental.set_memory_growth(gpu, True)\n",
        "    logical_gpus = tf.config.experimental.list_logical_devices('GPU')\n",
        "    print(len(gpus), \"Physical GPUs,\", len(logical_gpus), \"Logical GPUs\")\n",
        "  except RuntimeError as e:\n",
        "    # Memory growth must be set before GPUs have been initialized\n",
        "    print(e)\n",
        "\n",
        "print(\"Version: \", tf.__version__)\n",
        "print(\"Eager mode: \", tf.executing_eagerly())\n",
        "print(\"Hub version: \", hub.__version__)\n",
        "print(\"GPU is\", \"available\" if tf.config.list_physical_devices('GPU') else \"NOT AVAILABLE\")"
      ],
      "execution_count": null,
      "outputs": [
        {
          "output_type": "stream",
          "text": [
            "1 Physical GPUs, 1 Logical GPUs\n",
            "Version:  2.5.0\n",
            "Eager mode:  True\n",
            "Hub version:  0.12.0\n",
            "GPU is available\n"
          ],
          "name": "stdout"
        }
      ]
    },
    {
      "cell_type": "markdown",
      "metadata": {
        "id": "wiBswOm3-gxA"
      },
      "source": [
        "#Loading the Dataset"
      ]
    },
    {
      "cell_type": "code",
      "metadata": {
        "colab": {
          "resources": {
            "http://localhost:8080/nbextensions/google.colab/files.js": {
              "data": "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",
              "ok": true,
              "headers": [
                [
                  "content-type",
                  "application/javascript"
                ]
              ],
              "status": 200,
              "status_text": ""
            }
          },
          "base_uri": "https://localhost:8080/",
          "height": 72
        },
        "id": "Rz6oNY6Xfoe1",
        "outputId": "560fde8e-b665-46f3-a6bf-86f1158f94a4"
      },
      "source": [
        "from google.colab import files\n",
        "uploaded = files.upload()"
      ],
      "execution_count": null,
      "outputs": [
        {
          "output_type": "display_data",
          "data": {
            "text/html": [
              "\n",
              "     <input type=\"file\" id=\"files-a4535eba-13cb-40cf-bea8-cb869d9f6a15\" name=\"files[]\" multiple disabled\n",
              "        style=\"border:none\" />\n",
              "     <output id=\"result-a4535eba-13cb-40cf-bea8-cb869d9f6a15\">\n",
              "      Upload widget is only available when the cell has been executed in the\n",
              "      current browser session. Please rerun this cell to enable.\n",
              "      </output>\n",
              "      <script src=\"/nbextensions/google.colab/files.js\"></script> "
            ],
            "text/plain": [
              "<IPython.core.display.HTML object>"
            ]
          },
          "metadata": {
            "tags": []
          }
        },
        {
          "output_type": "stream",
          "text": [
            "Saving cleanTarget.csv to cleanTarget.csv\n"
          ],
          "name": "stdout"
        }
      ]
    },
    {
      "cell_type": "code",
      "metadata": {
        "colab": {
          "base_uri": "https://localhost:8080/"
        },
        "id": "EeaZ53fd7a9E",
        "outputId": "6a2dffbd-6734-4b9d-8e49-f02b22f9218a"
      },
      "source": [
        "from google.colab import drive\n",
        "drive.mount('/content/drive')"
      ],
      "execution_count": null,
      "outputs": [
        {
          "output_type": "stream",
          "text": [
            "Mounted at /content/drive\n"
          ],
          "name": "stdout"
        }
      ]
    },
    {
      "cell_type": "code",
      "metadata": {
        "id": "16iIX-2NgDC7"
      },
      "source": [
        "import io\n",
        "df = pd.read_csv(io.BytesIO(uploaded['cleanTarget.csv']))"
      ],
      "execution_count": null,
      "outputs": []
    },
    {
      "cell_type": "code",
      "metadata": {
        "colab": {
          "base_uri": "https://localhost:8080/",
          "height": 204
        },
        "id": "z9ZNkBnlgep7",
        "outputId": "fd8790d5-7f1b-4ae3-a53b-9d4a85712ce7"
      },
      "source": [
        "df.head()"
      ],
      "execution_count": null,
      "outputs": [
        {
          "output_type": "execute_result",
          "data": {
            "text/html": [
              "<div>\n",
              "<style scoped>\n",
              "    .dataframe tbody tr th:only-of-type {\n",
              "        vertical-align: middle;\n",
              "    }\n",
              "\n",
              "    .dataframe tbody tr th {\n",
              "        vertical-align: top;\n",
              "    }\n",
              "\n",
              "    .dataframe thead th {\n",
              "        text-align: right;\n",
              "    }\n",
              "</style>\n",
              "<table border=\"1\" class=\"dataframe\">\n",
              "  <thead>\n",
              "    <tr style=\"text-align: right;\">\n",
              "      <th></th>\n",
              "      <th>Tweet</th>\n",
              "      <th>Class</th>\n",
              "      <th>Target</th>\n",
              "    </tr>\n",
              "  </thead>\n",
              "  <tbody>\n",
              "    <tr>\n",
              "      <th>0</th>\n",
              "      <td>.omg why are poc wearing fugly blue contacts s...</td>\n",
              "      <td>Non-Bullying</td>\n",
              "      <td>1</td>\n",
              "    </tr>\n",
              "    <tr>\n",
              "      <th>1</th>\n",
              "      <td>.Sorry but most of the runners popular right n...</td>\n",
              "      <td>Non-Bullying</td>\n",
              "      <td>1</td>\n",
              "    </tr>\n",
              "    <tr>\n",
              "      <th>2</th>\n",
              "      <td>.those jeans are hideous, and I?m afraid he?s ...</td>\n",
              "      <td>Non-Bullying</td>\n",
              "      <td>1</td>\n",
              "    </tr>\n",
              "    <tr>\n",
              "      <th>3</th>\n",
              "      <td>.I had to dress up for a presentation in class...</td>\n",
              "      <td>Non-Bullying</td>\n",
              "      <td>1</td>\n",
              "    </tr>\n",
              "    <tr>\n",
              "      <th>4</th>\n",
              "      <td>.Am I the only one who thinks justin bieber is...</td>\n",
              "      <td>Non-Bullying</td>\n",
              "      <td>1</td>\n",
              "    </tr>\n",
              "  </tbody>\n",
              "</table>\n",
              "</div>"
            ],
            "text/plain": [
              "                                               Tweet         Class  Target\n",
              "0  .omg why are poc wearing fugly blue contacts s...  Non-Bullying       1\n",
              "1  .Sorry but most of the runners popular right n...  Non-Bullying       1\n",
              "2  .those jeans are hideous, and I?m afraid he?s ...  Non-Bullying       1\n",
              "3  .I had to dress up for a presentation in class...  Non-Bullying       1\n",
              "4  .Am I the only one who thinks justin bieber is...  Non-Bullying       1"
            ]
          },
          "metadata": {
            "tags": []
          },
          "execution_count": 7
        }
      ]
    },
    {
      "cell_type": "code",
      "metadata": {
        "colab": {
          "base_uri": "https://localhost:8080/"
        },
        "id": "DdB85rw6gg-8",
        "outputId": "261d7fe4-18a2-46c3-a560-5b2a187b461b"
      },
      "source": [
        "df.Target.unique()"
      ],
      "execution_count": null,
      "outputs": [
        {
          "output_type": "execute_result",
          "data": {
            "text/plain": [
              "array([1, 0])"
            ]
          },
          "metadata": {
            "tags": []
          },
          "execution_count": 8
        }
      ]
    },
    {
      "cell_type": "code",
      "metadata": {
        "colab": {
          "base_uri": "https://localhost:8080/",
          "height": 265
        },
        "id": "g-v8hwPjguox",
        "outputId": "f5876a7d-e0df-4d9a-b8e6-bef745b1b01c"
      },
      "source": [
        "classes = df.Target.unique()\n",
        "counts = []\n",
        "\n",
        "for i in classes:\n",
        "  count = len(df[df.Target==i])\n",
        "  counts.append(count)\n",
        "\n",
        "plt.bar(['Non-Bullying', 'Bullying'], counts)\n",
        "plt.show()"
      ],
      "execution_count": null,
      "outputs": [
        {
          "output_type": "display_data",
          "data": {
            "image/png": "[encoded data removed]",
            "text/plain": [
              "<Figure size 432x288 with 1 Axes>"
            ]
          },
          "metadata": {
            "tags": [],
            "needs_background": "light"
          }
        }
      ]
    },
    {
      "cell_type": "markdown",
      "metadata": {
        "id": "smhPWsGsh6Jq"
      },
      "source": [
        "#Train/test split"
      ]
    },
    {
      "cell_type": "code",
      "metadata": {
        "id": "eb-FxQ7yhBZd"
      },
      "source": [
        "sample_size = int(len(df))\n",
        "sampleDf = df.sample(sample_size, random_state=23)\n",
        "x = sampleDf.Tweet.values\n",
        "y = sampleDf.Target.values\n",
        "x_train, x_test, y_train, y_test = train_test_split(x, y, test_size=0.20, random_state=32)"
      ],
      "execution_count": null,
      "outputs": []
    },
    {
      "cell_type": "markdown",
      "metadata": {
        "id": "qgbNTAssiPcP"
      },
      "source": [
        "#Label Encoding\n"
      ]
    },
    {
      "cell_type": "code",
      "metadata": {
        "id": "4J5IR1jOiJI0"
      },
      "source": [
        "encoder = LabelEncoder()\n",
        "encoder.fit(y)\n",
        "encoded_Y_test = encoder.transform(y_test)\n",
        "encoded_Y_train = encoder.transform(y_train)\n",
        "\n",
        "# convert integers to dummy variables (i.e. one hot encoded)\n",
        "dummy_y_test = np_utils.to_categorical(encoded_Y_test)\n",
        "dummy_y_train = np_utils.to_categorical(encoded_Y_train)"
      ],
      "execution_count": null,
      "outputs": []
    },
    {
      "cell_type": "markdown",
      "metadata": {
        "id": "PCjq66fmioLE"
      },
      "source": [
        "We might want to use encoding for later. For that we can save enconding map."
      ]
    },
    {
      "cell_type": "code",
      "metadata": {
        "id": "jjapnX-7iaW2"
      },
      "source": [
        "encoder_fname = 'twitter_classes.npy'\n",
        "my_wd = '/content/drive/MyDrive/twitter_sentiment_course/'\n",
        "np.save(os.path.join(my_wd, encoder_fname) , encoder.classes_)"
      ],
      "execution_count": null,
      "outputs": []
    },
    {
      "cell_type": "markdown",
      "metadata": {
        "id": "crfwOGdxnsJO"
      },
      "source": [
        "# Tokenization\n",
        "To tokenize our text we will use some functions from official.nlp.bert package and the pretrained BERT model itself.\n",
        "\n",
        "*   First we will get the BERT model.\n",
        "*   We will use the multilingual one as it will be best for most of your cases.\n",
        "\n"
      ]
    },
    {
      "cell_type": "code",
      "metadata": {
        "id": "N4ChsVE4j8t-"
      },
      "source": [
        "bert_layer = hub.KerasLayer(\"https://tfhub.dev/tensorflow/bert_multi_cased_L-12_H-768_A-12/2\",\n",
        "                            trainable=True)"
      ],
      "execution_count": null,
      "outputs": []
    },
    {
      "cell_type": "code",
      "metadata": {
        "id": "sxB7cTxwn1gE"
      },
      "source": [
        "vocab_file = bert_layer.resolved_object.vocab_file.asset_path.numpy()\n",
        "do_lower_case = bert_layer.resolved_object.do_lower_case.numpy()\n",
        "tokenizer = tokenization.FullTokenizer(vocab_file, do_lower_case)"
      ],
      "execution_count": null,
      "outputs": []
    },
    {
      "cell_type": "markdown",
      "metadata": {
        "id": "MZkWFw8qn9RV"
      },
      "source": [
        "We have loaded some variables using the bert_layer we have downloaded.\n",
        "\n",
        "* **vocab_file** reads the vocab file associated to the downloaded model.\n",
        "\n",
        "* **do_lower_case** reads binary variable which if True means tokenizer will reformat all text to lower case rendering model to be NOT case sensitive. Should be False by default.\n",
        "\n",
        "* **tokenizer** builds tokenizer using variables 1 and 2."
      ]
    },
    {
      "cell_type": "code",
      "metadata": {
        "colab": {
          "base_uri": "https://localhost:8080/"
        },
        "id": "_7sz-9bFn8ul",
        "outputId": "82d94781-ba50-4c22-c41a-64bcb122bbc2"
      },
      "source": [
        "do_lower_case"
      ],
      "execution_count": null,
      "outputs": [
        {
          "output_type": "execute_result",
          "data": {
            "text/plain": [
              "False"
            ]
          },
          "metadata": {
            "tags": []
          },
          "execution_count": 17
        }
      ]
    },
    {
      "cell_type": "markdown",
      "metadata": {
        "id": "O5lC3G2ooWPO"
      },
      "source": [
        "We need to add two additional tokens: Classification and Seperation. We will add these through functions we will use to tokenize our text."
      ]
    },
    {
      "cell_type": "code",
      "metadata": {
        "colab": {
          "base_uri": "https://localhost:8080/"
        },
        "id": "ZWTVcQhcoSgd",
        "outputId": "fd330251-35e9-4f9d-f3a8-23de815e26e4"
      },
      "source": [
        "tokenizer.convert_tokens_to_ids(['[CLS]', '[SEP]'])"
      ],
      "execution_count": null,
      "outputs": [
        {
          "output_type": "execute_result",
          "data": {
            "text/plain": [
              "[101, 102]"
            ]
          },
          "metadata": {
            "tags": []
          },
          "execution_count": 18
        }
      ]
    },
    {
      "cell_type": "markdown",
      "metadata": {
        "id": "hwes8qTyBFk6"
      },
      "source": [
        "Now we perform tokenization on the data"
      ]
    },
    {
      "cell_type": "code",
      "metadata": {
        "id": "1b7x0BUQodkc"
      },
      "source": [
        "def encode_names(n):\n",
        "   tokens = list(tokenizer.tokenize(n))\n",
        "   tokens.append('[SEP]')  # seperation token. Would be much more useful if you had a multiple text input.\n",
        "   return tokenizer.convert_tokens_to_ids(tokens)\n",
        "\n",
        "tweets = tf.ragged.constant([\n",
        "    encode_names(n) for n in x_train])"
      ],
      "execution_count": null,
      "outputs": []
    },
    {
      "cell_type": "code",
      "metadata": {
        "colab": {
          "base_uri": "https://localhost:8080/"
        },
        "id": "2IPVsj8DobOV",
        "outputId": "bd8e7647-60c3-450e-c44b-a52ef4653dbe"
      },
      "source": [
        "print('Tokenized Tweets shape', tweets.shape.as_list())"
      ],
      "execution_count": null,
      "outputs": [
        {
          "output_type": "stream",
          "text": [
            "Tokenized Tweets shape [852, None]\n"
          ],
          "name": "stdout"
        }
      ]
    },
    {
      "cell_type": "markdown",
      "metadata": {
        "id": "EtLWSkKaovc6"
      },
      "source": [
        "This is what our tweets have converted to."
      ]
    },
    {
      "cell_type": "code",
      "metadata": {
        "colab": {
          "base_uri": "https://localhost:8080/"
        },
        "id": "6ni6OkCSoo6y",
        "outputId": "9c4b2234-7858-48b4-ff4d-30419decdcb3"
      },
      "source": [
        "tweets[0]"
      ],
      "execution_count": null,
      "outputs": [
        {
          "output_type": "execute_result",
          "data": {
            "text/plain": [
              "<tf.Tensor: shape=(41,), dtype=int32, numpy=\n",
              "array([20386, 70197, 10129, 22153, 11178, 10464, 10479, 34481, 10171,\n",
              "       10105, 10751,   108, 14873, 41665, 11274, 10354, 10129, 11897,\n",
              "       10124,   169, 25831,   119,   119,   112,   117,   112, 17144,\n",
              "       10107, 47271, 11369, 18090, 30668, 20386, 10105, 14249, 25831,\n",
              "       20194, 92113, 80674,   119,   102], dtype=int32)>"
            ]
          },
          "metadata": {
            "tags": []
          },
          "execution_count": 21
        }
      ]
    },
    {
      "cell_type": "markdown",
      "metadata": {
        "id": "ifQonv5Po-X8"
      },
      "source": [
        "This is how tokenizer does the \"tokenizing\" for a single tweet."
      ]
    },
    {
      "cell_type": "code",
      "metadata": {
        "colab": {
          "base_uri": "https://localhost:8080/",
          "height": 35
        },
        "id": "pingMgJBo4D2",
        "outputId": "ac4d49c3-3455-4453-9186-4870111bd579"
      },
      "source": [
        "x_train[0]"
      ],
      "execution_count": null,
      "outputs": [
        {
          "output_type": "execute_result",
          "data": {
            "application/vnd.google.colaboratory.intrinsic+json": {
              "type": "string"
            },
            "text/plain": [
              "\"Rob Reiner says any one who watches the new #RoseanneBarr show is a Nazi ..', 'Lets ALL give ol Rob the anti Nazi patriot salut.\""
            ]
          },
          "metadata": {
            "tags": []
          },
          "execution_count": 22
        }
      ]
    },
    {
      "cell_type": "code",
      "metadata": {
        "colab": {
          "base_uri": "https://localhost:8080/"
        },
        "id": "46A_4zNTpBJR",
        "outputId": "42e0e399-134b-42e3-fc77-f6d3522d092f"
      },
      "source": [
        "\n",
        "tokenizedTweet = tokenizer.tokenize(x_train[0])\n",
        "for i in tokenizedTweet:\n",
        "  print(i, tokenizer.convert_tokens_to_ids([i]))"
      ],
      "execution_count": null,
      "outputs": [
        {
          "output_type": "stream",
          "text": [
            "Rob [20386]\n",
            "Reine [70197]\n",
            "##r [10129]\n",
            "says [22153]\n",
            "any [11178]\n",
            "one [10464]\n",
            "who [10479]\n",
            "watch [34481]\n",
            "##es [10171]\n",
            "the [10105]\n",
            "new [10751]\n",
            "# [108]\n",
            "Rose [14873]\n",
            "##anne [41665]\n",
            "##B [11274]\n",
            "##ar [10354]\n",
            "##r [10129]\n",
            "show [11897]\n",
            "is [10124]\n",
            "a [169]\n",
            "Nazi [25831]\n",
            ". [119]\n",
            ". [119]\n",
            "' [112]\n",
            ", [117]\n",
            "' [112]\n",
            "Let [17144]\n",
            "##s [10107]\n",
            "AL [47271]\n",
            "##L [11369]\n",
            "give [18090]\n",
            "ol [30668]\n",
            "Rob [20386]\n",
            "the [10105]\n",
            "anti [14249]\n",
            "Nazi [25831]\n",
            "pat [20194]\n",
            "##riot [92113]\n",
            "salut [80674]\n",
            ". [119]\n"
          ],
          "name": "stdout"
        }
      ]
    },
    {
      "cell_type": "markdown",
      "metadata": {
        "id": "re-Xfj-kpKTF"
      },
      "source": [
        "We still need to add classification token."
      ]
    },
    {
      "cell_type": "code",
      "metadata": {
        "colab": {
          "base_uri": "https://localhost:8080/",
          "height": 269
        },
        "id": "tQrYrazQpG2l",
        "outputId": "b637d000-7d2c-41e8-d73e-def170332943"
      },
      "source": [
        "\n",
        "cls = [tokenizer.convert_tokens_to_ids(['[CLS]'])]*tweets.shape[0]\n",
        "input_word_ids = tf.concat([cls, tweets], axis=-1)\n",
        "_ = plt.pcolormesh(input_word_ids[0:10].to_tensor())"
      ],
      "execution_count": null,
      "outputs": [
        {
          "output_type": "display_data",
          "data": {
            "image/png": "[encoded data removed]",
            "text/plain": [
              "<Figure size 432x288 with 1 Axes>"
            ]
          },
          "metadata": {
            "tags": [],
            "needs_background": "light"
          }
        }
      ]
    },
    {
      "cell_type": "markdown",
      "metadata": {
        "id": "h_fnjllvpda5"
      },
      "source": [
        "\n",
        "What you see above is a graphical representation of our tokenized tweets.\n",
        "* First token is our classification token.\n",
        "* Other colored blocks than background are other tokens.\n",
        "* And background that's just padding.\n",
        "\n",
        "**Mask and input type**\n",
        "The model expects two additional inputs:\n",
        "\n",
        "* The input mask\n",
        "* The input type\n",
        "\n",
        "The mask allows the model to cleanly differentiate between the content and the padding. The mask has the same shape as the input_word_ids, and contains a 1 anywhere the input_word_ids is not padding."
      ]
    },
    {
      "cell_type": "code",
      "metadata": {
        "colab": {
          "base_uri": "https://localhost:8080/"
        },
        "id": "Ox6jC5rBpRll",
        "outputId": "85206d4d-57bc-46ea-c23f-7b7475fafbbd"
      },
      "source": [
        "input_word_ids"
      ],
      "execution_count": null,
      "outputs": [
        {
          "output_type": "execute_result",
          "data": {
            "text/plain": [
              "<tf.RaggedTensor [[101, 20386, 70197, 10129, 22153, 11178, 10464, 10479, 34481, 10171, 10105, 10751, 108, 14873, 41665, 11274, 10354, 10129, 11897, 10124, 169, 25831, 119, 119, 112, 117, 112, 17144, 10107, 47271, 11369, 18090, 30668, 20386, 10105, 14249, 25831, 20194, 92113, 80674, 119, 102], [101, 11590, 63815, 88998, 13028, 171, 21511, 11195, 10124, 14444, 28088, 14336, 10350, 106, 112, 117, 107, 10377, 112, 187, 10146, 16065, 10146, 13028, 112, 22469, 15329, 10114, 22899, 20637, 10169, 10911, 136, 136, 30929, 12926, 131, 23267, 50292, 10797, 10874, 107, 166, 102], [101, 10772, 13028, 10301, 10105, 12541, 10550, 15127, 20104, 119, 112, 117, 112, 17116, 12373, 30455, 11315, 60036, 29846, 47798, 10123, 36110, 10689, 119, 102], [101, 119, 10117, 10751, 40162, 37830, 10124, 169, 43477, 48201, 20085, 119, 112, 117, 112, 10287, 40162, 14819, 136, 10323, 30181, 70157, 12676, 17427, 10108, 10105, 11005, 106140, 55291, 10107, 48628, 119, 102], [101, 11065, 15198, 11005, 106140, 119, 102], [101, 14864, 12976, 15626, 83109, 112, 10539, 10141, 97469, 112, 187, 45415, 10114, 10149, 119, 102], [101, 119, 138, 25831, 42169, 11231, 10124, 10950, 10336, 10155, 10105, 42331, 13448, 10146, 10689, 10106, 118, 20780, 119, 112, 117, 112, 10357, 31886, 14764, 15499, 118, 13448, 119, 112, 117, 107, 11740, 112, 188, 47715, 10271, 12820, 12373, 107, 166, 102], [101, 63118, 11131, 10107, 10978, 13028, 11178, 19594, 119, 112, 117, 112, 11065, 40949, 11223, 169, 49422, 169, 11371, 36390, 119, 112, 117, 112, 108, 12845, 10667, 11517, 10350, 11447, 68868, 10667, 108, 87377, 108, 171, 27863, 10115, 108, 23251, 119, 102], [101, 13486, 11490, 21051, 10162, 11090, 12659, 10410, 12852, 117, 10689, 112, 11639, 10472, 14923, 13051, 10160, 10435, 13028, 62893, 13167, 119, 107, 117, 107, 11696, 11019, 169, 13617, 10169, 29846, 112, 187, 17293, 10479, 176, 107, 166, 102], [101, 119, 11699, 93110, 108, 62098, 10107, 54234, 119, 191, 34189, 42507, 10263, 14321, 67420, 10114, 10464, 12864, 11740, 136, 188, 10347, 10151, 13935, 84569, 14535, 13028, 16938, 136, 188, 11850, 11152, 10149, 38753, 10537, 10240, 178, 119, 102], [101, 12489, 20562, 13028, 27874, 177, 10392, 19090, 14942, 12489, 187, 23722, 69423, 10107, 187, 82484, 12286, 12489, 187, 23722, 10380, 11031, 10114, 77596, 50622, 50653, 67779, 15633, 10206, 25831, 119, 102], [101, 13069, 10161, 177, 27874, 13028, 10301, 10105, 35688, 37023, 10911, 169, 62893, 13167, 117, 12375, 119, 119, 102], [101, 119, 12489, 16260, 138, 11741, 76507, 41203, 10525, 119, 119, 15105, 14535, 11065, 17316, 19372, 20304, 76797, 23203, 14535, 11065, 26538, 108, 188, 92507, 108, 11264, 58916, 108, 37241, 100032, 108, 45581, 16105, 108, 12211, 10240, 119, 102], [101, 119, 11783, 10526, 20758, 19153, 119, 102], [101, 119, 11065, 21852, 12676, 11426, 10479, 27874, 10689, 21852, 42536, 10111, 10841, 13028, 31638, 10529, 10151, 44870, 117, 10689, 23763, 11023, 10113, 10111, 27920, 89358, 10162, 10271, 87147, 10107, 136, 119, 102], [101, 12604, 10483, 10575, 12277, 146, 165, 112, 181, 169, 107, 171, 10908, 51382, 10157, 107, 14535, 15127, 68478, 52824, 10123, 10189, 15838, 146, 165, 112, 181, 45041, 171, 10908, 117, 11005, 11263, 13028, 119, 102], [101, 15517, 34926, 10894, 14794, 10347, 10151, 54616, 94367, 10108, 83109, 119, 36408, 10111, 10684, 31075, 12820, 10146, 67622, 166, 102], [101, 156, 10686, 99596, 11517, 10686, 10703, 10124, 169, 38367, 10123, 13935, 15293, 11005, 72453, 17684, 10269, 119, 112, 117, 112, 54214, 136, 119, 102], [101, 47430, 10738, 81012, 12489, 169, 12211, 10240, 10406, 10161, 119, 102], [101, 15637, 12172, 49307, 11090, 55766, 14526, 169, 23103, 11915, 10106, 56586, 13966, 11281, 12775, 119, 112, 117, 112, 10167, 18638, 117, 10271, 10134, 10798, 10108, 10105, 35598, 119, 112, 117, 112, 14962, 119, 102], [101, 14812, 16903, 117, 64016, 10157, 37013, 16490, 10350, 55526, 119, 13483, 98091, 32262, 78444, 10491, 14909, 11005, 11263, 10149, 11231, 10190, 31444, 16466, 119, 112, 117, 112, 61463, 61565, 41549, 10116, 119, 102], [101, 138, 17307, 10108, 10551, 11426, 10160, 108, 40038, 11517, 16883, 13091, 119, 112, 117, 112, 11340, 10374, 169, 21783, 10106, 32596, 90847, 10111, 51232, 169, 26794, 10106, 13145, 10108, 19616, 10453, 98800, 10426, 13956, 10350, 119, 102], [101, 10820, 10192, 38078, 11131, 10107, 10978, 20442, 32282, 16106, 119, 11065, 30181, 14819, 12820, 23819, 20442, 42213, 70323, 10111, 10472, 48201, 10133, 119, 102], [101, 148, 100025, 17609, 10393, 10978, 10197, 13463, 10107, 10169, 10957, 10261, 47798, 136, 188, 23595, 24087, 119, 112, 117, 112, 13252, 10301, 11264, 119, 102], [101, 11440, 10124, 10380, 11005, 72453, 41626, 38367, 10123, 119, 102], [101, 10211, 56011, 10908, 10473, 13028, 10301, 10151, 14012, 35350, 21181, 19648, 11290, 119, 102], [101, 16680, 101813, 10376, 29005, 10410, 28739, 63005, 10114, 98792, 10124, 10151, 11419, 66390, 56299, 27920, 104277, 10230, 99304, 12536, 11809, 10108, 10105, 156, 10758, 12257, 119, 112, 117, 112, 98792, 117, 71884, 14355, 174, 119, 102], [101, 183, 20324, 70323, 10105, 11005, 11263, 10741, 117, 177, 19090, 10114, 63658, 117, 10155, 10112, 17982, 13275, 54892, 21322, 10107, 106, 106, 106, 106, 119, 102], [101, 119, 136, 10377, 10134, 10464, 10108, 12676, 10940, 39709, 38278, 10169, 10105, 21905, 10108, 10131, 69966, 36120, 66679, 16460, 10106, 10271, 117, 10189, 13028, 11387, 10678, 15130, 11598, 10345, 174, 119, 102], [101, 119, 13924, 12277, 146, 136, 172, 22591, 10114, 12807, 136, 22620, 10174, 136, 17427, 10108, 136, 11005, 11263, 136, 146, 136, 11005, 72453, 136, 10894, 136, 10323, 106, 112, 117, 112, 119, 17216, 117, 20517, 32862, 10114, 71194, 15127, 58945, 10111, 119, 102], [101, 14535, 13028, 112, 11639, 169, 75980, 10157, 10479, 84992, 10105, 108, 11589, 11090, 22659, 17123, 10124, 102324, 13028, 10188, 58768, 82856, 10230, 117, 10271, 112, 187, 14128, 13028, 10309, 14794, 14012, 10161, 102], [101, 30514, 10176, 16738, 117, 13015, 51485, 10131, 17364, 136, 11617, 61578, 11460, 119, 112, 117, 107, 24170, 26006, 11378, 78898, 172, 112, 41448, 10129, 10141, 20157, 136, 23005, 29092, 10176, 80211, 136, 10794, 43955, 180, 136, 107, 166, 102], [101, 30929, 19527, 10108, 10531, 10124, 10106, 46968, 14526, 131, 107, 13190, 119, 119, 119, 10529, 169, 17981, 59995, 30151, 131, 59995, 30151, 10124, 52812, 10133, 119, 102], [101, 160, 12396, 14703, 134, 153, 98348, 11259, 143, 38850, 109166, 32949, 10105, 11324, 107, 148, 50655, 93280, 11490, 14703, 107, 10261, 10157, 10105, 27818, 13596, 18299, 10380, 13172, 14807, 10237, 117, 12888, 10105, 28780, 10136, 10269, 10108, 75151, 119, 102], [101, 43707, 13820, 11127, 18239, 11127, 11481, 28803, 83109, 11841, 15127, 64519, 10112, 119, 166, 102], [101, 11696, 17603, 10106, 11471, 10706, 10229, 54892, 10457, 13935, 119, 102], [101, 13028, 52523, 10301, 10151, 19648, 11290, 119, 112, 117, 112, 13924, 10147, 12647, 68971, 10741, 10135, 55457, 11223, 12811, 119, 119, 102], [101, 19431, 13051, 10454, 146, 136, 181, 10380, 13172, 18322, 11059, 13028, 10106, 14234, 13170, 10111, 10189, 136, 187, 31237, 13028, 16138, 10911, 10380, 13172, 10380, 20517, 10840, 20825, 10230, 15127, 41833, 10188, 10452, 119, 102], [101, 119, 17101, 39709, 34321, 57173, 19478, 10135, 19214, 10155, 10189, 28780, 90695, 10162, 55488, 31271, 119, 13486, 13034, 19503, 11537, 96666, 119, 112, 117, 112, 15380, 118, 146, 10392, 35472, 10454, 10798, 75856, 117, 27925, 22451, 117, 169, 119, 102], [101, 17056, 106140, 136, 117, 14516, 10147, 136, 117, 11065, 10551, 136, 86362, 10756, 119, 119, 119, 119, 119, 102], [101, 119, 119, 27956, 47125, 10269, 11065, 99045, 10123, 10105, 19471, 54892, 21322, 10107, 119, 112, 117, 112, 37182, 169, 17895, 19648, 11290, 119, 119, 102], [101, 12689, 31237, 10149, 13028, 11131, 12976, 146, 23763, 136, 136, 136, 117, 13069, 10161, 59148, 11850, 13028, 10529, 169, 171, 60796, 13028, 54910, 16740, 44271, 10240, 119, 102], [101, 136, 115, 160, 68999, 11369, 146, 160, 38025, 47271, 10731, 11403, 23837, 41275, 59879, 34065, 100061, 58573, 11403, 46291, 46900, 32612, 11259, 100061, 98038, 46291, 138, 139, 37611, 23240, 138, 139, 37611, 86448, 30554, 89275, 10731, 71020, 146, 157, 12396, 11403, 12022, 11447, 81012, 117, 25000, 100061, 138, 119, 102], [101, 12882, 10689, 13383, 10114, 12253, 12485, 10111, 19556, 12493, 11912, 10169, 77650, 10111, 41960, 37627, 117, 50825, 23457, 10454, 31881, 11850, 10689, 112, 11639, 102], [101, 10117, 12931, 30181, 10393, 169, 15626, 83109, 10817, 112, 102], [101, 11426, 31311, 169, 19826, 10108, 57667, 10123, 10978, 18689, 75284, 51163, 169, 22464, 10108, 17920, 10135, 10151, 11357, 66679, 99596, 46267, 10112, 43678, 21783, 10473, 10119, 23044, 14212, 10216, 119, 102], [101, 26918, 10108, 13028, 10114, 11760, 20442, 13872, 69428, 11850, 10189, 117, 10473, 10105, 107, 10380, 13028, 112, 11639, 24625, 10230, 107, 10446, 59077, 10112, 47798, 112, 188, 15329, 11178, 171, 10246, 166, 102], [101, 119, 10747, 14923, 13051, 10454, 59148, 12211, 10550, 117, 10473, 12277, 13028, 136, 11639, 169, 64519, 10112, 10111, 10531, 10124, 14796, 13028, 10529, 10114, 15329, 13190, 20648, 42658, 10112, 87147, 10107, 119, 102], [101, 11515, 13450, 11898, 119, 102], [101, 59865, 13028, 10149, 20442, 37655, 10169, 15306, 20585, 26536, 10147, 10111, 11841, 11033, 28473, 13397, 136, 119, 102], [101, 17101, 12947, 11195, 26767, 10108, 57667, 10123, 38367, 10123, 10479, 112, 187, 34875, 11898, 10135, 34875, 10485, 11005, 72453, 13935, 84569, 106194, 10115, 43084, 102], [101, 14925, 10253, 146, 10134, 32862, 10114, 10347, 46267, 10112, 117, 16976, 13028, 10301, 169, 11005, 72453, 62893, 13167, 119, 112, 117, 112, 22036, 10105, 12356, 43612, 119, 102], [101, 10377, 105315, 10841, 13028, 10301, 10151, 19648, 11290, 119, 119, 119, 102], [101, 14535, 13028, 10301, 169, 35343, 25613, 62893, 13167, 10531, 10124, 20442, 188, 83648, 11912, 64988, 119, 117, 12492, 10924, 12898, 70838, 10165, 30272, 10155, 10551, 34174, 30931, 10107, 22206, 119, 102], [101, 107, 146, 112, 181, 169, 27728, 10230, 37013, 16490, 10350, 56237, 75447, 12023, 49775, 21688, 13499, 55526, 119, 107, 117, 112, 146, 11250, 10112, 15127, 43310, 119, 119, 102], [101, 88002, 54214, 10114, 12888, 10798, 12464, 33740, 10978, 14249, 38443, 36967, 10147, 117, 10840, 86074, 10189, 11155, 10124, 10151, 15557, 10111, 10189, 10271, 10124, 26133, 11951, 10944, 119, 102], [101, 103014, 22024, 16796, 13028, 10301, 169, 67952, 32650, 23923, 11945, 17835, 10446, 19113, 62893, 13167, 119, 102], [101, 11916, 13820, 10263, 10154, 169, 29094, 10104, 186, 136, 174, 136, 63256, 10419, 180, 136, 10322, 17070, 62020, 10216, 12511, 56937, 12511, 10453, 10350, 136, 10141, 10426, 30112, 10570, 20157, 136, 23005, 29092, 23680, 67912, 65074, 51357, 119, 102], [101, 13307, 18527, 40852, 10301, 10380, 19118, 117, 11850, 39121, 10115, 13028, 10347, 61362, 10406, 17608, 10157, 10146, 11005, 11263, 10473, 13028, 136, 11639, 10472, 30181, 24087, 10473, 20442, 20506, 10133, 171, 119, 102], [101, 41503, 15616, 10271, 136, 187, 10531, 10414, 38541, 23005, 10115, 75516, 15616, 119, 102], [101, 10192, 14054, 10345, 28387, 117, 87147, 10107, 17684, 10269, 117, 11005, 11263, 13028, 136, 144, 73522, 11369, 11094, 11259, 46291, 50655, 80047, 14703, 50183, 47855, 11517, 11537, 136, 136, 136, 136, 119, 102], [101, 10747, 11337, 10262, 10165, 13028, 10741, 131, 119, 102], [101, 17749, 144, 97417, 10115, 10124, 169, 21047, 54892, 21322, 10107, 10142, 77027, 169, 15198, 20652, 10165, 119, 112, 117, 112, 11065, 14794, 21852, 13028, 17367, 169, 119, 102], [101, 119, 58804, 131, 107, 160, 17394, 17394, 17394, 17394, 10237, 119, 112, 117, 112, 12689, 10379, 117, 146, 165, 112, 181, 21484, 48366, 10105, 12153, 10142, 10105, 13448, 48448, 10708, 169, 25831, 12253, 58821, 119, 107, 112, 117, 112, 103014, 117, 29694, 119, 102], [101, 11065, 10301, 11049, 10151, 19648, 11290, 117, 25157, 10160, 16073, 15329, 16406, 27382, 28447, 10226, 11813, 119, 102], [101, 146, 16938, 136, 188, 10529, 10635, 10114, 12796, 31862, 10978, 10105, 17781, 10105, 16711, 28615, 10911, 119, 112, 117, 112, 146, 136, 22469, 21964, 10105, 17781, 10142, 10105, 149, 33893, 177, 19282, 26928, 119, 119, 102], [101, 119, 53542, 16666, 10107, 10301, 41807, 10712, 30455, 10491, 42176, 19986, 10107, 10111, 30811, 10106, 58285, 10160, 11393, 119, 112, 117, 112, 15380, 13028, 15217, 10950, 119, 14957, 11274, 95898, 10107, 12674, 12674, 12674, 10169, 169, 119, 102], [101, 119, 156, 45238, 10950, 10114, 10105, 27986, 17030, 10165, 10479, 52072, 15127, 12748, 10473, 24666, 11155, 10134, 16683, 13172, 28950, 13397, 10111, 20585, 26536, 10147, 10106, 10271, 119, 119, 119, 119, 119, 102], [101, 119, 87589, 10124, 30181, 27920, 30809, 10950, 10135, 11152, 11426, 10531, 10924, 10111, 146, 107761, 136, 188, 10347, 11005, 72453, 10228, 36651, 10165, 117, 24474, 13028, 13448, 11023, 38367, 10123, 119, 102], [101, 119, 146, 11019, 10741, 52158, 10123, 20758, 19153, 117, 10473, 10472, 109138, 20758, 19153, 119, 119, 102], [101, 119, 87845, 10113, 12396, 71874, 10107, 12489, 169, 149, 21793, 24093, 10833, 10124, 119, 112, 117, 112, 35936, 87845, 10113, 10301, 13028, 16382, 10114, 15626, 83109, 80203, 10238, 136, 119, 102], [101, 18465, 26482, 17850, 99045, 112, 188, 10146, 13172, 169, 10173, 63952, 11046, 18077, 117, 10146, 10689, 10301, 10151, 13935, 84569, 18077, 119, 107, 117, 112, 11065, 75980, 12682, 17367, 10114, 27874, 17555, 10105, 21509, 119, 119, 102], [101, 146, 27874, 13028, 10301, 10120, 37249, 74062, 10105, 18077, 10155, 10120, 37249, 74062, 10105, 11426, 119, 112, 117, 112, 16040, 131, 10108, 10208, 12464, 119, 102], [101, 109022, 10237, 16745, 10414, 25749, 16938, 136, 188, 23763, 169, 12307, 119, 102], [101, 40690, 117, 10155, 10435, 17574, 119, 112, 117, 107, 11740, 112, 188, 87672, 10870, 26133, 56126, 119, 107, 117, 112, 17116, 17860, 26133, 10114, 27920, 94666, 13028, 10188, 10271, 119, 112, 117, 107, 158, 10237, 117, 10189, 47798, 112, 188, 11424, 119, 107, 117, 112, 108, 94566, 21322, 10107, 119, 102], [101, 101270, 10136, 31162, 52750, 16219, 136, 112, 117, 112, 10657, 119, 112, 117, 112, 11696, 10301, 36627, 10230, 10114, 18090, 10741, 16691, 10319, 10124, 10105, 35598, 10108, 27920, 10136, 31162, 119, 102], [101, 17244, 10108, 19626, 10135, 10105, 17119, 12153, 10301, 37241, 119, 112, 117, 107, 12865, 16938, 112, 188, 13086, 19555, 10142, 22907, 35772, 10419, 10106, 17446, 13354, 136, 136, 107, 166, 102], [101, 10747, 33311, 10124, 10380, 11859, 80092, 10111, 23602, 36064, 11236, 119, 112, 117, 112, 56965, 10124, 32943, 13127, 119, 112, 117, 112, 38571, 65571, 10124, 23908, 10146, 136, 22907, 11679, 119, 102], [101, 15925, 10230, 10741, 10226, 29330, 13855, 10147, 117, 37501, 10189, 19867, 37549, 38367, 10123, 10479, 10261, 10107, 11005, 72453, 10169, 119, 102], [101, 119, 119, 67952, 11195, 14084, 12355, 11305, 131, 17116, 10374, 169, 59946, 18666, 10114, 10735, 117, 10524, 119, 112, 117, 112, 146, 10134, 10106, 15021, 117, 12775, 10111, 10374, 169, 13173, 37861, 10129, 80870, 15127, 81050, 10491, 15127, 13578, 21044, 20780, 187, 119, 102], [101, 107, 107879, 10738, 11403, 25157, 10160, 10531, 37013, 16490, 10350, 16745, 25831, 40486, 102117, 119, 107, 112, 117, 112, 13924, 24109, 10350, 10108, 107, 40486, 102117, 107, 131, 79657, 21610, 117, 16626, 34279, 75980, 10157, 119, 112, 117, 112, 13924, 119, 102], [101, 17116, 169, 11639, 14956, 11304, 10978, 10105, 138, 48798, 65014, 10147, 11127, 10567, 10418, 117, 11847, 10741, 10114, 80739, 117, 23867, 10111, 11846, 24310, 21158, 10108, 13702, 118, 11610, 22907, 35772, 10419, 117, 27224, 119, 102], [101, 10747, 21047, 11795, 23886, 10240, 27993, 11949, 47798, 112, 188, 13086, 13028, 52586, 15774, 117, 10271, 20562, 13028, 169, 46960, 16105, 119, 107, 117, 107, 146, 16938, 112, 188, 11131, 10479, 13028, 10301, 102], [101, 119, 94566, 21322, 10107, 11791, 19995, 119, 119, 102], [101, 119, 146, 136, 10323, 10590, 43977, 11426, 10135, 22329, 15647, 10114, 18908, 97586, 10342, 10315, 11544, 10434, 84081, 10901, 10169, 146, 16938, 136, 188, 21852, 12976, 22282, 10113, 10931, 119, 102], [101, 146, 112, 22469, 27916, 13028, 10741, 11850, 10105, 78006, 13028, 10301, 10111, 28780, 45726, 15127, 22185, 67952, 11170, 11263, 10741, 20442, 42213, 117, 10111, 77586, 64825, 11005, 11263, 13028, 11850, 169, 32290, 18882, 102], [101, 20593, 31237, 65000, 112, 188, 13028, 59379, 15127, 36847, 10111, 11552, 10911, 169, 19867, 37549, 41960, 11023, 102], [101, 18082, 11517, 21171, 11369, 59464, 10124, 12796, 24874, 10336, 119, 112, 117, 112, 107, 146, 50725, 11951, 10944, 18500, 10105, 12954, 12436, 119, 119, 119, 107, 101262, 14206, 13170, 13028, 10111, 66003, 10245, 16466, 119, 102], [101, 93951, 13028, 71770, 31464, 119, 102], [101, 79076, 10341, 13028, 34420, 112, 188, 49151, 31237, 13028, 10309, 16091, 24310, 10169, 171, 10157, 12212, 118, 31881, 10114, 11760, 10105, 183, 37676, 18655, 10111, 10149, 20442, 54892, 21322, 10107, 11161, 10317, 38593, 48201, 23760, 10410, 55170, 10174, 26794, 102], [101, 14535, 13028, 27874, 10189, 39806, 10107, 99045, 112, 188, 169, 41256, 117, 13028, 10301, 10151, 19648, 11290, 119, 107, 117, 112, 11340, 10893, 28615, 10114, 25157, 10160, 10105, 11914, 15911, 10114, 179, 119, 102], [101, 63118, 11131, 10107, 35556, 117, 13028, 37013, 16490, 10350, 55526, 119, 119, 102], [101, 10117, 11259, 16815, 10731, 52743, 119, 87845, 10113, 12396, 71874, 10107, 103014, 117, 169, 43509, 14985, 26767, 10108, 57667, 10123, 119, 112, 117, 112, 11065, 18957, 10485, 12541, 10550, 10978, 34248, 10105, 12811, 10134, 174, 119, 102], [101, 10657, 10464, 45769, 10114, 12888, 12676, 11005, 106140, 124, 11090, 99345, 10107, 136, 102], [101, 74830, 19083, 10684, 18922, 12464, 10529, 10379, 12415, 10261, 136, 187, 10151, 13935, 84569, 17555, 10108, 10271, 16683, 119, 112, 117, 112, 75980, 22094, 10271, 23005, 119, 102], [101, 11469, 28439, 10271, 10741, 131, 107, 146, 165, 112, 181, 10135, 188, 56082, 10877, 117, 10473, 146, 10893, 21528, 10114, 62064, 72773, 13213, 10114, 27546, 119, 112, 117, 112, 146, 11250, 10112, 10978, 13877, 10108, 10105, 10392, 13227, 10350, 119, 102], [101, 14535, 13028, 112, 11639, 169, 75980, 10157, 10479, 84992, 10105, 108, 11589, 11090, 22659, 17123, 10124, 102324, 13028, 10188, 58768, 82856, 10230, 117, 10271, 112, 187, 14128, 13028, 10309, 14794, 24376, 58768, 82856, 10230, 102], [101, 13073, 23627, 10135, 18745, 112, 187, 23954, 52522, 11203, 106, 107, 117, 112, 10243, 107073, 10105, 18078, 13028, 15626, 83109, 15050, 12720, 119, 119, 102], [101, 10882, 169, 10817, 27874, 10107, 10106, 10226, 21736, 117, 10380, 10261, 10124, 119, 117, 11065, 10301, 169, 62893, 13167, 12277, 11916, 44830, 10124, 20442, 25537, 13275, 10174, 10142, 15198, 107867, 119, 102], [101, 10190, 30409, 10567, 119, 119, 119, 119, 119, 119, 119, 119, 119, 119, 119, 119, 119, 119, 119, 119, 119, 119, 119, 119, 119, 119, 119, 119, 119, 10192, 38078, 11131, 10107, 10978, 169, 12121, 10113, 33250, 12898, 17381, 32282, 10135, 25674, 117, 12103, 176, 119, 102], [101, 119, 32588, 10336, 10135, 10117, 11848, 10662, 10422, 14320, 117, 169, 13474, 14687, 10135, 23247, 11121, 37382, 10111, 13596, 22907, 35772, 10419, 119, 119, 102], [101, 119, 174, 93089, 11733, 100061, 149, 11403, 63310, 71020, 41525, 77836, 119, 102], [101, 119, 16226, 11733, 91240, 10161, 11369, 11942, 12976, 169, 43509, 14985, 26767, 10108, 57667, 10123, 13028, 10301, 117, 39340, 18322, 36833, 10230, 10135, 17446, 12128, 14005, 119, 102], [101, 119, 12676, 10144, 15008, 10301, 96935, 13499, 117, 10111, 146, 136, 181, 10452, 89025, 10261, 136, 187, 28870, 10105, 19192, 14903, 10108, 12676, 11005, 106140, 35234, 78689, 10107, 136, 136, 102], [101, 56085, 14548, 150, 10350, 11447, 38849, 74569, 20585, 26536, 10147, 10111, 24089, 36192, 109969, 54960, 10107, 10106, 169, 11376, 14320, 12796, 10874, 119, 102], [101, 146, 27874, 10271, 112, 187, 10635, 10114, 11639, 60582, 11759, 20585, 26536, 10147, 10188, 10105, 31991, 10107, 118, 12676, 10479, 31638, 10114, 10120, 37249, 13264, 13190, 112, 187, 86773, 10155, 10173, 10575, 16698, 102], [101, 119, 12689, 11858, 11155, 10107, 11850, 10197, 11426, 27445, 10245, 10464, 40247, 15127, 174, 10457, 14042, 10171, 10124, 36846, 11345, 161, 11490, 14235, 13569, 104700, 13086, 10911, 109628, 87683, 119, 102], [101, 24781, 10894, 10115, 136, 188, 10689, 136, 112, 117, 112, 11696, 10309, 12014, 16988, 15626, 83109, 43934, 18121, 12867, 119, 102], [101, 119, 44271, 89270, 19534, 10124, 11610, 10135, 80468, 11090, 11090, 14703, 139, 11403, 98348, 58719, 11403, 19088, 75151, 38025, 10731, 35248, 86491, 11918, 15446, 10160, 10105, 38194, 19220, 117, 10105, 40503, 11143, 19220, 32784, 11195, 55427, 46542, 119, 102], [101, 14925, 10253, 117, 146, 112, 181, 10944, 18974, 10206, 10146, 11206, 119, 107, 117, 107, 11038, 14985, 13028, 10301, 21543, 11152, 52743, 117, 11059, 10271, 112, 187, 10472, 13961, 119, 107, 117, 112, 13888, 119, 102], [101, 13028, 11031, 10105, 186, 12307, 10841, 32862, 10114, 41549, 10911, 10211, 10231, 87150, 22525, 10211, 191, 110151, 19308, 12820, 21964, 54892, 21322, 10107, 10211, 10491, 10531, 36847, 119, 102], [101, 14535, 10689, 34420, 136, 188, 21528, 10114, 10347, 11552, 169, 11783, 10526, 20758, 19153, 117, 10689, 10894, 10115, 136, 188, 41833, 57654, 20182, 11005, 72453, 10105, 11783, 10526, 119, 119, 102], [101, 13554, 22185, 108, 15263, 38821, 10157, 10139, 10165, 13136, 169, 22185, 108, 15045, 13098, 11263, 10111, 13028, 10301, 34875, 10271, 117, 108, 78006, 119, 51635, 21454, 20442, 67952, 10456, 10341, 12014, 10135, 108, 52710, 102], [101, 55568, 16272, 17367, 10189, 27949, 10380, 10689, 11367, 136, 188, 25157, 81708, 117, 15858, 51818, 117, 111, 10392, 10410, 132, 17339, 13149, 16219, 10142, 99996, 33740, 10135, 13028, 111, 10392, 10410, 132, 10472, 31391, 169, 119, 102], [101, 13062, 13028, 10301, 169, 37013, 16490, 10350, 15607, 14908, 119, 112, 117, 107, 14439, 12014, 10114, 10105, 10832, 112, 187, 55526, 10105, 29846, 17767, 10124, 19090, 10114, 25520, 10491, 13028, 119, 107, 166, 102], [101, 87339, 10142, 10189, 13123, 34420, 10123, 10549, 161, 11490, 108, 57942, 10858, 18995, 11090, 35906, 119, 102], [101, 12489, 10151, 40699, 119, 112, 117, 112, 27567, 11424, 10114, 10149, 10114, 36040, 11250, 10112, 10111, 22907, 35772, 10419, 10106, 10435, 10474, 19639, 108, 55640, 27521, 11565, 10667, 10738, 11231, 11403, 10575, 12022, 10107, 119, 102], [101, 14535, 13028, 17367, 62893, 12577, 17137, 117, 20517, 11639, 11710, 86257, 10240, 12211, 10550, 12541, 21885, 10111, 12820, 12839, 10123, 11152, 12211, 10550, 12796, 10550, 28780, 45726, 69857, 53624, 20585, 26536, 10147, 119, 119, 102], [101, 49307, 11273, 79443, 11259, 131, 19353, 136, 187, 15127, 17835, 35119, 119, 112, 117, 112, 12242, 23433, 146, 15329, 10105, 20169, 13264, 10114, 11783, 10950, 10261, 15107, 10531, 54214, 20412, 157, 13034, 37611, 99552, 80468, 39469, 30118, 131, 10189, 17835, 10124, 119, 102], [101, 143, 20584, 11783, 10526, 20758, 19153, 106, 119, 102], [101, 23837, 25054, 28895, 50655, 11090, 80047, 72679, 11127, 40214, 26889, 34065, 160, 58132, 11090, 17443, 10660, 10731, 23837, 37079, 90569, 11490, 109544, 10462, 162, 36789, 39469, 52428, 110014, 11490, 49307, 109166, 50183, 119, 119, 100061, 50884, 11259, 50972, 17421, 64091, 39272, 11259, 119, 102], [101, 119, 10377, 136, 187, 48989, 16780, 10251, 10114, 12888, 10105, 119, 10117, 10738, 57814, 95066, 34778, 58445, 29331, 29087, 11371, 11783, 14569, 31877, 15398, 10114, 10105, 25831, 11520, 10612, 21133, 10108, 10105, 12153, 119, 119, 102], [101, 119, 11399, 14234, 37013, 16490, 10350, 55526, 10950, 11155, 17446, 22274, 10393, 13433, 124, 120, 125, 14772, 23500, 10189, 20241, 15127, 21736, 10169, 50725, 138, 20648, 42658, 12101, 188, 119, 102], [101, 119, 10105, 11783, 10526, 20758, 19153, 10479, 11019, 10531, 12748, 108, 75349, 61432, 11033, 95659, 119, 102], [101, 11206, 61694, 10133, 11155, 106, 112, 117, 112, 131, 13400, 10112, 47499, 11396, 119, 102], [101, 119, 43106, 25831, 58575, 10106, 30826, 125, 120, 10296, 119, 112, 117, 112, 107034, 10107, 32290, 119, 102], [101, 10377, 10134, 11552, 72076, 109371, 54892, 21322, 10107, 119, 119, 102], [101, 119, 21212, 28756, 10729, 119, 112, 117, 112, 11149, 21937, 10911, 10978, 10455, 17850, 10111, 11059, 37303, 10911, 10108, 32862, 10114, 17954, 10107, 10741, 10485, 19808, 119, 112, 117, 112, 136, 136, 139, 37611, 86448, 162, 32002, 11369, 119, 102], [101, 11830, 16900, 10107, 10529, 169, 92379, 10454, 17981, 83109, 11084, 12136, 10107, 118, 15127, 56874, 11046, 10124, 10105, 21912, 10108, 15769, 18007, 166, 102], [101, 146, 27874, 10105, 11250, 15711, 111, 22907, 35772, 10419, 10134, 19540, 11155, 111, 10392, 10410, 132, 10105, 18938, 10393, 12820, 53305, 10271, 10798, 26874, 10161, 119, 102], [101, 119, 38508, 23804, 23804, 10237, 10237, 146, 50725, 10464, 11940, 146, 10944, 10529, 15127, 101990, 16868, 10911, 17427, 10108, 14616, 10160, 169, 11005, 11263, 10146, 23627, 119, 112, 117, 112, 139, 14985, 10741, 10114, 13028, 10817, 106, 119, 102], [101, 60082, 10107, 10854, 11263, 119, 102], [101, 11065, 10301, 169, 11005, 72453, 62893, 13167, 119, 119, 119, 64519, 10112, 175, 10123, 21330, 10105, 18938, 10406, 10161, 119, 112, 117, 112, 57934, 119, 102], [101, 146, 10944, 136, 188, 36761, 33573, 30455, 10479, 136, 187, 10472, 10146, 12142, 10454, 66625, 10146, 10911, 119, 112, 117, 112, 193, 136, 10435, 10347, 33573, 11426, 10169, 102245, 48213, 10107, 18095, 15034, 170, 119, 102], [101, 87519, 169, 21760, 117, 10301, 13028, 22807, 10117, 19766, 34615, 10124, 169, 98453, 101695, 15127, 11143, 136, 117, 43027, 15895, 11195, 187, 30656, 40022, 11747, 117, 188, 119, 102], [101, 10657, 11951, 10301, 10472, 117, 16976, 13028, 10301, 169, 14025, 48775, 12141, 98453, 101695, 10201, 11263, 69460, 10263, 119, 119, 102], [101, 146, 16138, 117, 16138, 117, 16138, 10189, 20442, 10149, 25905, 10157, 117, 90362, 17616, 117, 11170, 16988, 10454, 117, 43365, 10546, 117, 69191, 10369, 24769, 14079, 117, 62893, 10567, 118, 21958, 117, 82568, 118, 19067, 119, 102], [101, 52158, 10123, 20758, 19153, 117, 69110, 57667, 10123, 10111, 10128, 119, 102], [101, 10377, 22153, 12676, 10479, 10529, 10151, 83109, 10108, 12048, 10345, 16038, 10944, 12888, 10218, 65788, 10107, 119, 112, 117, 112, 146, 10893, 17112, 128, 10160, 10422, 119, 102], [101, 60082, 10107, 192, 119, 102], [101, 17244, 10108, 10105, 15624, 11418, 20252, 10106, 10105, 10808, 17977, 10939, 10105, 15323, 118, 10536, 11277, 40727, 11859, 65571, 10111, 14249, 118, 15473, 22907, 35772, 10419, 117, 169, 119, 102], [101, 56695, 19556, 10549, 12689, 176, 10147, 117, 12976, 169, 12211, 10240, 91327, 10107, 106, 119, 102], [101, 12854, 17510, 11005, 72453, 20517, 119, 112, 117, 107, 13554, 10112, 11223, 10151, 10491, 14951, 61700, 10350, 13935, 84569, 16938, 112, 188, 23763, 54892, 10457, 57667, 10123, 11850, 10531, 170, 10350, 11951, 11408, 96820, 107, 166, 102], [101, 21200, 20442, 15263, 13190, 10111, 11783, 11059, 10414, 25749, 119, 102], [101, 13486, 11490, 21051, 10162, 11090, 12659, 10410, 11791, 13028, 12888, 11178, 47360, 10135, 10105, 92991, 10188, 16199, 136, 112, 117, 112, 10657, 19648, 11290, 119, 112, 117, 146, 16938, 112, 188, 11419, 10410, 102], [101, 24781, 10301, 11170, 37382, 10901, 19540, 31638, 10219, 42852, 13028, 10135, 12142, 12518, 136, 112, 117, 112, 11850, 12277, 146, 136, 181, 37023, 10950, 10111, 146, 10944, 136, 188, 10678, 10106, 15311, 11155, 136, 187, 10151, 44461, 169, 119, 102], [101, 119, 85099, 119, 12261, 84914, 10115, 20923, 20395, 22464, 27521, 10106, 53092, 119, 112, 117, 112, 10657, 18322, 41408, 10135, 10531, 118, 30518, 25962, 117, 11859, 10525, 117, 22907, 35772, 10419, 117, 10106, 106670, 11918, 117, 10261, 13337, 15698, 119, 102], [101, 119, 23859, 31215, 111, 11059, 10105, 175, 16889, 111, 10392, 10410, 132, 146, 65000, 136, 188, 13246, 10374, 169, 12211, 10240, 18745, 111, 10392, 10410, 132, 10940, 10124, 10879, 21328, 10157, 12976, 10529, 13028, 20378, 10169, 10485, 119, 119, 102], [101, 11065, 136, 11639, 10151, 19648, 11290, 12277, 13028, 27874, 10105, 93685, 34420, 136, 188, 19034, 176, 119, 102], [101, 43106, 118, 25831, 13575, 23894, 31044, 16065, 10114, 70323, 12141, 12935, 10146, 22826, 136, 187, 14384, 71841, 10107, 10108, 81846, 11250, 10112, 11920, 136, 187, 34497, 10107, 119, 102], [101, 54502, 40762, 117, 13028, 43509, 14985, 26767, 10108, 57667, 10123, 119, 112, 117, 112, 13554, 21047, 70231, 10142, 17909, 10393, 10590, 10978, 11005, 72453, 10491, 13028, 119, 102], [101, 138, 11250, 10112, 39287, 12153, 11293, 108, 98453, 101695, 69030, 169, 11239, 11080, 66035, 119, 31462, 119, 102], [101, 13028, 11367, 10123, 15329, 51747, 10142, 10531, 36040, 119, 117, 10662, 64321, 10575, 103566, 117, 98453, 101695, 117, 10111, 169, 22464, 10108, 69712, 117, 10689, 10301, 20378, 102], [101, 10377, 165, 112, 187, 10911, 117, 169, 42527, 10817, 10479, 30911, 10114, 12864, 42527, 10817, 27817, 10226, 23627, 10142, 11223, 169, 11250, 16822, 10604, 54892, 21322, 10107, 10146, 107, 14325, 30295, 107, 119, 119, 102], [101, 119, 43958, 169, 37013, 16490, 10350, 55526, 119, 119, 102], [101, 10944, 136, 188, 11005, 72453, 30587, 11152, 54598, 117, 17122, 10374, 169, 13578, 10135, 94460, 11408, 30918, 10709, 12373, 11152, 10211, 33399, 11405, 38367, 10123, 10491, 188, 119, 102], [101, 158, 10237, 10237, 10237, 117, 10261, 112, 187, 11005, 106140, 119, 107, 117, 112, 136, 136, 136, 136, 136, 136, 119, 102], [101, 40690, 10111, 10380, 10149, 146, 119, 146, 11131, 10978, 10435, 22907, 35772, 10419, 117, 10146, 119, 102], [101, 14994, 10188, 22978, 10105, 10773, 19369, 10160, 10313, 13408, 119, 112, 117, 112, 10773, 57714, 18927, 22807, 10271, 10146, 10271, 10124, 10111, 12976, 11951, 136, 11639, 10435, 56294, 136, 136, 136, 136, 136, 136, 136, 136, 136, 136, 136, 136, 93951, 10230, 119, 102], [101, 119, 84591, 13998, 11360, 42819, 11023, 10107, 146, 10392, 29435, 117, 94335, 93246, 10111, 169, 12211, 10240, 10406, 10161, 20575, 10271, 12976, 13028, 21528, 119, 112, 117, 112, 16976, 10531, 84630, 10841, 146, 10422, 13383, 119, 102], [101, 10474, 11005, 106140, 10473, 11850, 19353, 10107, 10105, 13578, 10165, 10189, 20363, 10108, 18258, 10105, 177, 23486, 10142, 51747, 10479, 45769, 10271, 18926, 10142, 192, 66465, 10115, 106, 112, 117, 112, 113, 52428, 163, 12396, 50655, 11447, 72286, 119, 102], [101, 52559, 107594, 10115, 15362, 109, 10923, 12473, 10114, 16408, 10115, 16005, 113, 10523, 114, 10106, 10105, 12469, 35858, 10142, 29677, 111, 10392, 10410, 132, 48806, 31881, 22846, 106, 112, 117, 112, 17484, 117, 10259, 15444, 119, 102], [101, 119, 14535, 11155, 10124, 42819, 189, 10944, 23763, 43612, 16620, 11195, 10978, 73503, 10115, 34289, 10171, 117, 10474, 10189, 10939, 10226, 10208, 15304, 10108, 51930, 117, 10261, 10393, 32221, 10138, 119, 102], [101, 93951, 10230, 10109, 12547, 38367, 10123, 119, 102], [101, 55129, 82808, 146, 21852, 189, 21528, 10114, 20517, 34875, 43934, 10454, 65861, 10155, 50150, 59116, 10107, 10473, 13028, 17367, 10114, 42254, 10741, 10111, 13486, 19181, 10189, 188, 119, 102], [101, 11340, 40414, 10978, 10911, 117, 12277, 146, 136, 181, 17038, 56048, 10230, 26133, 22062, 10114, 169, 15042, 146, 136, 22469, 23763, 62136, 10479, 146, 136, 181, 78254, 10978, 119, 112, 117, 112, 146, 14794, 10347, 10112, 119, 102], [101, 71292, 11781, 96585, 23077, 11155, 70653, 18485, 117, 146, 112, 10323, 10893, 15652, 10189, 144, 53668, 169, 20969, 77586, 13499, 10206, 102], [101, 119, 14535, 13028, 10301, 169, 47027, 10465, 24984, 10263, 16938, 136, 188, 32650, 14638, 10161, 20442, 35343, 25613, 53336, 10107, 10169, 73367, 119, 112, 117, 112, 66133, 16745, 13021, 11499, 20251, 100792, 10169, 11049, 119, 102], [101, 119, 28969, 10192, 38078, 11131, 10107, 10978, 10135, 20442, 156, 57992, 73267, 120, 83019, 13617, 131, 118, 13554, 10911, 10415, 118, 13554, 11424, 17514, 118, 14962, 43477, 20442, 105289, 10124, 118, 119, 102], [101, 12242, 20442, 14612, 54031, 117, 13028, 11005, 72453, 17339, 13005, 17684, 16272, 106, 106, 112, 117, 112, 48655, 13028, 136, 11639, 15127, 45571, 10111, 10139, 10165, 10612, 33338, 10106, 10531, 11356, 136, 136, 18082, 10162, 181, 119, 102], [101, 10261, 10157, 13028, 28780, 90695, 10162, 38367, 10123, 20442, 169, 11005, 72453, 54892, 10457, 57667, 10123, 13028, 21852, 10189, 183, 10237, 11023, 12257, 10155, 10105, 13170, 20442, 169, 46960, 16105, 119, 102], [101, 10377, 10124, 24300, 87215, 10189, 10915, 62039, 10206, 10124, 169, 11783, 10526, 20758, 19153, 119, 119, 102], [101, 64904, 13953, 59187, 25495, 10230, 119, 112, 117, 112, 12489, 169, 28780, 90695, 10162, 11783, 10526, 20758, 19153, 119, 102], [101, 87147, 10107, 11678, 10454, 119, 102], [101, 177, 59232, 10893, 21852, 10464, 15042, 10479, 19873, 10105, 12307, 11005, 106140, 119, 112, 117, 112, 10406, 10161, 11005, 11263, 11898, 39873, 119, 119, 102], [101, 119, 177, 88237, 119, 176, 10929, 10171, 73477, 13724, 10112, 11005, 106140, 63815, 10157, 13935, 119, 112, 117, 112, 11758, 10192, 38078, 27207, 15774, 10160, 54892, 10457, 57667, 10123, 191, 120, 10911, 10473, 10485, 119, 102], [101, 100393, 13028, 22282, 10454, 19864, 10189, 107, 62893, 13167, 107, 102], [101, 34864, 10124, 169, 103896, 17820, 119, 112, 117, 112, 10117, 11356, 10124, 31307, 119, 112, 117, 107, 14723, 28217, 11496, 15311, 49523, 13397, 113, 12277, 10689, 16938, 112, 188, 32099, 13028, 10422, 114, 119, 107, 117, 112, 11101, 33250, 11750, 11161, 10133, 119, 102], [101, 18051, 10338, 10891, 18480, 19600, 13354, 10978, 24292, 50071, 25831, 58575, 138, 43378, 17553, 10135, 10531, 13617, 80645, 50183, 158, 119, 102], [101, 119, 11699, 10112, 10741, 10169, 10105, 94566, 10457, 10738, 13420, 119, 119, 119, 119, 102], [101, 13486, 11490, 21051, 10162, 11090, 12659, 10410, 11065, 10301, 11049, 10151, 13935, 84569, 106, 106, 119, 102], [101, 17116, 19556, 20442, 75349, 22060, 119, 112, 117, 112, 47464, 119, 112, 117, 112, 11399, 10105, 11248, 10108, 14015, 119, 119, 119, 10192, 38078, 11131, 10107, 10978, 20442, 10491, 169, 35858, 12898, 13617, 106, 112, 117, 112, 142, 119, 102], [101, 13491, 189, 97737, 12373, 10399, 169, 37013, 16490, 10350, 67952, 61464, 10457, 117, 10345, 12820, 56011, 10112, 10189, 20442, 17293, 20526, 13028, 10114, 10347, 169, 81708, 117, 20194, 119, 102], [101, 51857, 106, 112, 117, 112, 94524, 31886, 10950, 10105, 13173, 24874, 11203, 22907, 35772, 10419, 10588, 10529, 19540, 31952, 10106, 38880, 119, 112, 117, 112, 22800, 117, 83279, 119, 119, 102], [101, 164, 107, 146, 112, 181, 11049, 169, 54892, 21322, 10107, 119, 107, 166, 102], [101, 11065, 14794, 21852, 14796, 13172, 30455, 17574, 11444, 10689, 10301, 45041, 119, 102], [101, 11065, 36110, 20442, 35562, 10230, 10108, 10808, 98429, 117, 13448, 136, 112, 117, 112, 14516, 10106, 10105, 61694, 10149, 13028, 27874, 13028, 10301, 136, 119, 102], [101, 50133, 10105, 15626, 177, 11703, 10668, 15633, 25749, 13028, 136, 119, 102], [101, 119, 146, 10529, 19540, 51442, 10108, 14293, 11426, 54214, 119, 119, 119, 14796, 136, 112, 117, 112, 84489, 136, 112, 117, 112, 11317, 136, 112, 117, 112, 29403, 136, 112, 117, 107, 10117, 10893, 10464, 146, 112, 181, 24376, 169, 16745, 15198, 169, 107, 166, 102], [101, 14535, 13028, 136, 11639, 169, 187, 24046, 10269, 87147, 10107, 119, 102], [101, 157, 39554, 146, 10392, 10380, 11327, 10105, 14932, 112, 13026, 10301, 14807, 10237, 112, 10854, 10305, 10588, 10301, 28149, 19308, 26058, 119, 107, 117, 107, 10882, 169, 148, 42031, 23056, 63310, 15417, 27128, 10261, 112, 22469, 32949, 13028, 117, 16138, 13028, 10111, 104700, 107, 166, 102], [101, 40486, 102117, 131, 118, 17087, 18123, 10108, 11426, 117, 16626, 39949, 35350, 18180, 23802, 118, 10134, 41164, 10146, 10464, 10108, 10105, 10992, 43626, 21068, 10106, 119, 102], [101, 119, 17056, 106140, 119, 102], [101, 100393, 13028, 11850, 169, 10464, 16903, 14603, 136, 112, 117, 112, 136, 136, 16264, 13190, 34279, 10142, 10588, 136, 136, 48724, 10111, 93951, 33200, 106, 106, 112, 117, 112, 136, 136, 119, 102], [101, 119, 10377, 10134, 10422, 44191, 10114, 10911, 10189, 33250, 11426, 10374, 169, 13448, 10114, 10347, 13935, 84569, 10107, 12373, 10689, 136, 172, 21293, 10271, 119, 112, 117, 112, 54502, 40762, 119, 112, 117, 112, 63118, 119, 102], [101, 119, 13486, 11490, 21051, 10162, 11090, 12659, 10410, 102204, 10874, 13028, 10301, 29956, 55170, 22540, 61289, 15626, 83109, 119, 102], [101, 119, 13646, 108, 18661, 16105, 13270, 13338, 22611, 48190, 98935, 10911, 10135, 108, 11982, 10291, 84087, 12373, 146, 12415, 10261, 10134, 10478, 19362, 59427, 10123, 119, 112, 117, 112, 18249, 10301, 15127, 57675, 10943, 117, 13270, 10157, 119, 119, 119, 108, 94566, 10457, 10738, 13420, 119, 102], [101, 14535, 13028, 16938, 136, 188, 12888, 169, 26280, 10948, 10531, 17941, 10111, 25831, 12775, 13028, 136, 11639, 10472, 32432, 10105, 57675, 24516, 119, 112, 117, 112, 119, 18926, 15028, 10107, 119, 10824, 10162, 119, 102], [101, 12689, 12277, 13028, 34420, 136, 188, 11005, 11263, 10435, 146, 50725, 13028, 10374, 169, 15198, 10635, 119, 102], [101, 10117, 15626, 83109, 50059, 10108, 132, 157, 86206, 13123, 119, 119, 102], [101, 15165, 10157, 10237, 12415, 11005, 11263, 13028, 17684, 10269, 13009, 13028, 18957, 13028, 136, 172, 15652, 10105, 12469, 10108, 10911, 119, 102], [101, 148, 100025, 17609, 10894, 11005, 72453, 29448, 10105, 24109, 25975, 38367, 10123, 119, 102], [101, 119, 143, 93089, 11733, 94592, 149, 53668, 11259, 98038, 136, 157, 21318, 68560, 157, 58132, 11090, 144, 73522, 11369, 117, 99843, 11537, 136, 157, 157, 68999, 11369, 47430, 100061, 98038, 21318, 68560, 157, 58132, 11090, 38702, 37611, 119, 102], [101, 141, 10715, 47632, 63118, 11131, 10107, 11357, 10123, 23103, 181, 71843, 112, 187, 100106, 119, 117, 11065, 11426, 10301, 10478, 19466, 19777, 17339, 13149, 16219, 191, 119, 102], [101, 18740, 14128, 21001, 13507, 108, 36448, 23880, 22260, 31746, 20584, 10124, 10114, 174, 118, 11898, 118, 146, 112, 22469, 16868, 10105, 12566, 64110, 10142, 10464, 108, 11783, 10526, 20758, 19153, 102], [101, 119, 12976, 28780, 90695, 10162, 38367, 10123, 15513, 10105, 17339, 11530, 10114, 15329, 10114, 10105, 14045, 22878, 11008, 60926, 119, 112, 117, 112, 58573, 11403, 119, 143, 93089, 59879, 34065, 119, 110014, 82678, 30889, 100673, 11090, 119, 112, 117, 112, 10209, 10240, 119, 102], [101, 119, 16830, 12647, 30428, 11269, 10111, 146, 19556, 169, 11661, 18745, 119, 102], [101, 11065, 12820, 21528, 10788, 80236, 12373, 11858, 13028, 10301, 169, 10192, 38078, 119, 112, 117, 112, 153, 66148, 10157, 106, 119, 102], [101, 12845, 18103, 13135, 10261, 10124, 10151, 14249, 118, 108, 98149, 21776, 117, 10261, 98370, 112, 188, 34875, 11178, 30935, 12883, 10105, 97059, 119, 20593, 117, 10261, 10393, 169, 15626, 83109, 119, 12480, 10454, 10635, 119, 119, 102], [101, 119, 10377, 47798, 136, 188, 38008, 11850, 169, 136, 11940, 23627, 136, 10841, 13028, 15329, 10114, 10347, 10151, 19648, 11290, 10169, 20442, 43465, 10107, 106, 112, 117, 112, 50177, 10950, 42536, 10189, 44936, 10347, 119, 102], [101, 56695, 86095, 49366, 10376, 10114, 11324, 37023, 117, 36772, 119, 117, 11065, 10944, 11005, 11263, 13448, 11898, 117, 10192, 38078, 11131, 10107, 10978, 20442, 32282, 119, 102], [101, 27956, 47125, 10269, 103014, 146, 36110, 11951, 10301, 10435, 136, 25831, 136, 187, 136, 10111, 136, 12211, 89270, 28036, 136, 10111, 29846, 10124, 136, 59232, 15637, 136, 118, 10380, 10894, 10115, 136, 188, 119, 102], [101, 20593, 119, 10911, 13451, 10635, 54892, 21322, 10107, 119, 102], [101, 100061, 66014, 138, 153, 32612, 10731, 14703, 52428, 146, 145, 44917, 11259, 147, 32612, 11090, 109544, 157, 108880, 10731, 138, 153, 37611, 108865, 82834, 139, 37611, 25054, 100061, 36351, 100061, 11273, 17421, 10731, 109544, 147, 86888, 100075, 34065, 145, 42031, 139, 65729, 100061, 82834, 46291, 27277, 11490, 119, 102], [101, 145, 11259, 14703, 19768, 11490, 41525, 108408, 100061, 50884, 11259, 50972, 22560, 37174, 11090, 146, 46291, 11090, 100061, 99843, 49307, 11090, 43378, 36351, 157, 11259, 12674, 38025, 99843, 100061, 100061, 84977, 11565, 11090, 93202, 50884, 11259, 71020, 53317, 57487, 28895, 52428, 145, 119, 102], [101, 102204, 10874, 12976, 169, 12211, 10240, 119, 102], [101, 26202, 10858, 10354, 51091, 10759, 119, 10772, 11490, 47951, 10908, 13073, 10109, 10162, 33435, 136, 136, 93951, 10230, 11859, 10525, 10106, 10105, 11135, 10525, 117, 46267, 44096, 16906, 30045, 10107, 10111, 95498, 119, 119, 119, 119, 119, 119, 119, 119, 119, 169, 119, 102], [101, 13486, 11490, 21051, 10162, 11090, 12659, 10410, 71547, 13123, 117, 10105, 30255, 10284, 141, 115, 115, 179, 11740, 15688, 55873, 10107, 10978, 169, 57680, 10135, 10319, 10261, 75354, 33338, 119, 16976, 119, 119, 119, 166, 102], [101, 102336, 33989, 54006, 10230, 15681, 21597, 15626, 83109, 11783, 10263, 102], [101, 10689, 12820, 17695, 10105, 21157, 10108, 12976, 39806, 20949, 41031, 10124, 10571, 28353, 11561, 191, 119, 102], [101, 17121, 10662, 169, 44271, 10240, 24194, 117, 169, 27833, 19556, 10114, 10149, 12976, 169, 27833, 19556, 10114, 10149, 131, 118, 114, 12888, 12976, 146, 10149, 106, 106, 112, 117, 112, 119, 44142, 11490, 119, 102], [101, 35936, 174, 31978, 14752, 97856, 10107, 117, 10105, 13451, 10635, 13028, 30027, 169, 54892, 21322, 10107, 14932, 11850, 39516, 19308, 10105, 20949, 117, 10347, 62452, 10114, 12363, 10798, 119, 102], [101, 119, 119, 71292, 11781, 96585, 13069, 10161, 106, 112, 117, 112, 10313, 48164, 96808, 117, 119, 71292, 11781, 96585, 117, 30811, 169, 37013, 16490, 10350, 17440, 11159, 25626, 10114, 169, 59230, 10269, 10108, 11846, 11393, 119, 102], [101, 12489, 10301, 13028, 78254, 10978, 117, 10261, 136, 187, 18020, 10741, 10135, 169, 19369, 13375, 10108, 61952, 10107, 10169, 169, 16330, 10108, 21997, 11850, 10151, 11357, 11669, 119, 102], [101, 11343, 112, 187, 12103, 131, 12242, 13028, 136, 10323, 169, 18077, 119, 107, 117, 112, 107, 11065, 10612, 19556, 169, 18077, 119, 112, 117, 112, 63118, 11131, 10107, 119, 112, 117, 107, 11740, 112, 188, 31311, 10978, 10271, 14045, 10686, 10271, 20442, 43310, 20442, 10112, 169, 102], [101, 14962, 10392, 177, 53730, 15263, 11426, 136, 112, 117, 112, 11101, 146, 136, 181, 22807, 10106, 10105, 12839, 10123, 10124, 16938, 136, 188, 10347, 169, 15165, 13520, 87349, 10112, 119, 112, 117, 112, 14535, 10549, 54892, 21322, 10107, 10894, 119, 102], [101, 119, 144, 62674, 49248, 160, 108880, 86448, 141, 72679, 35999, 49248, 40214, 23240, 11565, 30889, 35976, 82834, 14703, 152, 65729, 23240, 31278, 100075, 93280, 24093, 50183, 18137, 12396, 11403, 39272, 119, 102], [101, 11155, 10415, 35329, 41665, 11065, 112, 11639, 10472, 169, 28780, 90695, 10162, 34497, 10400, 119, 119, 119, 13028, 10301, 169, 26767, 10108, 43509, 14985, 57667, 10123, 119, 102], [101, 119, 12839, 27477, 49462, 111, 10392, 10410, 132, 12839, 27477, 54892, 21322, 10107, 119, 102], [101, 119, 63118, 30181, 11131, 10107, 10978, 13028, 106, 112, 117, 112, 11740, 136, 188, 13595, 11345, 56147, 10114, 189, 119, 102], [101, 119, 12489, 136, 187, 10105, 35660, 11850, 10135, 10105, 10435, 11098, 12361, 105826, 14927, 13255, 17936, 10472, 12676, 11005, 106140, 43024, 32787, 10107, 119, 119, 102], [101, 13486, 11490, 21051, 10162, 11090, 12659, 10410, 11065, 12172, 15148, 169, 18908, 10338, 10111, 13028, 10301, 33338, 10473, 169, 43509, 14985, 11859, 80092, 74730, 26767, 10108, 57667, 10123, 119, 112, 117, 112, 11065, 48201, 11010, 119, 102], [101, 101237, 34316, 10230, 15127, 23200, 13663, 10151, 88840, 119, 112, 117, 112, 11065, 10301, 12820, 19326, 13135, 10911, 10169, 10950, 12820, 29748, 119, 102], [101, 119, 119, 40879, 14996, 16646, 19390, 10124, 56011, 10112, 170, 10350, 40060, 16727, 14982, 11639, 14956, 10162, 10957, 10108, 10105, 24699, 10261, 12174, 14794, 15329, 10106, 11846, 11393, 132, 10261, 136, 187, 10472, 117, 111, 10392, 10410, 132, 14794, 23040, 119, 102], [101, 23490, 10114, 141, 82439, 10738, 11281, 106, 106, 106, 112, 117, 112, 118, 10150, 119, 102], [101, 11951, 136, 11639, 10105, 11561, 30778, 94566, 21322, 10107, 119, 102], [101, 13491, 13028, 169, 62893, 13167, 136, 117, 10357, 10124, 14794, 19090, 10114, 20780, 10366, 10113, 13123, 119, 102], [101, 17144, 10911, 46197, 10189, 146, 112, 181, 56126, 10978, 20442, 22907, 35772, 10419, 10111, 117, 10146, 169, 32342, 22655, 117, 13028, 10301, 24376, 11337, 102], [101, 11065, 10944, 23819, 20442, 10144, 15008, 10111, 39965, 10107, 10135, 13028, 11005, 72453, 11342, 25287, 15311, 14907, 146, 112, 181, 20378, 11005, 72453, 20442, 85202, 13935, 14087, 146, 112, 181, 110039, 20442, 102], [101, 119, 41854, 18939, 31444, 11005, 11263, 90181, 10107, 91175, 22907, 35772, 10419, 119, 102], [101, 14535, 13028, 10944, 30428, 10531, 21395, 10160, 86521, 13808, 10455, 10683, 17530, 82467, 10708, 42819, 40843, 119, 119, 119, 119, 119, 119, 102], [101, 10117, 50756, 12153, 21528, 10114, 11572, 14105, 177, 23763, 14161, 10338, 123, 119, 112, 117, 112, 177, 11337, 10128, 10142, 15127, 16691, 119, 102], [101, 119, 119, 27956, 47125, 10269, 13123, 117, 10192, 10464, 10393, 169, 61537, 13448, 10114, 169, 12449, 118, 17527, 12956, 17637, 10142, 10105, 10160, 99799, 10350, 119, 119, 102], [101, 11065, 10301, 169, 46960, 16105, 119, 102], [101, 10407, 10174, 105616, 52428, 149, 38850, 162, 30340, 81012, 14703, 160, 38850, 11369, 71033, 79443, 12674, 160, 37611, 12396, 94592, 157, 36789, 11517, 106, 106, 112, 117, 112, 146, 41525, 11090, 124, 160, 95825, 62828, 106, 106, 112, 117, 112, 69308, 89696, 27128, 32002, 71020, 34065, 36351, 139, 37174, 119, 119, 112, 117, 112, 71341, 36789, 39039, 145, 68999, 11127, 47430, 152, 65729, 106, 119, 102], [101, 119, 10747, 10124, 15127, 54892, 21322, 10107, 119, 102], [101, 146, 112, 181, 62452, 10271, 10944, 10347, 31006, 70700, 10114, 34481, 10473, 10271, 34208, 10114, 10911, 10271, 112, 187, 12820, 169, 59230, 10269, 10108, 24984, 13326, 58081, 10105, 48201, 107, 166, 102], [101, 12865, 11337, 14794, 67011, 10345, 32099, 10106, 10105, 11324, 10108, 14015, 119, 119, 108, 11783, 10526, 20758, 19153, 119, 102], [101, 119, 13486, 11490, 21051, 10162, 11090, 12659, 10410, 131, 11065, 10301, 10464, 74730, 10312, 10108, 169, 17684, 10269, 119, 112, 117, 112, 10377, 10894, 10347, 10464, 40414, 12277, 13028, 12174, 56147, 117, 10111, 56147, 11206, 132, 10473, 13028, 10944, 119, 102], [101, 30909, 73386, 35826, 35976, 29833, 157, 58132, 11090, 80468, 39469, 30118, 36351, 158, 11273, 149, 53668, 11259, 157, 58132, 11090, 53317, 10738, 93202, 160, 37611, 12396, 158, 11273, 141, 72679, 35999, 49248, 157, 12396, 35066, 12022, 11447, 12396, 47271, 11369, 17443, 139, 100673, 66934, 108880, 11090, 158, 153, 65729, 17443, 11517, 157, 12396, 35066, 12022, 11447, 12396, 52428, 52734, 10731, 100061, 119, 102], [101, 91327, 13028, 119, 63256, 87332, 10116, 10142, 17637, 10531, 48196, 26767, 10108, 11424, 119, 112, 117, 112, 11469, 15127, 15263, 76342, 117, 71341, 36789, 39039, 71033, 55538, 157, 108880, 10731, 139, 11403, 63310, 106, 112, 117, 112, 11740, 10123, 48201, 10157, 14942, 12127, 10133, 119, 102], [101, 10117, 18077, 10169, 10829, 10124, 10189, 10271, 10124, 49365, 10155, 169, 28236, 10108, 16800, 11356, 36782, 10111, 15626, 83109, 112, 15647, 112, 10108, 11426, 166, 102], [101, 91327, 10107, 106, 112, 117, 112, 34987, 21936, 11818, 89836, 10107, 10301, 30181, 55488, 16219, 11858, 106, 106, 106, 112, 117, 107, 10377, 112, 187, 10978, 10114, 143, 12022, 104780, 14703, 106, 106, 107, 117, 112, 165, 158, 77802, 10759, 10575, 11373, 10729, 10350, 165, 158, 77802, 10759, 10575, 11373, 10729, 10575, 119, 102], [101, 119, 30929, 24558, 11696, 20575, 119, 27920, 46791, 24407, 58445, 10113, 10108, 11223, 169, 10479, 10246, 117, 11783, 10526, 20758, 19153, 117, 17684, 10269, 117, 12375, 119, 119, 10192, 38078, 30811, 49799, 106, 112, 117, 112, 16976, 14234, 19604, 119, 102], [101, 10117, 22907, 35772, 10419, 10124, 29330, 11359, 11203, 119, 112, 117, 112, 12865, 10944, 10893, 55235, 10142, 10531, 17390, 11222, 10105, 140, 119, 102], [101, 12489, 11356, 15107, 10531, 54892, 21322, 10107, 12962, 10106, 136, 119, 102], [101, 30409, 25749, 19556, 10226, 13935, 191, 17883, 16898, 10155, 18190, 61265, 136, 136, 136, 136, 136, 136, 119, 102], [101, 107, 138, 10287, 46685, 10142, 13536, 131, 93470, 21145, 39109, 10111, 10105, 22193, 10108, 11757, 20187, 37249, 19534, 107, 119, 152, 57487, 10738, 55039, 27057, 119, 102], [101, 119, 35936, 106, 112, 117, 112, 10747, 75980, 10157, 39709, 13503, 10107, 11850, 169, 14023, 106, 112, 117, 112, 113, 12820, 169, 12541, 10550, 10142, 13028, 54892, 21322, 10107, 64321, 10575, 103566, 10107, 114, 119, 102], [101, 119, 12242, 23433, 146, 12888, 169, 38171, 10108, 169, 24699, 191, 10123, 10105, 62541, 10410, 73267, 136, 21736, 10107, 136, 80352, 119, 119, 119, 112, 117, 112, 146, 13574, 10271, 10146, 10151, 84153, 10108, 108155, 10486, 10114, 11223, 11005, 106140, 119, 102], [101, 11951, 26490, 10529, 169, 15018, 37023, 10114, 20780, 14234, 12807, 10108, 22907, 35772, 10419, 10111, 13145, 17446, 20428, 28764, 119, 102], [101, 13486, 11490, 21051, 10162, 11090, 12659, 10410, 44271, 10550, 12219, 14880, 111, 23113, 14541, 10957, 11898, 10105, 26591, 11572, 191, 120, 10455, 10163, 34962, 13499, 26610, 10108, 15903, 12955, 10107, 10108, 39806, 10107, 82839, 102], [101, 119, 146, 27277, 29990, 12396, 34415, 11090, 64669, 11274, 146, 29079, 52099, 11273, 71020, 143, 93089, 11733, 47271, 11369, 17443, 146, 90800, 12396, 44917, 10731, 51486, 99843, 157, 58132, 11090, 69308, 11447, 162, 11447, 46291, 11369, 11281, 153, 69849, 105508, 10738, 147, 11259, 160, 12396, 14703, 160, 11403, 100673, 11490, 158, 32349, 14703, 71020, 42424, 109166, 50183, 157, 13034, 30889, 11259, 119, 102], [101, 12172, 13028, 15329, 10380, 10139, 71470, 10189, 13028, 27156, 10198, 11263, 20442, 43310, 11898, 10479, 10246, 136, 112, 117, 112, 108, 94592, 10731, 57782, 108, 15045, 85505, 108, 37013, 16490, 10350, 119, 102], [101, 13486, 11490, 21051, 10162, 11090, 12659, 10410, 12489, 169, 56011, 10908, 79207, 10827, 10124, 19090, 10114, 21964, 17155, 10841, 10261, 112, 187, 34584, 10105, 62006, 118, 10992, 102], [101, 119, 119, 27900, 10738, 13538, 11273, 51814, 10161, 10759, 119, 31931, 11369, 14212, 82049, 11396, 119, 13258, 19528, 53494, 119, 23149, 119, 11741, 11401, 11534, 22800, 50674, 119, 112, 117, 112, 13924, 10174, 11152, 32342, 97764, 14950, 27825, 18570, 15217, 119, 112, 117, 112, 146, 10529, 49307, 99843, 82439, 11090, 193, 119, 102], [101, 11590, 35767, 10134, 70850, 10454, 30272, 10155, 10531, 10817, 119, 112, 117, 112, 10357, 13457, 10226, 51401, 10135, 169, 14739, 103290, 24699, 10479, 80602, 169, 32461, 10927, 117, 10261, 94274, 13935, 119, 102], [101, 10143, 32194, 76280, 10240, 37115, 10759, 119, 11887, 19986, 11481, 12689, 13028, 117, 52523, 117, 10301, 10151, 77014, 84569, 106, 106, 106, 106, 106, 106, 106, 119, 102], [101, 37025, 20378, 117, 11783, 10526, 20758, 19153, 119, 119, 102], [101, 11065, 10301, 169, 174, 136, 11600, 62893, 13167, 119, 117, 10357, 14794, 12415, 10189, 119, 117, 17540, 20442, 119, 102], [101, 11005, 106140, 117, 10798, 11850, 21610, 10112, 10146, 10261, 11263, 119, 102], [101, 10747, 18299, 12172, 49307, 11090, 15329, 10105, 16280, 20705, 17017, 119, 112, 117, 112, 144, 19031, 10107, 10479, 19556, 10271, 17427, 10108, 10485, 136, 112, 117, 112, 10883, 42036, 106, 112, 117, 112, 10747, 18299, 59185, 123, 117, 10757, 12694, 119, 102], [101, 119, 107, 11065, 165, 112, 11639, 67952, 113, 10111, 11005, 106140, 117, 13595, 165, 112, 187, 10347, 14923, 13051, 114, 107, 41549, 10911, 26133, 146, 16938, 165, 112, 188, 21852, 119, 112, 117, 107, 146, 112, 10323, 10590, 11850, 10189, 15127, 21047, 12103, 117, 146, 112, 181, 11005, 107, 166, 102], [101, 60082, 10107, 12211, 99269, 10123, 119, 102], [101, 10105, 18638, 10189, 189, 10228, 119, 102], [101, 17056, 106140, 119, 102], [101, 12689, 10105, 17725, 10142, 10105, 10992, 15626, 83109, 12839, 10123, 10108, 10261, 16118, 25441, 10114, 119, 119, 119, 119, 102], [101, 17121, 10678, 10105, 61565, 10188, 15626, 83109, 11426, 52787, 10114, 21852, 12976, 29846, 46000, 119, 119, 102], [101, 13073, 14657, 11263, 117, 13028, 15498, 45726, 12015, 11203, 54892, 21322, 10107, 119, 112, 117, 112, 146, 30181, 50725, 20290, 10908, 31299, 20562, 10271, 19118, 10135, 32221, 67299, 11850, 10261, 136, 187, 10590, 30918, 10380, 13301, 119, 119, 102], [101, 11065, 112, 11639, 94452, 10454, 61362, 44593, 10155, 93495, 82800, 117, 10473, 13028, 14819, 10115, 112, 188, 12796, 31862, 10380, 13172, 119, 107, 117, 107, 10357, 112, 22469, 13086, 10105, 12723, 18322, 107, 166, 102], [101, 173, 10157, 108, 143, 42196, 22650, 45987, 10173, 10797, 10901, 106, 112, 117, 112, 82386, 20442, 143, 93089, 59879, 34065, 38854, 10107, 10111, 20442, 19157, 18927, 119, 112, 117, 107, 14535, 13028, 16938, 112, 188, 117, 13028, 10301, 10151, 13935, 84569, 53695, 10929, 110, 10192, 11419, 14319, 107, 166, 102], [101, 119, 22800, 11499, 22881, 40762, 119, 13486, 11490, 21051, 10162, 11090, 12659, 10410, 119, 112, 117, 112, 11065, 14172, 10105, 12600, 18926, 12373, 10992, 10108, 19626, 21852, 12976, 10151, 10106, 22530, 19094, 11405, 19648, 11290, 13028, 10301, 119, 119, 102], [101, 119, 11065, 10301, 169, 43509, 14985, 26767, 10108, 57667, 10123, 12277, 13028, 13086, 50972, 14703, 12807, 10108, 35656, 12541, 10550, 18095, 30455, 117, 148, 67292, 13034, 50183, 39121, 10115, 11206, 10689, 10788, 10112, 119, 102], [101, 119, 24153, 169, 11487, 10108, 15626, 83109, 18939, 13221, 13246, 10106, 17446, 12723, 10301, 11161, 12969, 11945, 10105, 11561, 14807, 10237, 119, 112, 117, 112, 28441, 73367, 12585, 12864, 12211, 119, 102], [101, 119, 17056, 106140, 13935, 119, 102], [101, 22800, 30181, 136, 19372, 10124, 10189, 12820, 10479, 20442, 15626, 83109, 12518, 78407, 10107, 43509, 10157, 10108, 42158, 136, 119, 102], [101, 119, 22800, 15127, 22009, 12976, 10105, 11005, 11263, 13028, 16138, 19321, 111, 10392, 10410, 132, 97200, 16683, 136, 136, 112, 117, 112, 52428, 13028, 18922, 10336, 10435, 10108, 10105, 182, 14526, 12464, 43477, 10454, 136, 136, 136, 136, 112, 117, 112, 146, 136, 181, 136, 136, 119, 102], [101, 56448, 13264, 106, 112, 117, 112, 14321, 104951, 117, 13028, 11783, 10526, 20758, 19153, 119, 119, 102], [101, 119, 107, 14535, 35248, 10107, 119, 112, 117, 112, 60595, 14434, 11039, 27024, 13028, 10189, 10531, 13585, 10123, 119, 112, 117, 112, 10124, 29162, 46791, 10111, 20775, 13028, 11337, 68312, 10473, 12277, 14439, 10477, 119, 112, 117, 112, 77603, 10133, 84829, 14569, 10345, 16730, 143, 119, 102], [101, 10117, 10628, 10157, 117, 17687, 16406, 117, 74837, 10111, 22907, 35772, 10419, 117, 15174, 117, 40122, 10976, 117, 46934, 10157, 10111, 55210, 10219, 117, 10111, 11299, 11299, 15457, 10111, 10684, 24682, 119, 102], [101, 10243, 107073, 20442, 10287, 41922, 20728, 10219, 15602, 119, 119, 13375, 10108, 14931, 12577, 10336, 117, 90351, 11005, 106140, 23320, 12286, 10111, 48201, 36269, 10107, 119, 31507, 10212, 10410, 119, 102], [101, 13513, 117, 146, 10529, 169, 59065, 13808, 20210, 146, 136, 10323, 10590, 84769, 10114, 63001, 13028, 131, 10301, 13028, 169, 174, 11263, 10115, 62893, 13167, 10345, 12820, 169, 62020, 187, 67354, 12371, 136, 19372, 11408, 136, 102], [101, 22800, 10392, 10410, 132, 10105, 122, 112, 187, 10189, 21256, 24089, 10531, 72894, 119, 119, 10105, 122, 112, 187, 10479, 27874, 10689, 11639, 56309, 13434, 10230, 20585, 26536, 10147, 10473, 24376, 11223, 97737, 23040, 107, 166, 102], [101, 119, 93742, 177, 12820, 13446, 10135, 169, 11520, 10550, 10111, 15652, 169, 33062, 16406, 92176, 10111, 15127, 54892, 21322, 10107, 12820, 54941, 10107, 10491, 10271, 10211, 59232, 11049, 10151, 19648, 11290, 11152, 119, 102], [101, 12489, 10105, 11005, 11263, 15107, 10105, 87261, 10738, 10529, 10114, 10149, 10169, 10271, 15626, 83109, 78254, 12331, 119, 112, 112, 102], [101, 119, 146, 30181, 21528, 10114, 49641, 10114, 12916, 136, 146, 136, 181, 11005, 72453, 10741, 10105, 27474, 11426, 136, 90152, 42481, 10473, 10105, 38367, 10123, 10393, 98935, 10911, 106, 112, 117, 112, 108, 76521, 10115, 29273, 119, 102], [101, 146, 38008, 15895, 11195, 13677, 10105, 11561, 177, 23486, 10146, 10531, 11005, 106140, 15042, 119, 102], [101, 119, 40879, 14996, 16646, 19390, 11065, 10301, 11049, 169, 43509, 14985, 26767, 10108, 57667, 10123, 106, 112, 117, 112, 14439, 11005, 11263, 20442, 43310, 119, 102], [101, 13646, 11005, 106140, 100475, 24154, 16683, 119, 119, 119, 119, 102], [101, 10117, 115, 19192, 115, 65081, 10112, 10135, 10105, 13448, 10393, 10590, 10323, 19232, 117, 11764, 10105, 28710, 10108, 33436, 64200, 15871, 15774, 117, 10114, 136, 10479, 10944, 10347, 10105, 10992, 25515, 103665, 10251, 11284, 10477, 119, 102], [101, 11065, 112, 11639, 169, 54892, 10457, 13935, 10208, 10924, 12898, 10879, 10162, 13028, 21852, 59232, 33338, 10978, 103532, 11195, 10345, 10131, 39187, 10107, 119, 107, 117, 112, 14439, 63001, 20442, 46912, 10147, 12976, 119, 102], [101, 60377, 10189, 10107, 31237, 10271, 22153, 136, 10142, 10105, 13451, 12403, 13990, 136, 54892, 21322, 10107, 119, 102], [101, 107, 29558, 107, 131, 177, 19556, 11690, 35456, 111, 43900, 132, 10247, 131, 10831, 131, 10348, 132, 107, 29558, 107, 131, 10155, 15127, 35350, 11540, 13268, 111, 43900, 132, 10247, 131, 10831, 131, 10842, 111, 175, 10123, 132, 107, 29558, 107, 131, 10111, 15127, 27908, 10124, 45041, 111, 43900, 132, 10247, 131, 10831, 131, 11628, 111, 175, 10123, 132, 107, 140, 119, 102], [101, 12140, 11733, 100025, 17609, 12277, 169, 11795, 10108, 11426, 10309, 110039, 40006, 10107, 10111, 99345, 11859, 18676, 10160, 13028, 117, 83674, 183, 119, 102], [101, 12373, 10455, 38938, 18096, 32221, 67299, 10107, 26058, 117, 10271, 28149, 19579, 10911, 119, 102], [101, 14535, 13028, 136, 11639, 10472, 11327, 29846, 10155, 11858, 117, 13028, 10301, 10151, 19648, 11290, 117, 30397, 106, 119, 102], [101, 14925, 10253, 70323, 10105, 11005, 11263, 10741, 119, 112, 117, 112, 19431, 13051, 10454, 119, 112, 117, 112, 11065, 136, 11639, 10380, 27728, 10230, 119, 112, 117, 112, 10747, 136, 42169, 30295, 136, 10124, 17339, 13149, 37413, 119, 112, 117, 112, 10117, 12469, 10635, 169, 10817, 188, 119, 102], [101, 119, 22773, 117, 20568, 10111, 20585, 26536, 10147, 10106, 10688, 131, 119, 102], [101, 10313, 32374, 11130, 11783, 10526, 20758, 19153, 10124, 12647, 169, 11783, 10526, 20758, 19153, 119, 112, 117, 112, 14535, 10689, 10301, 13382, 25831, 10911, 13546, 117, 10689, 10301, 169, 25831, 119, 112, 117, 112, 23651, 20517, 119, 119, 102], [101, 119, 10422, 26391, 11661, 131, 177, 15329, 123, 62501, 10111, 15127, 43465, 10107, 31626, 117, 189, 10237, 10237, 10237, 10237, 10237, 12820, 87147, 10107, 60996, 119, 102], [101, 12882, 23959, 10950, 10108, 10226, 12542, 42213, 98370, 136, 188, 15198, 21408, 136, 117, 13491, 13028, 169, 62893, 13167, 136, 117, 12882, 12277, 30455, 22153, 10105, 119, 102], [101, 119, 11590, 46912, 10147, 10124, 13435, 117, 146, 19556, 30455, 10114, 15217, 10911, 10473, 10105, 23680, 10108, 10531, 10124, 16938, 136, 188, 10347, 169, 11005, 72453, 38367, 10123, 119, 119, 102], [101, 26467, 31237, 10105, 100567, 11263, 34420, 112, 188, 10261, 11419, 17703, 13463, 10107, 169, 10924, 36390, 136, 107, 117, 112, 12689, 117, 10485, 50132, 10134, 169, 25831, 117, 26133, 10833, 27156, 10114, 96935, 106, 112, 117, 112, 13463, 119, 102], [101, 119, 119, 46147, 19139, 74116, 11274, 63279, 10174, 131, 11750, 23503, 12008, 131, 107, 11951, 10529, 14772, 14025, 19824, 10106, 10531, 12221, 107, 12882, 31237, 12172, 10105, 15263, 23503, 12464, 19285, 66720, 10841, 119, 102], [101, 11750, 85505, 117, 22907, 35772, 10419, 10111, 74176, 64195, 131, 29435, 16691, 10106, 108, 22045, 119, 102], [101, 12489, 169, 54892, 21322, 10107, 10119, 42923, 10817, 106, 119, 102], [101, 19431, 13051, 10454, 117, 119, 153, 62146, 32612, 10124, 16683, 28780, 90695, 10162, 10111, 32941, 27295, 12436, 10114, 21852, 10189, 102], [101, 24682, 10189, 106194, 15127, 21133, 131, 10105, 18638, 10189, 13028, 10944, 47731, 32310, 10269, 169, 26699, 10106, 10151, 10536, 13215, 10111, 10271, 25067, 77261, 10107, 136, 112, 117, 112, 11850, 10271, 24376, 49351, 11259, 119, 102], [101, 13486, 11490, 21051, 10162, 11090, 12659, 10410, 29846, 117, 13028, 30181, 10301, 169, 15498, 97038, 10246, 43509, 14985, 26767, 10108, 57667, 10123, 119, 112, 117, 112, 12242, 12172, 28353, 17038, 67603, 10240, 10978, 10226, 48531, 55778, 136, 119, 102], [101, 122, 114, 28803, 118, 83109, 118, 17365, 18206, 32862, 10114, 39709, 34321, 10146, 107, 11859, 80092, 107, 65411, 14197, 10479, 16938, 165, 112, 188, 51361, 191, 120, 17365, 13397, 101989, 64959, 13420, 131, 116, 16040, 11223, 10151, 18484, 119, 102], [101, 10911, 117, 10151, 19648, 11290, 131, 10531, 26767, 24952, 169, 41848, 10491, 30512, 10108, 14796, 10114, 48053, 11152, 12142, 24116, 13382, 18713, 10188, 24376, 32120, 119, 102], [101, 10911, 117, 57039, 10151, 129, 118, 10924, 118, 12898, 11735, 13784, 10870, 169, 13956, 32194, 13872, 69428, 10114, 18842, 169, 18758, 30265, 10948, 10455, 99662, 10165, 10111, 169, 10879, 50579, 10157, 119, 102], [101, 59865, 10105, 27949, 10347, 169, 30181, 15626, 83109, 136, 119, 102], [101, 15879, 110601, 48201, 46921, 10485, 13578, 119, 112, 117, 112, 107, 146, 165, 112, 10323, 60727, 10336, 15127, 14333, 10114, 10151, 10780, 43612, 10269, 117, 10142, 62452, 119, 107, 112, 117, 112, 107, 39981, 117, 12558, 16065, 106, 107, 112, 117, 112, 27207, 75395, 13338, 11710, 119, 112, 117, 112, 107, 10657, 119, 102], [101, 22091, 42920, 10261, 27463, 10226, 25831, 21997, 14796, 10114, 23332, 94510, 10105, 13170, 10261, 12172, 119, 119, 102], [101, 10117, 37110, 10112, 10108, 54877, 15024, 10301, 10741, 108, 10911, 12536, 20163, 22882, 10589, 119, 112, 117, 112, 14535, 13028, 136, 11639, 32862, 10114, 39740, 27142, 95574, 11605, 10833, 25880, 10833, 10134, 10571, 12276, 191, 119, 102], [101, 14453, 10112, 106, 117, 28248, 10320, 10320, 10320, 10320, 136, 136, 136, 136, 136, 136, 136, 136, 136, 136, 11065, 112, 11639, 169, 11005, 72453, 19111, 101695, 106, 117, 13258, 10354, 106, 117, 20304, 101695, 106, 117, 16976, 43565, 191, 119, 102], [101, 11149, 112, 187, 11005, 106140, 119, 102], [101, 119, 119, 10772, 10731, 15772, 10237, 15417, 10115, 10129, 12489, 169, 18204, 10589, 10261, 10134, 117, 82321, 84532, 10957, 10135, 15365, 10146, 10879, 10162, 117, 59227, 10123, 10111, 12211, 10240, 10106, 10226, 15230, 117, 55909, 11630, 119, 102], [101, 14535, 13028, 21992, 20442, 41525, 11490, 144, 91238, 50655, 56658, 11447, 81012, 113, 10472, 45034, 10135, 10105, 24160, 114, 10114, 10347, 15109, 10188, 13028, 117, 11059, 13028, 10301, 10151, 19648, 11290, 169, 119, 102], [101, 119, 93951, 13028, 10111, 20442, 41444, 21133, 10336, 119, 102], [101, 119, 119, 20618, 70185, 13217, 12387, 10729, 10138, 131, 11590, 46912, 10147, 22151, 10911, 12976, 107, 147, 94138, 11369, 39272, 107, 36110, 10111, 146, 21937, 10485, 119, 112, 117, 107, 11149, 12415, 10189, 112, 187, 10472, 13448, 12373, 146, 10894, 15329, 84646, 21597, 12277, 30455, 181, 107, 166, 102], [101, 119, 15637, 10374, 10105, 25831, 22210, 119, 112, 117, 112, 12991, 10393, 10105, 12289, 37253, 22210, 119, 119, 102], [101, 14524, 10301, 10491, 19353, 22807, 10435, 10588, 10301, 14807, 10237, 10111, 57667, 10123, 119, 112, 117, 112, 37025, 31237, 16938, 136, 188, 13028, 20517, 19090, 10662, 10435, 10105, 75980, 12682, 10189, 10893, 11471, 16441, 174, 119, 102], [101, 119, 119, 13486, 11490, 21051, 10162, 11090, 12659, 10410, 13028, 10301, 11049, 169, 37013, 16490, 10350, 117, 191, 14383, 10157, 117, 10456, 59648, 10368, 55526, 117, 11471, 17394, 10113, 11593, 10124, 11223, 10119, 82198, 10141, 21209, 10795, 10174, 11440, 61001, 119, 102], [101, 13646, 112, 187, 10151, 15498, 16203, 117, 13539, 10134, 11005, 106140, 10452, 107, 166, 102], [101, 11065, 10301, 169, 62893, 13167, 12277, 13028, 11758, 27874, 10380, 119, 119, 102], [101, 146, 112, 181, 49316, 18832, 10135, 13123, 117, 10817, 18694, 10107, 30181, 37307, 15398, 10491, 10531, 12898, 64519, 10112, 119, 119, 119, 10944, 11951, 10160, 16298, 83279, 11444, 10261, 17094, 107, 166, 102], [101, 10150, 10855, 23103, 126, 10855, 96820, 46072, 10657, 11005, 72453, 10978, 10169, 13877, 49219, 10107, 10111, 57667, 10123, 10657, 38367, 10123, 11337, 18500, 169, 54157, 10142, 10455, 43465, 10107, 119, 119, 119, 119, 102], [101, 91327, 10107, 119, 14772, 26978, 119, 112, 117, 112, 144, 119, 62406, 117, 11031, 17119, 56221, 10160, 10474, 102443, 10939, 10105, 40932, 119, 102], [101, 11065, 36110, 11850, 14796, 10105, 50202, 10107, 16982, 48628, 10472, 10114, 10455, 29694, 10230, 10146, 169, 56658, 67292, 10345, 169, 119, 102], [101, 177, 16138, 10435, 10105, 62624, 182, 88840, 10107, 10135, 15127, 188, 10161, 131, 112, 114, 15127, 54892, 21322, 10107, 34420, 10123, 49151, 11152, 10108, 10105, 24682, 10473, 11858, 160, 33893, 94592, 145, 36789, 11490, 40214, 21644, 11090, 58573, 80426, 11127, 11369, 77836, 11259, 102], [101, 146, 12229, 14854, 10114, 20575, 13028, 169, 108, 10120, 10147, 56082, 119, 112, 117, 112, 94566, 21322, 10107, 10124, 169, 17684, 10453, 13264, 119, 112, 117, 112, 10167, 13724, 10162, 96820, 31746, 10284, 71840, 13808, 42213, 33989, 110532, 10129, 10894, 119, 102], [101, 93951, 11898, 10111, 21964, 10957, 24087, 119, 112, 117, 112, 146, 56874, 189, 21964, 32650, 57212, 10901, 24087, 119, 102], [101, 26467, 169, 13824, 117, 10950, 10108, 10105, 18123, 10108, 31515, 14996, 165, 112, 187, 117, 11337, 23763, 107, 176, 17525, 10147, 119, 119, 119, 11762, 16938, 165, 112, 188, 25157, 11850, 50756, 20506, 37652, 10588, 119, 112, 117, 112, 13252, 119, 102], [101, 10747, 10879, 10162, 10124, 169, 54910, 10410, 119, 112, 117, 107, 12489, 112, 187, 13451, 136, 107, 117, 112, 107, 146, 38008, 20442, 38576, 107, 136, 112, 117, 112, 36172, 20585, 26536, 10147, 123, 119, 121, 119, 119, 102], [101, 146, 136, 181, 76132, 10400, 119, 112, 117, 112, 30929, 12926, 40843, 10124, 11005, 106140, 10111, 54892, 10457, 119, 119, 102], [101, 22800, 117, 146, 21852, 119, 112, 117, 112, 13646, 75980, 10157, 10124, 169, 10120, 11263, 119, 112, 117, 112, 14235, 10106, 32027, 10529, 10590, 55488, 16219, 10160, 17409, 26905, 11764, 10105, 11005, 106140, 10146, 119, 102], [101, 10747, 10124, 10105, 12331, 10106, 10105, 72028, 10841, 10271, 23785, 94452, 10189, 13028, 10301, 51476, 64716, 10169, 10151, 19648, 11290, 119, 102], [101, 55568, 10269, 117, 13028, 16938, 136, 188, 13246, 21852, 14796, 10114, 76738, 66956, 49148, 10454, 119, 112, 117, 112, 11740, 136, 188, 19833, 11850, 169, 90960, 25831, 119, 112, 117, 112, 83129, 10114, 11223, 169, 15670, 25831, 119, 112, 117, 112, 176, 10123, 119, 102], [101, 84718, 12141, 10188, 28853, 11949, 119, 119, 119, 107, 10105, 36304, 11614, 10354, 10106, 15984, 106, 107, 112, 117, 112, 11065, 10301, 169, 37013, 16490, 10350, 55526, 119, 112, 117, 112, 138, 13736, 91196, 10174, 119, 119, 102], [101, 13028, 11005, 72453, 46960, 16105, 52586, 15774, 10841, 13028, 19556, 20442, 11121, 12166, 14987, 122, 75980, 10157, 10841, 57667, 10123, 21405, 12935, 10114, 10271, 13028, 96935, 11850, 169, 16745, 17684, 10269, 13028, 10301, 119, 102], [101, 164, 107, 56898, 119, 11614, 11281, 25285, 96550, 10123, 131, 123, 119, 193, 112, 10435, 72082, 10142, 169, 20780, 11059, 15329, 10824, 10162, 10111, 15148, 22807, 112, 10414, 25749, 112, 11059, 11367, 11304, 31237, 20442, 13935, 10124, 34875, 27868, 107, 166, 102], [101, 14535, 13028, 10301, 32862, 10114, 20517, 52477, 59039, 13028, 112, 11639, 10151, 13935, 84569, 119, 107, 117, 112, 108, 14428, 11273, 11918, 119, 102], [101, 12689, 13028, 10301, 23282, 169, 50756, 119, 102], [101, 10167, 11389, 117, 50202, 10107, 57047, 10798, 11284, 10238, 10114, 58768, 17437, 10950, 10531, 13170, 11084, 28950, 10107, 118, 118, 10111, 12277, 13028, 112, 11639, 17119, 10111, 10160, 10435, 56237, 10113, 102], [101, 11740, 10123, 31638, 182, 42852, 10911, 10114, 10399, 54892, 21322, 10107, 28950, 13595, 10107, 15148, 169, 48336, 174, 10457, 15975, 11005, 11263, 13028, 10406, 10161, 11850, 10293, 10147, 10192, 11084, 10174, 189, 10549, 11231, 28780, 90695, 119, 102], [101, 40879, 14996, 16646, 19390, 83243, 62146, 32612, 103014, 119, 112, 117, 107, 24153, 10689, 64412, 10455, 52158, 10123, 20758, 19153, 112, 22009, 119, 112, 107, 117, 112, 12865, 10301, 59516, 10114, 187, 119, 102], [101, 10796, 10472, 10212, 101813, 10376, 50739, 117, 29263, 23497, 11008, 117, 10345, 70145, 10114, 150, 24323, 10345, 10105, 86523, 21946, 18676, 119, 112, 117, 112, 14535, 13028, 30587, 10106, 13028, 119, 102], [101, 22800, 10479, 11131, 10107, 119, 119, 10192, 38078, 10473, 13028, 30181, 11131, 10107, 42819, 10978, 32221, 67299, 112, 187, 14927, 12103, 119, 119, 146, 62452, 11758, 119, 119, 15329, 10491, 20442, 18576, 119, 119, 102], [101, 87692, 19777, 62893, 45592, 10162, 119, 13252, 53839, 10901, 10301, 57879, 12277, 17038, 87261, 10738, 12464, 119, 10747, 10124, 12820, 10105, 44346, 20506, 32241, 66654, 10142, 10105, 15626, 83109, 102], [101, 17121, 14879, 30606, 10155, 80426, 11403, 12689, 11023, 10107, 10211, 69463, 11850, 10192, 38078, 10124, 84532, 10911, 10111, 146, 11758, 11131, 119, 119, 112, 117, 112, 31278, 15417, 11403, 14703, 119, 102], [101, 14535, 177, 10134, 11059, 13028, 10894, 10347, 10105, 24996, 10108, 10105, 95499, 11951, 21057, 10133, 119, 102], [101, 119, 12277, 177, 31638, 10531, 10106, 84771, 10107, 13596, 10111, 10271, 16938, 136, 188, 11424, 10211, 10369, 25157, 11850, 169, 54892, 21322, 10107, 119, 102], [101, 24153, 10108, 18257, 41856, 13028, 62893, 13167, 117, 45083, 10301, 14172, 119, 14535, 13028, 10529, 82808, 10345, 13023, 10506, 13268, 117, 13028, 48201, 11010, 119, 102], [101, 152, 25686, 20648, 42658, 10112, 13028, 10301, 110240, 13435, 117, 16938, 112, 188, 10347, 11049, 169, 46960, 16105, 107, 102], [101, 146, 136, 181, 71841, 10162, 10108, 19912, 136, 187, 136, 48628, 10124, 43477, 12820, 10105, 13170, 10689, 10301, 136, 54039, 119, 112, 117, 112, 143, 115, 115, 115, 10189, 119, 112, 117, 112, 14321, 14923, 13051, 10169, 20442, 43310, 119, 112, 117, 112, 14535, 13028, 136, 11639, 169, 119, 102], [101, 10747, 11005, 72453, 75980, 10157, 10124, 10380, 26578, 118, 12142, 117, 10479, 10105, 11005, 11263, 17913, 10531, 23200, 136, 112, 117, 112, 14516, 23433, 13028, 10301, 119, 119, 119, 119, 41549, 10105, 10380, 10598, 119, 102], [101, 10117, 10817, 10106, 15127, 172, 10410, 30500, 12399, 28128, 12059, 10708, 13214, 119, 119, 119, 10357, 27463, 181, 119, 102], [101, 73784, 12997, 69253, 11155, 10134, 169, 37859, 27244, 10123, 120, 50756, 58575, 10135, 14095, 58412, 11355, 18905, 12373, 64715, 28580, 113, 10105, 80614, 114, 11539, 10151, 39585, 66625, 10115, 119, 102], [101, 13486, 11490, 21051, 10162, 11090, 12659, 10410, 146, 31624, 13028, 10155, 20442, 28780, 10136, 10269, 111, 15626, 83109, 117, 10111, 10105, 36031, 10317, 10106, 20442, 42213, 119, 119, 102], [101, 31237, 112, 187, 10833, 57047, 10380, 21610, 10112, 10435, 10108, 169, 94994, 136, 112, 107, 117, 112, 107, 38702, 11259, 165, 112, 156, 46291, 50655, 140, 65729, 11259, 39675, 100230, 11259, 17443, 46291, 100075, 11537, 52898, 34065, 117, 141, 72679, 35999, 49248, 106, 107, 119, 102], [101, 10377, 10134, 10379, 12361, 105826, 119, 112, 117, 112, 12489, 10978, 10189, 117, 11783, 10526, 20758, 19153, 136, 119, 102], [101, 23075, 13123, 13028, 10301, 37501, 10105, 11356, 14796, 10106, 22530, 19094, 11405, 10111, 23602, 36064, 11236, 13028, 30181, 10301, 119, 112, 117, 112, 91327, 10107, 10142, 105082, 17446, 12723, 119, 102], [101, 136, 146, 136, 181, 45041, 20780, 13028, 10841, 146, 12888, 13028, 119, 119, 119, 136, 119, 102], [101, 103014, 14923, 13051, 10454, 10189, 136, 187, 11005, 106140, 119, 102], [101, 10657, 117, 10474, 12373, 10689, 10529, 15626, 83109, 119, 12689, 14796, 92746, 10189, 13028, 10894, 11419, 14319, 10112, 29448, 10230, 30455, 119, 102], [101, 11101, 26490, 10106, 25831, 118, 28634, 107586, 10529, 10590, 23782, 10114, 13935, 91259, 10106, 10455, 100205, 10107, 10142, 169, 107, 14670, 107, 119, 112, 117, 112, 10167, 18638, 117, 144, 91724, 10113, 119, 102], [101, 13486, 11490, 21051, 10162, 11090, 12659, 10410, 115, 17573, 13518, 119, 119, 119, 94566, 21322, 10107, 119, 112, 117, 112, 11065, 10173, 53590, 11405, 10454, 10142, 14908, 10189, 10261, 10111, 10226, 67952, 11643, 119, 102], [101, 174, 31978, 14752, 97856, 10107, 33974, 17616, 98453, 101695, 12976, 47226, 10107, 10301, 13028, 33740, 11357, 10133, 119, 102], [101, 119, 14439, 11005, 11263, 20442, 43310, 13028, 24911, 10157, 10183, 10506, 11783, 10526, 20758, 19153, 119, 112, 117, 112, 12034, 18121, 170, 11924, 146, 119, 153, 119, 149, 173, 179, 31572, 10238, 62137, 64318, 176, 11485, 75980, 11253, 13080, 87147, 10113, 10347, 136, 112, 117, 112, 31518, 10325, 10679, 31119, 119, 102], [101, 119, 119, 58442, 10806, 10133, 11517, 119, 30409, 25749, 15875, 10226, 10479, 47195, 10112, 11365, 12976, 169, 10120, 11263, 106, 119, 102], [101, 157, 74965, 119, 112, 117, 112, 146, 16138, 20442, 37655, 119, 112, 117, 112, 146, 10392, 169, 38668, 60493, 13034, 10111, 146, 10392, 10472, 108297, 10169, 13028, 10978, 10105, 191, 33380, 10107, 119, 112, 117, 112, 11590, 12331, 10124, 119, 102], [101, 13028, 10301, 10151, 19648, 11290, 119, 119, 102], [101, 119, 14234, 38078, 10135, 10105, 13448, 29597, 52787, 10689, 10301, 10380, 15855, 10473, 10689, 10301, 10380, 11005, 106140, 119, 119, 119, 119, 14796, 10301, 10435, 10108, 193, 136, 10435, 10380, 11678, 10454, 52428, 119, 102], [101, 63118, 10169, 13877, 169, 34467, 11131, 10107, 10978, 13028, 32282, 119, 117, 11065, 112, 11639, 169, 18891, 11104, 156, 82484, 140, 91824, 12101, 10479, 112, 187, 22024, 58692, 107, 166, 102], [101, 13486, 11490, 21051, 10162, 11090, 12659, 10410, 10117, 11426, 10301, 13507, 10105, 13183, 10114, 56087, 39272, 65729, 68999, 14703, 10347, 10106, 12608, 10108, 10531, 10108, 119, 102], [101, 107, 110142, 10157, 156, 56059, 12355, 107, 32310, 16272, 153, 49378, 10107, 10473, 10379, 10124, 19090, 10114, 61694, 12976, 169, 12211, 10240, 119, 102], [101, 119, 11065, 10301, 169, 191, 40762, 16406, 17684, 10269, 119, 102], [101, 93495, 74755, 10123, 10473, 10271, 15107, 35905, 10189, 13028, 10301, 10151, 10708, 37684, 10368, 10149, 38753, 56332, 13935, 84569, 119, 102], [101, 119, 119, 40879, 14996, 16646, 19390, 13028, 10301, 10151, 13935, 84569, 119, 102], [101, 119, 12882, 11299, 11005, 106140, 13935, 11426, 12166, 19353, 119, 112, 117, 112, 18516, 10237, 10237, 10237, 31237, 118, 119, 118, 119, 102], [101, 42055, 10590, 11552, 169, 27224, 102422, 28984, 10908, 11324, 10345, 33377, 38523, 10546, 136, 112, 117, 112, 146, 10529, 119, 112, 117, 112, 42055, 102810, 191, 120, 11499, 17903, 10230, 10345, 22907, 35772, 10419, 10850, 10114, 20442, 14025, 117, 15331, 119, 102], [101, 145, 11259, 14703, 19768, 11490, 73020, 25000, 146, 160, 24093, 11259, 100061, 146, 160, 11403, 100673, 11490, 148, 95825, 11127, 100061, 11273, 143, 93089, 11733, 102059, 65729, 12396, 38702, 65729, 117, 117, 158, 143, 93089, 11733, 153, 32612, 10731, 14703, 119, 119, 158, 91075, 11369, 11733, 139, 89696, 46291, 108880, 58521, 138, 140, 119, 102], [101, 50133, 18144, 12820, 23763, 41525, 32071, 11565, 93089, 11733, 24093, 10731, 36351, 99552, 36742, 98207, 32002, 136, 136, 136, 136, 112, 117, 112, 119, 10186, 131, 10842, 136, 136, 24270, 10230, 10189, 136, 187, 169, 10118, 25201, 27197, 13719, 11031, 10114, 11037, 119, 102], [101, 19803, 20687, 11783, 11816, 18745, 10380, 10347, 42374, 10114, 10198, 11263, 10120, 11263, 10106, 169, 20575, 10414, 25749, 10817, 119, 102], [101, 119, 23282, 10472, 11783, 16441, 15329, 15127, 18301, 11178, 18086, 17864, 12373, 10105, 25926, 10124, 169, 11005, 72453, 38367, 10123, 10380, 20970, 13574, 169, 67952, 64728, 10345, 11152, 57667, 10123, 12604, 10174, 119, 102], [101, 21837, 13028, 10309, 10135, 169, 13893, 11226, 119, 112, 117, 112, 63118, 11131, 10107, 10978, 20442, 32282, 119, 119, 102], [101, 13646, 61362, 12820, 11360, 10261, 33039, 10114, 11005, 11263, 13028, 136, 136, 136, 136, 119, 102], [101, 88002, 117, 30181, 36474, 45565, 107583, 10189, 119, 16558, 11011, 10393, 45041, 10142, 11049, 72894, 18995, 10230, 13596, 109969, 53320, 10230, 10135, 10531, 10924, 136, 187, 108, 10117, 11281, 36799, 119, 112, 117, 112, 35248, 119, 102], [101, 119, 119, 27956, 47125, 10269, 10124, 10531, 169, 14179, 11223, 117, 169, 96177, 82427, 34615, 136, 112, 117, 112, 59865, 10271, 10347, 16863, 169, 89930, 10108, 54892, 21322, 10107, 17684, 11909, 22094, 106, 119, 102], [101, 93951, 13028, 10817, 52680, 18492, 10124, 169, 13953, 59187, 119, 102], [101, 19672, 20687, 146, 12820, 19556, 10213, 21852, 119, 112, 117, 112, 13491, 11762, 67420, 136, 112, 117, 112, 146, 27874, 10689, 10301, 11005, 106140, 117, 10473, 146, 18923, 10533, 10531, 14064, 117, 10380, 15127, 32282, 47798, 136, 188, 10126, 119, 102], [101, 177, 38008, 10189, 119, 102], [101, 11065, 27463, 20442, 22024, 36888, 119, 112, 117, 107, 11065, 10301, 169, 12127, 43213, 10230, 18128, 80592, 11446, 10111, 13028, 10944, 112, 188, 10140, 10157, 10189, 119, 107, 117, 112, 14439, 11005, 11263, 169, 32650, 15938, 117, 13028, 43509, 14985, 119, 102], [101, 164, 107, 10838, 33145, 112, 181, 10741, 17684, 10269, 44445, 12713, 21326, 42157, 10531, 10414, 25749, 191, 17883, 107, 166, 102], [101, 72734, 10858, 13020, 11183, 11065, 10301, 10192, 15014, 20442, 169, 187, 23722, 56332, 26767, 10108, 57667, 10123, 10189, 28615, 10114, 10128, 169, 38576, 20758, 119, 102], [101, 91327, 13028, 10142, 22807, 10271, 119, 112, 117, 112, 14235, 10301, 54892, 10457, 10142, 56294, 10189, 107, 10271, 165, 112, 187, 12820, 10151, 19833, 107, 10380, 13172, 119, 102], [101, 71014, 10114, 10531, 62893, 13167, 10380, 10380, 118, 11552, 10106, 34592, 10165, 12976, 10301, 13028, 19090, 10114, 10149, 10841, 10271, 10326, 96658, 10491, 10197, 117, 10259, 20442, 11161, 13362, 119, 102], [101, 56287, 10129, 27920, 17496, 13149, 11005, 106140, 18379, 113, 10142, 10105, 10148, 10550, 10108, 43291, 114, 118, 18379, 12461, 31478, 10431, 119, 102], [101, 146, 68312, 10473, 10146, 146, 12415, 10105, 12078, 10124, 10188, 10105, 11732, 10919, 136, 187, 111, 10392, 10410, 132, 100745, 100240, 10454, 10472, 33786, 177, 119, 102], [101, 62452, 10454, 13028, 21852, 31237, 10189, 10107, 169, 18077, 119, 112, 117, 112, 10105, 15626, 47645, 12150, 25030, 10106, 144, 42196, 83109, 16668, 10124, 12142, 13596, 10120, 13820, 119, 102], [101, 35936, 13308, 117, 30409, 25749, 10124, 169, 12307, 16683, 119, 117, 71426, 11951, 17734, 10114, 11760, 10189, 10464, 13028, 11005, 72453, 10149, 38753, 10537, 10240, 119, 119, 102], [101, 119, 24781, 10124, 48628, 11223, 11049, 169, 46960, 16105, 10978, 10531, 18586, 136, 112, 117, 112, 150, 10350, 26095, 28025, 80516, 26133, 11222, 169, 39051, 10261, 34420, 136, 188, 10349, 12920, 119, 102], [101, 21705, 19986, 10237, 119, 28950, 13486, 11490, 21051, 10162, 11090, 12659, 10410, 146, 75980, 22094, 13028, 10142, 47163, 117, 63706, 10457, 10266, 10155, 10105, 46960, 10107, 119, 102], [101, 13486, 11490, 21051, 10162, 11090, 12659, 10410, 12865, 25259, 13595, 13028, 17734, 117, 13028, 21484, 51330, 10336, 20506, 31165, 117, 146, 36110, 117, 30181, 11740, 10756, 117, 13028, 10301, 169, 174, 47195, 112, 187, 11499, 13820, 15938, 119, 107, 117, 112, 61828, 10874, 119, 102], [101, 119, 13486, 11490, 21051, 10162, 11090, 12659, 10410, 31507, 54892, 21322, 10107, 29846, 22153, 20562, 11178, 15495, 119, 112, 117, 112, 11597, 146, 119, 154, 119, 112, 117, 112, 14982, 10347, 11898, 10105, 32171, 136, 10106, 10105, 56126, 15599, 119, 119, 102], [101, 102545, 10261, 23794, 12864, 10414, 25749, 10114, 15217, 10957, 14125, 169, 12887, 107173, 10147, 42661, 10468, 14582, 12172, 10271, 10464, 10817, 119, 102], [101, 101270, 14520, 29711, 10134, 11858, 57204, 12883, 25470, 16381, 73909, 111, 10392, 10410, 132, 92340, 10142, 10911, 10563, 10271, 112, 187, 143, 12022, 104780, 14703, 106, 102], [101, 148, 100025, 17609, 10111, 10226, 24032, 31638, 10114, 54941, 119, 10117, 11537, 19235, 37789, 93252, 10738, 75980, 10157, 119, 30796, 12396, 11008, 12371, 93252, 10738, 11023, 12765, 24558, 119, 112, 117, 112, 12845, 10667, 63706, 19528, 10197, 11499, 37226, 10171, 54941, 10107, 10135, 119, 102], [101, 119, 146, 10134, 11126, 10841, 11235, 26879, 11515, 10134, 55629, 10336, 117, 15127, 11365, 10134, 14739, 111, 10392, 10410, 132, 146, 93161, 12400, 10169, 15127, 14384, 62151, 12935, 119, 102], [101, 10167, 10434, 117, 15263, 10198, 110327, 28841, 28036, 111, 10392, 10410, 132, 15263, 10198, 110327, 28841, 10562, 12261, 31285, 53504, 80959, 11337, 30382, 93700, 10135, 10105, 93339, 10106, 17099, 117, 14922, 117, 146, 119, 102], [101, 175, 11608, 10115, 32312, 119, 27956, 47125, 10269, 119, 12972, 11369, 24407, 11517, 43961, 10129, 12882, 10189, 17574, 141, 119, 102], [101, 107339, 169, 64519, 10112, 23763, 10261, 10134, 13677, 58285, 33573, 10854, 10305, 48628, 10124, 16683, 67952, 10106, 10469, 11873, 10111, 10189, 10124, 10380, 94536, 10162, 10741, 10854, 10305, 174, 119, 102], [101, 14535, 11155, 112, 187, 10464, 15198, 40414, 10978, 12976, 152, 11447, 10301, 30918, 117, 10124, 10689, 112, 11639, 45749, 17751, 100761, 169, 11005, 11263, 22464, 10108, 11683, 11949, 117, 10319, 10124, 19090, 107, 166, 102], [101, 40879, 14996, 16646, 19390, 105894, 10151, 13935, 84569, 11850, 13028, 10894, 15498, 16203, 169, 18299, 11850, 18830, 119, 29846, 119, 117, 13796, 71514, 13820, 10189, 13028, 10301, 119, 117, 13258, 18443, 13167, 119, 119, 102], [101, 11590, 43610, 11222, 20585, 26536, 10147, 119, 102], [101, 38194, 14764, 10741, 10708, 169, 27795, 10230, 13448, 15998, 10251, 11859, 10525, 10491, 11762, 187, 32514, 11195, 82808, 119, 112, 117, 112, 146, 38008, 169, 107, 52158, 10123, 20758, 19153, 106, 107, 112, 117, 112, 23959, 10135, 119, 119, 102], [101, 87147, 10107, 10192, 11367, 11304, 31237, 13028, 13145, 10760, 10107, 117, 11764, 13028, 136, 11639, 71028, 40328, 106543, 17864, 10111, 23898, 14382, 10686, 15311, 10435, 13028, 11131, 10978, 10124, 17920, 10380, 87147, 10107, 119, 102], [101, 12242, 10105, 171, 29948, 10336, 12153, 18206, 20575, 19626, 107, 50756, 165, 112, 187, 107, 10105, 18123, 10108, 10119, 10213, 44357, 117, 31515, 14996, 72271, 25157, 10106, 17446, 15599, 119, 112, 117, 112, 157, 119, 102], [101, 119, 14247, 75631, 10113, 15034, 11372, 13733, 10162, 10662, 25831, 34510, 11823, 10106, 66126, 58511, 11406, 119, 88237, 75631, 11630, 119, 102], [101, 11065, 30518, 20664, 11530, 38367, 10806, 106, 112, 117, 112, 11723, 10124, 169, 12117, 10111, 13028, 56433, 10271, 10939, 13308, 81776, 10106, 119, 102], [101, 15380, 14446, 59893, 14010, 10124, 10146, 57195, 10146, 10950, 33661, 22907, 35772, 10419, 117, 10111, 36981, 10798, 10380, 119, 102], [101, 12277, 13028, 10678, 10114, 15256, 146, 112, 22469, 11897, 13028, 12166, 10380, 13028, 16938, 112, 188, 10529, 10114, 11471, 16497, 12166, 56048, 14985, 10454, 11850, 169, 37013, 16490, 10350, 55526, 136, 102], [101, 10261, 10124, 169, 16330, 12765, 13028, 10301, 169, 46960, 16105, 106, 106, 119, 102], [101, 146, 21852, 117, 13028, 25157, 10245, 11850, 169, 11783, 10526, 20758, 19153, 119, 102], [101, 38571, 65571, 10111, 20585, 26536, 10147, 14234, 30935, 119, 102], [101, 119, 47336, 12926, 10106, 10105, 158, 10174, 10114, 41008, 10911, 10741, 10111, 15217, 10911, 45218, 12976, 169, 11339, 55526, 146, 10392, 117, 146, 16868, 13028, 23819, 10911, 56237, 26389, 117, 10944, 11951, 13086, 34987, 119, 102], [101, 119, 12034, 46361, 21481, 10105, 52158, 10123, 20758, 19153, 37501, 10105, 11661, 22464, 27521, 136, 112, 117, 112, 108, 49932, 42108, 119, 102], [101, 11149, 136, 187, 169, 11005, 106140, 39327, 119, 102], [101, 146, 27874, 10435, 11322, 70098, 10123, 10588, 14819, 10529, 10114, 13574, 169, 13596, 11552, 14962, 10114, 56448, 10123, 10105, 93951, 13656, 10111, 17116, 12271, 11263, 169, 153, 66148, 10157, 11360, 10689, 119, 102], [101, 119, 169, 36592, 13262, 43509, 32432, 46226, 10874, 11406, 119, 15390, 10107, 119, 102], [101, 17056, 106140, 119, 102], [101, 12865, 16138, 10531, 106, 112, 117, 112, 13209, 26900, 95066, 20585, 26536, 10147, 32949, 10107, 10105, 16691, 10108, 14234, 18299, 117, 11198, 17446, 11614, 119, 102], [101, 13151, 150, 10350, 11490, 20461, 11747, 10134, 10106, 10146, 15895, 11195, 10108, 169, 14025, 10146, 13028, 12174, 15329, 119, 112, 117, 112, 10117, 156, 82484, 12172, 109821, 24093, 14703, 109166, 50183, 14128, 10114, 23819, 30397, 107034, 10162, 119, 102], [101, 146, 13009, 20442, 49950, 10230, 10271, 104862, 13028, 10301, 92746, 10454, 67952, 117, 11678, 10454, 13028, 10529, 10105, 48742, 10562, 46960, 16105, 17038, 117, 20442, 14333, 10124, 11170, 10477, 119, 102], [101, 14535, 10833, 10124, 18121, 11059, 189, 10301, 10105, 27949, 10142, 10485, 15626, 83109, 119, 119, 102], [101, 14880, 11537, 76754, 119, 10472, 10114, 10435, 10105, 11309, 10161, 146, 21852, 10189, 12962, 11155, 106, 10689, 16138, 10271, 119, 10111, 10271, 112, 187, 10472, 98453, 101695, 119, 119, 119, 119, 146, 97881, 13028, 10301, 169, 32221, 67299, 19799, 12892, 19153, 102], [101, 146, 24944, 11152, 30935, 10189, 13028, 10301, 29435, 10345, 10467, 28580, 17907, 10345, 24960, 10341, 39234, 10415, 10345, 12976, 10105, 11005, 11263, 17038, 117, 10124, 10189, 22024, 136, 112, 117, 107, 24153, 146, 112, 181, 10472, 17644, 102], [101, 127, 11005, 72453, 40924, 88237, 10106, 169, 11005, 72453, 45006, 10950, 10108, 130, 13332, 13028, 11005, 72453, 38367, 10123, 119, 112, 117, 112, 14962, 10189, 13486, 29025, 10111, 12976, 11005, 72453, 62006, 119, 102], [101, 119, 29922, 10230, 10105, 11572, 10108, 17897, 17883, 157, 10567, 56361, 10107, 119, 112, 117, 112, 59048, 20400, 14962, 12754, 10393, 12820, 21031, 10741, 10106, 13375, 25831, 11639, 53740, 10113, 119, 112, 117, 112, 13604, 94530, 18379, 119, 119, 102], [101, 119, 146, 30181, 13574, 10271, 10146, 169, 35472, 15498, 16203, 12277, 169, 10414, 38541, 54031, 10911, 10114, 11005, 11263, 10957, 106, 106, 106, 112, 117, 112, 15105, 12976, 13483, 37801, 13264, 10124, 10189, 136, 136, 136, 136, 136, 136, 136, 136, 55129, 19353, 12211, 10240, 146, 10893, 69110, 46960, 16105, 106, 106, 106, 119, 102], [101, 119, 108, 50738, 10692, 12820, 12796, 10550, 10741, 10106, 101379, 11080, 117, 175, 10575, 13451, 10114, 10911, 10111, 44346, 11005, 11263, 117, 10422, 40414, 10135, 15127, 21133, 10124, 11783, 17555, 10111, 49316, 10135, 10114, 174, 119, 102], [101, 13028, 112, 11639, 169, 21469, 32423, 10114, 10105, 12723, 106, 107, 117, 112, 146, 50725, 29846, 104838, 10106, 10105, 20836, 10111, 119, 102], [101, 145, 17525, 17525, 17525, 17144, 10107, 17030, 119, 112, 117, 107, 12489, 11795, 43934, 10454, 10198, 16587, 44374, 10107, 13961, 29811, 12277, 10271, 47798, 112, 188, 21635, 10455, 186, 13358, 14336, 10350, 136, 107, 117, 112, 27244, 10806, 10473, 11135, 119, 102], [101, 146, 136, 181, 13935, 17019, 10376, 13028, 136, 11639, 34279, 10142, 169, 12902, 57085, 11084, 12373, 10833, 10212, 103780, 119, 102], [101, 146, 10529, 39496, 10189, 10841, 11426, 23763, 112, 10261, 112, 187, 13435, 14907, 13028, 15329, 10114, 21852, 10957, 112, 10689, 10301, 25090, 19777, 22807, 112, 10261, 112, 187, 10151, 13935, 84569, 117, 10473, 13028, 112, 180, 107, 166, 102], [101, 31842, 112, 188, 31311, 10336, 10114, 13028, 10106, 56959, 119, 107, 117, 107, 39340, 10107, 11850, 146, 16938, 112, 188, 13246, 21852, 189, 11178, 19594, 136, 107, 117, 112, 18740, 40414, 146, 21852, 10978, 189, 10124, 108270, 119, 102], [101, 10747, 75980, 10157, 117, 14860, 10107, 48944, 13005, 117, 10348, 117, 13446, 10114, 15441, 19218, 117, 10312, 10108, 10406, 31444, 11293, 12812, 48944, 13005, 117, 21418, 10106, 23115, 119, 112, 117, 112, 10357, 136, 187, 169, 25831, 10169, 169, 26506, 10240, 119, 102], [101, 10117, 10817, 10479, 10393, 169, 12041, 20861, 10162, 12041, 20861, 13268, 119, 119, 119, 176, 17525, 10147, 12976, 169, 62893, 13167, 13028, 10301, 119, 102], [101, 119, 119, 126, 12808, 119, 10345, 11223, 169, 10414, 25749, 119, 102], [101, 35248, 86491, 11918, 50246, 10107, 15189, 23486, 51294, 10107, 117, 13028, 56011, 10908, 174, 47195, 119, 119, 119, 119, 102], [101, 24079, 10473, 11059, 12976, 13028, 10301, 10379, 22807, 10124, 49307, 11090, 20585, 26536, 10147, 119, 112, 117, 112, 12882, 10271, 136, 187, 76456, 10604, 37413, 188, 119, 102], [101, 146, 10392, 23658, 10454, 10151, 48573, 19648, 11290, 119, 112, 117, 119, 12277, 13028, 10301, 16683, 119, 119, 102], [101, 119, 102545, 12277, 10833, 22153, 10105, 11561, 10135, 10485, 12250, 10414, 25749, 136, 136, 136, 136, 119, 102], [101, 22800, 25157, 12864, 37013, 16490, 10350, 28950, 34597, 10550, 47413, 16254, 119, 112, 117, 112, 13554, 29549, 187, 119, 102], [101, 60082, 10107, 15127, 42645, 10134, 14879, 10169, 58864, 119, 102], [101, 19318, 25606, 10944, 171, 110685, 31748, 10173, 31044, 10105, 22907, 35772, 10419, 10108, 14633, 117, 10271, 14982, 32385, 10525, 17587, 10108, 22185, 25588, 117, 11859, 80092, 10107, 10111, 174, 47195, 10107, 119, 112, 117, 112, 10117, 37314, 10281, 119, 102], [101, 13028, 10301, 169, 46960, 16105, 10142, 12976, 13028, 12172, 146, 10134, 169, 10862, 10472, 11178, 19594, 13028, 10149, 38753, 119, 112, 117, 112, 11065, 14819, 10347, 83244, 83865, 10817, 119, 102], [101, 99843, 11090, 32612, 94566, 21322, 10107, 12610, 10117, 10609, 10859, 10357, 112, 187, 30181, 27817, 10271, 10531, 16118, 119, 107, 117, 112, 55260, 14926, 13465, 106, 119, 102], [101, 47336, 12926, 10479, 22153, 57667, 10123, 10978, 12976, 22823, 10525, 10393, 20378, 10124, 169, 15626, 83109, 16080, 119, 119, 102], [101, 119, 119, 10281, 26264, 119, 44271, 10240, 13069, 10161, 119, 119, 146, 10149, 10189, 169, 19826, 119, 112, 117, 112, 12489, 10124, 10271, 10689, 23763, 10978, 11426, 10479, 31311, 10114, 20182, 136, 136, 136, 119, 102], [101, 71292, 11781, 96585, 13646, 10435, 13028, 19556, 136, 112, 117, 112, 70653, 15772, 10105, 33884, 12717, 136, 136, 112, 117, 112, 136, 136, 136, 136, 136, 136, 136, 136, 136, 136, 198, 13028, 10301, 169, 14478, 119, 102], [101, 10414, 25749, 175, 30024, 12172, 189, 15329, 15127, 15541, 119, 102], [101, 119, 12689, 10833, 11520, 10162, 10261, 14383, 10162, 20585, 26536, 10147, 10142, 10855, 11360, 10840, 86074, 10833, 12820, 22591, 10114, 10347, 169, 22735, 119, 119, 11951, 30181, 10374, 33338, 11327, 176, 119, 102], [101, 11500, 169, 13716, 10414, 25749, 11850, 10549, 11231, 10817, 136, 136, 136, 136, 119, 102], [101, 46242, 10414, 38541, 18322, 21133, 12976, 13028, 23763, 117, 16745, 11005, 11263, 26905, 106, 119, 102], [101, 138, 15198, 52523, 10124, 15688, 94618, 18309, 119, 112, 117, 112, 14439, 87632, 10111, 93517, 10135, 10105, 18938, 119, 112, 117, 112, 95205, 117, 10160, 89508, 19534, 117, 20585, 26536, 10147, 117, 10111, 19447, 10301, 20442, 28771, 119, 119, 102], [101, 12242, 13028, 15329, 11816, 10111, 10301, 48886, 10162, 10169, 169, 10751, 99584, 106, 106, 112, 117, 112, 136, 136, 136, 136, 39340, 10107, 10380, 11005, 72453, 15198, 136, 136, 108, 46960, 16105, 108, 13956, 13581, 11813, 108, 16008, 108, 24106, 21328, 96362, 13479, 24558, 108, 13173, 119, 102], [101, 14535, 13028, 41549, 10911, 13028, 21528, 10114, 107, 60083, 10950, 107, 10111, 11059, 146, 30514, 13028, 72082, 10841, 117, 10111, 146, 15329, 169, 21001, 10188, 11152, 67952, 11678, 10454, 172, 119, 102], [101, 119, 119, 13486, 11490, 21051, 10162, 11090, 12659, 10410, 11791, 26275, 42481, 10514, 13362, 50939, 63081, 10107, 10106, 20442, 43382, 26926, 136, 112, 117, 112, 10117, 15903, 12955, 10134, 36197, 10741, 12373, 11155, 10134, 182, 119, 102], [101, 149, 10369, 10133, 119, 119, 119, 119, 10192, 146, 10392, 42422, 10472, 169, 13448, 22571, 11471, 119, 102], [101, 119, 16040, 10169, 10531, 57676, 10376, 17684, 10269, 13295, 119, 102], [101, 14535, 11319, 54770, 12704, 14526, 10108, 10105, 11038, 27198, 10124, 18162, 117, 11084, 85509, 10105, 11319, 52158, 10123, 20758, 19153, 10108, 10105, 27558, 10124, 119, 119, 102], [101, 13028, 10301, 37013, 16490, 10350, 106, 106, 112, 117, 112, 14962, 45476, 13028, 23763, 13028, 11367, 136, 188, 10104, 91823, 17446, 11844, 42842, 119, 112, 117, 112, 13554, 46938, 66129, 119, 102], [101, 119, 31558, 10245, 13486, 11005, 106140, 119, 102], [101, 164, 107, 119, 95026, 84949, 10731, 13362, 10237, 119, 38356, 10457, 92507, 54055, 11211, 10884, 119, 10281, 26264, 119, 44271, 10240, 88492, 10230, 119, 119, 12976, 112, 187, 10271, 10978, 111, 10392, 10410, 132, 10149, 13028, 10529, 169, 12887, 21833, 136, 107, 166, 102], [101, 24781, 10105, 11005, 11263, 10149, 13028, 10529, 10189, 43509, 14985, 103896, 17820, 78006, 11155, 10415, 35329, 41665, 10135, 20442, 17175, 136, 117, 11065, 75980, 12682, 10554, 10112, 119, 102], [101, 29263, 23497, 11008, 10738, 10376, 10284, 13028, 10301, 169, 13716, 117, 67952, 117, 78006, 119, 119, 102], [101, 119, 146, 10374, 10114, 67348, 10741, 10142, 169, 68533, 10106, 13596, 18745, 10111, 146, 136, 181, 24426, 11152, 32342, 12916, 119, 24054, 10339, 56056, 13956, 16216, 12277, 146, 10149, 23763, 10380, 15127, 43310, 102], [101, 11334, 10124, 169, 91978, 19880, 11395, 16410, 119, 112, 117, 112, 17144, 10189, 10795, 10174, 10106, 119, 13491, 13028, 14302, 136, 112, 117, 112, 13073, 119, 112, 117, 112, 11152, 10798, 14424, 119, 112, 117, 112, 12914, 10124, 169, 91978, 30870, 187, 119, 102], [101, 13486, 11490, 21051, 10162, 11090, 12659, 10410, 22970, 117, 10301, 13028, 157, 58132, 11090, 13172, 10108, 10151, 19648, 11290, 10189, 13028, 16938, 136, 188, 13486, 19181, 10189, 28353, 98370, 136, 119, 102], [101, 13885, 15300, 10529, 169, 66998, 41583, 10263, 10106, 10105, 16065, 10123, 119, 112, 117, 112, 12865, 10374, 169, 25831, 31773, 10106, 10105, 77985, 10350, 119, 119, 102], [101, 164, 107, 119, 44271, 10240, 10858, 39489, 10667, 146, 112, 172, 56898, 117, 10473, 10948, 11223, 169, 12211, 10240, 52428, 11223, 72597, 30488, 10114, 14727, 117, 22807, 10189, 22734, 10124, 29435, 10894, 11284, 10457, 107, 166, 102], [101, 12882, 36474, 45565, 107583, 13028, 10301, 169, 98453, 101695, 106, 117, 11065, 10301, 169, 46960, 16105, 106, 102], [101, 119, 18484, 12111, 117, 10208, 13484, 10107, 10662, 13677, 169, 12211, 10240, 12373, 10261, 20694, 12935, 10142, 169, 10911, 10415, 131, 136, 13028, 21852, 12976, 136, 187, 11783, 16441, 10347, 46267, 10112, 136, 112, 117, 112, 138, 12211, 10240, 136, 119, 102], [101, 119, 107, 85099, 20442, 101990, 106, 112, 117, 112, 107, 117, 12415, 10105, 11783, 10526, 20758, 19153, 10169, 10151, 13925, 27116, 11988, 10189, 12174, 61093, 10151, 12637, 37590, 10368, 119, 119, 102], [101, 13486, 11490, 21051, 10162, 11090, 12659, 10410, 50133, 20442, 22185, 67952, 53317, 57487, 28895, 77014, 23763, 18745, 10105, 19425, 14819, 15217, 23332, 20442, 54892, 10457, 10146, 169, 170, 119, 102], [101, 63118, 24952, 169, 39121, 10115, 188, 56082, 119, 112, 117, 112, 108, 10392, 13227, 10425, 11131, 10107, 10978, 13486, 14424, 10189, 60600, 10107, 11345, 119, 112, 117, 112, 11065, 10301, 169, 78254, 10261, 119, 102], [101, 15127, 20585, 26536, 10147, 119, 102], [101, 93951, 13028, 61082, 106, 117, 10377, 112, 187, 98453, 101695, 13935, 84569, 10107, 11850, 13028, 10189, 10301, 13483, 23025, 10531, 12723, 119, 117, 47556, 10108, 45752, 10114, 45853, 17446, 17936, 119, 102], [101, 11065, 50884, 11259, 10151, 19648, 11290, 119, 119, 102], [101, 119, 10747, 54892, 21322, 10107, 119, 112, 117, 112, 64435, 14234, 12748, 146, 17038, 24944, 146, 10134, 17037, 10114, 10155, 169, 11322, 10107, 26905, 119, 112, 117, 112, 35507, 117, 51457, 46347, 14925, 103085, 117, 88660, 143, 119, 102], [101, 14962, 10301, 11178, 10108, 15127, 61565, 74628, 10115, 119, 102], [101, 15127, 54892, 21322, 10107, 15138, 10336, 10189, 10146, 10151, 10414, 16587, 10284, 19642, 43774, 10376, 53459, 10575, 26960, 10162, 119, 102], [101, 11590, 11639, 22719, 131, 20108, 11478, 118, 30908, 10115, 10262, 16070, 10479, 10246, 10169, 39709, 13503, 10157, 11783, 10526, 20758, 19153, 10188, 22519, 119, 119, 102], [101, 119, 119, 13486, 11490, 21051, 10162, 11090, 12659, 10410, 11065, 10301, 59232, 10105, 35431, 10108, 169, 62893, 13167, 119, 102], [101, 19728, 10414, 38541, 10107, 10106, 75934, 56629, 11850, 10218, 12871, 10354, 29431, 10111, 125, 10855, 12935, 10455, 49219, 10192, 38078, 11131, 10107, 10978, 10266, 119, 119, 119, 10380, 27874, 10978, 12976, 13672, 119, 102], [101, 11065, 12916, 119, 10104, 30409, 10567, 10301, 10151, 19648, 11290, 119, 102], [101, 160, 33893, 151, 30889, 11259, 57929, 106, 106, 106, 106, 112, 117, 112, 10228, 10921, 15329, 169, 12103, 10111, 20517, 14293, 13893, 12541, 21885, 17155, 169, 29963, 119, 102], [101, 46910, 54427, 10107, 111, 14539, 69614, 11539, 10455, 10606, 27722, 18745, 117, 10271, 112, 187, 169, 15198, 11940, 107, 166, 102], [101, 119, 93951, 10271, 17684, 10269, 10678, 10114, 10940, 146, 10149, 87377, 11951, 11337, 10529, 169, 12356, 146, 136, 22469, 11005, 72453, 39709, 73491, 20442, 13295, 10106, 10111, 15329, 10435, 15127, 21997, 119, 102], [101, 11065, 10301, 10151, 19648, 11290, 119, 112, 117, 112, 30797, 82065, 10525, 10108, 15348, 119, 102], [101, 10685, 10874, 117, 13028, 10894, 12820, 10529, 169, 27920, 104277, 56299, 67952, 13935, 10111, 10894, 10347, 24109, 29165, 10162, 10950, 10114, 14234, 11471, 16441, 11044, 23886, 10240, 39742, 10119, 10123, 119, 102], [101, 119, 10747, 75980, 10157, 49501, 28149, 19308, 18549, 10157, 10146, 11005, 11263, 21158, 119, 112, 117, 112, 10747, 10464, 10124, 10978, 169, 24109, 11231, 10189, 37374, 13028, 10188, 104429, 67952, 11005, 11263, 13028, 136, 11639, 119, 102], [101, 13026, 10479, 17270, 10114, 10347, 43934, 186, 13358, 14336, 15794, 41654, 73696, 10901, 10301, 43977, 10950, 10455, 21296, 10529, 82459, 119, 112, 117, 112, 11065, 136, 11639, 10151, 13935, 84569, 117, 148, 119, 102], [101, 86481, 10108, 11345, 23819, 11284, 69442, 10107, 10111, 16762, 18549, 56221, 10146, 11161, 10317, 11783, 10526, 20758, 19153, 12361, 13196, 118, 13578, 12172, 119, 102], [101, 119, 24153, 11850, 13028, 117, 10261, 10124, 10151, 13935, 84569, 106, 112, 117, 112, 16976, 117, 13028, 21528, 10529, 10114, 12796, 31862, 10978, 10189, 13172, 20165, 12373, 11951, 10301, 19090, 10114, 18926, 119, 102], [101, 119, 13656, 128, 118, 124, 10106, 10105, 32074, 119, 112, 117, 112, 146, 66069, 11345, 33338, 10473, 32941, 11337, 119, 112, 117, 112, 60928, 11345, 119, 112, 117, 107, 11696, 112, 11639, 10105, 97605, 17684, 10269, 119, 107, 117, 107, 14535, 13028, 112, 11639, 169, 15263, 12449, 10862, 117, 107, 166, 102], [101, 11065, 22591, 10105, 10347, 15171, 117, 13028, 11005, 72453, 38367, 10123, 117, 11206, 11858, 13028, 11783, 16441, 11005, 72453, 15329, 10957, 119, 102], [101, 53110, 10123, 14439, 11005, 11263, 19556, 10111, 25923, 10147, 12935, 11783, 10526, 20758, 19153, 119, 119, 102], [101, 119, 11049, 169, 54892, 21322, 10107, 17684, 16272, 119, 102], [101, 13486, 11490, 21051, 10162, 11090, 12659, 10410, 10167, 10105, 17781, 29846, 12820, 38903, 51747, 87615, 10114, 14603, 10741, 10114, 10226, 11499, 17903, 10230, 119, 17121, 10261, 48343, 10105, 32070, 35631, 166, 102], [101, 11740, 112, 188, 63001, 10911, 54892, 21322, 10107, 26686, 12277, 13028, 16938, 112, 188, 21528, 169, 98507, 13935, 21001, 102], [101, 12864, 15498, 97038, 10246, 12211, 10240, 117, 12976, 169, 10198, 52302, 17408, 119, 102], [101, 23490, 14488, 11250, 10171, 10142, 169, 18299, 10114, 38008, 11850, 10833, 28615, 169, 10817, 119, 112, 117, 112, 10357, 22282, 10113, 74569, 20585, 26536, 10147, 10841, 13028, 27874, 10978, 10271, 119, 119, 102], [101, 17160, 146, 30270, 44531, 131, 10151, 10106, 27794, 10703, 31748, 22755, 19232, 20627, 117, 10473, 10379, 169, 20118, 11639, 14956, 11304, 10108, 31237, 11951, 14982, 17734, 10114, 15153, 10133, 119, 102], [101, 84718, 10216, 12839, 10123, 10531, 13028, 54892, 21322, 10107, 119, 102], [101, 10261, 10157, 106, 112, 117, 107, 12820, 169, 11639, 14956, 11304, 117, 11322, 10107, 11426, 117, 48573, 10454, 10192, 10464, 10124, 11419, 51511, 10230, 13028, 10114, 10529, 18549, 10169, 30455, 13028, 112, 11639, 10472, 94274, 96721, 107, 166, 102], [101, 103014, 12558, 67420, 119, 119, 119, 12277, 13028, 10301, 169, 62893, 13167, 10111, 17367, 15217, 10188, 169, 18765, 30918, 30518, 45596, 15388, 119, 119, 102], [101, 74837, 10111, 22907, 35772, 10419, 119, 102], [101, 12489, 10978, 58081, 10741, 15263, 11426, 10189, 23763, 136, 10414, 25749, 136, 10111, 45020, 10376, 10271, 10135, 12142, 12518, 119, 102], [101, 31916, 28409, 52321, 105717, 10160, 10105, 27925, 10108, 122, 24309, 54892, 21322, 10107, 14819, 10472, 10347, 18162, 10114, 84630, 10106, 10531, 12723, 119, 112, 117, 112, 36241, 10107, 10108, 10533, 119, 102], [101, 12865, 14982, 10472, 14603, 10142, 22907, 35772, 10419, 10111, 66191, 10106, 17446, 19912, 119, 112, 117, 112, 16680, 34326, 17285, 10301, 12183, 10155, 11426, 23959, 14229, 117, 10111, 10301, 119, 102], [101, 10747, 10124, 169, 107, 28803, 83109, 107, 16080, 117, 10192, 25245, 10114, 80203, 10238, 33968, 119, 102], [101, 93951, 13028, 119, 102], [101, 10377, 136, 187, 48989, 16780, 10251, 10114, 12888, 10105, 119, 10117, 10738, 57814, 95066, 34778, 58445, 29331, 29087, 11371, 11783, 14569, 31877, 15398, 10114, 10105, 25831, 11520, 10612, 21133, 10108, 10105, 12153, 119, 112, 117, 112, 11696, 10164, 119, 102], [101, 21661, 57667, 10123, 13028, 10301, 169, 174, 46921, 10230, 62893, 13167, 106, 117, 146, 75980, 22094, 10189, 112, 187, 12976, 105315, 10841, 13028, 13574, 16683, 11299, 74437, 10114, 10105, 11765, 18823, 117, 173, 10237, 136, 117, 35684, 10162, 11859, 13808, 153, 21793, 119, 119, 102], [101, 146, 10894, 40225, 10112, 14234, 11376, 57254, 10106, 10189, 11783, 10526, 20758, 19153, 119, 102], [101, 146, 112, 181, 79782, 10741, 10169, 10531, 34478, 32782, 10112, 119, 107, 117, 107, 14962, 112, 187, 13028, 102], [101, 12972, 11517, 82531, 105744, 11065, 12415, 10818, 12096, 117, 10271, 112, 187, 32560, 10775, 106, 107, 117, 107, 146, 112, 181, 169, 12865, 21057, 10133, 107, 166, 102], [101, 17540, 10950, 10108, 15127, 70953, 13028, 11783, 10526, 20758, 19153, 119, 119, 102], [101, 12489, 119, 119, 13028, 10301, 10151, 19648, 11290, 136, 119, 102], [101, 56448, 10123, 10105, 61694, 10741, 13028, 11783, 10526, 20758, 19153, 106, 112, 117, 112, 14439, 69110, 57667, 10123, 10188, 20442, 15293, 10107, 13935, 119, 102], [101, 12489, 10107, 81708, 10124, 10992, 10347, 11790, 10410, 20950, 10301, 11284, 19528, 16683, 15626, 177, 11703, 10114, 13486, 19181, 10474, 12606, 79423, 11912, 119, 102], [101, 119, 94566, 21322, 10107, 190, 20768, 10477, 19904, 119, 102], [101, 14535, 13028, 10301, 32403, 169, 30931, 12820, 12373, 10261, 10124, 10151, 14066, 13028, 11850, 117, 11059, 13028, 10301, 169, 62893, 13167, 119, 117, 11065, 112, 11639, 169, 10134, 12141, 11012, 112, 187, 102], [101, 37025, 12976, 10833, 75354, 13028, 10944, 15329, 10271, 10135, 10105, 12014, 10108, 169, 12211, 10240, 78978, 10308, 12277, 20442, 28780, 90695, 10162, 21408, 10114, 12647, 100332, 119, 119, 102], [101, 76783, 56299, 117, 12901, 10124, 14105, 10106, 10105, 11356, 10142, 108, 10108, 35959, 10107, 170, 10350, 91175, 11949, 12647, 64216, 10105, 172, 119, 102], [101, 10117, 136, 11005, 106140, 136, 20104, 119, 112, 117, 112, 83852, 111, 132, 11678, 10454, 119, 102], [101, 10117, 11259, 16815, 10731, 52743, 119, 87845, 10113, 12396, 71874, 10107, 25064, 117, 13028, 10301, 17122, 10146, 22185, 10151, 13935, 84569, 10146, 16667, 10124, 119, 119, 102], [101, 119, 18249, 136, 187, 10114, 37390, 16105, 117, 32282, 22525, 13190, 118, 11387, 11155, 10347, 10798, 10108, 11345, 119, 112, 117, 112, 108, 20585, 26536, 10147, 119, 102], [101, 119, 119, 51551, 10115, 12489, 44936, 10114, 39750, 10107, 119, 112, 117, 107, 94524, 46912, 21936, 34420, 112, 188, 59816, 13448, 119, 107, 117, 112, 71432, 10114, 169, 10817, 10479, 15573, 19626, 10105, 35660, 11639, 119, 102], [101, 14535, 146, 63001, 13028, 107, 14516, 165, 112, 187, 19090, 136, 107, 112, 117, 107, 10189, 17574, 146, 16938, 112, 188, 11005, 11263, 10169, 48628, 13028, 19918, 10169, 119, 107, 166, 102], [101, 12489, 169, 11005, 72453, 38367, 10123, 119, 102], [101, 11590, 54892, 21322, 10107, 27156, 10114, 15541, 10531, 17684, 10269, 10662, 146, 98935, 10957, 119, 102], [101, 15652, 10751, 12403, 16624, 19157, 12183, 10106, 12820, 15306, 11084, 10551, 12590, 10107, 119, 119, 136, 119, 102], [101, 11096, 10731, 43320, 10107, 131, 14535, 13028, 26467, 13028, 16938, 136, 188, 16138, 16938, 136, 188, 10139, 10165, 10612, 10911, 10160, 15127, 10911, 10160, 15127, 119, 102], [101, 13554, 10788, 47116, 50808, 17544, 131, 99946, 12015, 11203, 17056, 106140, 99558, 37312, 13177, 10162, 55568, 10269, 119, 112, 117, 107, 141, 13170, 189, 186, 13055, 10230, 10399, 170, 10575, 12935, 152, 26134, 189, 16938, 112, 188, 107, 166, 102], [101, 12489, 169, 12211, 10240, 119, 102], [101, 146, 13009, 12277, 10833, 10124, 15263, 10111, 50766, 16376, 117, 10833, 10124, 10464, 10108, 12676, 15626, 83109, 78006, 10107, 10479, 92028, 119, 119, 102], [101, 24781, 16938, 136, 188, 13028, 119, 11345, 10345, 10301, 13028, 16683, 13172, 10108, 169, 46960, 16105, 10114, 10149, 10189, 10345, 11387, 11044, 10271, 136, 187, 11170, 10305, 20442, 10478, 19362, 59427, 10123, 119, 102], [101, 12489, 169, 37013, 16490, 10350, 55526, 119, 112, 117, 112, 11469, 27874, 117, 146, 10840, 103774, 10162, 10189, 10198, 21874, 115, 115, 10160, 10464, 12331, 119, 119, 102], [101, 13646, 15042, 10124, 169, 51670, 10114, 19626, 10435, 119, 102], [101, 13073, 119, 14812, 40414, 11951, 17367, 10106, 10531, 12723, 10124, 10798, 15626, 83109, 10212, 18485, 118, 12261, 31285, 53504, 19308, 13961, 64312, 10901, 119, 10747, 12647, 12149, 16683, 11695, 102], [101, 102204, 10874, 117, 10380, 10135, 169, 12558, 29914, 17172, 13028, 10111, 119, 16543, 10301, 10472, 24376, 10106, 10105, 56126, 119, 112, 117, 107, 10377, 112, 187, 169, 55277, 10157, 10189, 10155, 107, 166, 102], [101, 14012, 88993, 10841, 13028, 136, 11639, 39320, 11155, 10135, 62541, 10410, 73267, 62052, 10142, 10105, 36365, 10114, 36365, 10111, 13028, 136, 11639, 16683, 11732, 117, 11005, 11263, 10148, 10550, 20517, 11639, 10812, 119, 102], [101, 12277, 10155, 107, 10148, 39005, 107, 13028, 36110, 169, 11005, 72453, 62893, 13167, 117, 11059, 11023, 10107, 117, 13028, 10301, 49148, 119, 102], [101, 11065, 10301, 169, 37013, 16490, 10350, 45571, 10169, 10192, 12103, 119, 112, 117, 112, 13646, 10107, 31237, 13028, 51903, 119, 11065, 11758, 17367, 17920, 11065, 11758, 11783, 10950, 108, 17860, 10692, 108, 14045, 119, 102], [101, 13028, 10301, 169, 74730, 26767, 10108, 57667, 10123, 106, 112, 117, 107, 10126, 40546, 131, 10111, 13028, 112, 11639, 10151, 13935, 84569, 10479, 27874, 10107, 10689, 10944, 104429, 10689, 21528, 106, 107, 117, 112, 160, 68999, 11369, 58573, 11403, 39999, 11490, 157, 12396, 119, 102], [101, 119, 93951, 10531, 17684, 10269, 107781, 169, 36761, 10108, 10105, 11005, 106140, 32924, 91756, 10111, 146, 21528, 10114, 11036, 10486, 119, 102], [101, 164, 107, 14185, 145, 52188, 11273, 14703, 29227, 10171, 58787, 62674, 82834, 50183, 41425, 15130, 10808, 11360, 77499, 11781, 11997, 10161, 119, 119, 119, 11406, 119, 17665, 177, 112, 107, 166, 102], [101, 146, 10392, 10105, 35598, 131, 146, 21852, 62136, 14796, 10114, 11760, 19515, 10473, 11005, 106140, 10146, 57667, 10123, 119, 119, 102], [101, 11005, 11263, 146, 16138, 13028, 119, 119, 102], [101, 146, 112, 172, 11850, 10114, 10149, 10531, 119, 102], [101, 119, 146, 11250, 10112, 60818, 22451, 119, 112, 117, 112, 14864, 10435, 10978, 20575, 10108, 34238, 106, 112, 117, 112, 100061, 47271, 11369, 10301, 171, 29948, 10157, 10142, 29694, 10230, 24699, 10157, 60818, 22451, 13332, 106, 112, 117, 112, 17712, 169, 71033, 32002, 11661, 106, 112, 117, 112, 17712, 11135, 119, 102], [101, 94566, 21322, 10107, 10124, 10464, 12307, 119, 119, 102], [101, 10301, 13028, 169, 10817, 117, 10345, 169, 63986, 136, 112, 117, 112, 20517, 10347, 54468, 10111, 19833, 117, 46960, 16105, 106, 119, 102], [101, 71292, 11781, 96585, 100061, 50884, 11259, 50972, 22560, 37174, 11090, 119, 119, 102], [101, 13486, 11490, 21051, 10162, 11090, 12659, 10410, 146, 112, 22469, 14794, 10347, 16197, 10114, 20575, 10957, 42819, 40843, 11858, 119, 107, 166, 102], [101, 10468, 96592, 10107, 136, 12815, 11405, 49608, 10107, 11758, 180, 112, 10119, 13464, 10842, 11744, 119, 107, 117, 112, 27485, 96592, 10107, 10446, 13621, 22530, 11359, 19962, 136, 187, 136, 25283, 10901, 24085, 10110, 16677, 10248, 10141, 141, 136, 10552, 119, 102], [101, 17056, 106140, 102], [101, 37964, 11337, 14794, 49151, 14796, 13172, 169, 11005, 72453, 11250, 10112, 10531, 26905, 15331, 63251, 10454, 38008, 10824, 24911, 20506, 64118, 14234, 10635, 169, 12888, 10226, 46960, 10107, 10135, 10824, 188, 119, 102], [101, 50071, 118, 50756, 34510, 11823, 10106, 66126, 58511, 10106, 14247, 75631, 10113, 108, 98429, 119, 102], [101, 119, 146, 16938, 136, 188, 19556, 10192, 18077, 10473, 158, 11346, 10115, 136, 188, 10657, 10817, 146, 17367, 189, 22823, 136, 188, 10192, 10817, 146, 12888, 119, 119, 119, 189, 11346, 10115, 136, 188, 10192, 11343, 12166, 10911, 119, 119, 119, 15127, 15263, 17684, 10269, 119, 102], [101, 11590, 109465, 10107, 41008, 12482, 10380, 10261, 25098, 10162, 10911, 10188, 10226, 11816, 40825, 10107, 41008, 10114, 13595, 10911, 21852, 10111, 41549, 10911, 15198, 45217, 119, 112, 117, 112, 11597, 119, 102], [101, 27920, 70156, 10136, 14234, 18086, 177, 31877, 15127, 54892, 21322, 10107, 17555, 119, 102], [101, 12277, 13028, 17038, 20575, 13717, 16740, 169, 17684, 10269, 13123, 146, 11337, 24538, 10133, 119, 102], [101, 119, 146, 10392, 11005, 106140, 171, 10908, 10230, 106, 112, 117, 112, 146, 10944, 136, 188, 58208, 10531, 106, 112, 117, 112, 10747, 10134, 10380, 42235, 106, 112, 117, 112, 41859, 28088, 25584, 10124, 11049, 169, 20506, 10410, 16683, 119, 112, 117, 112, 136, 136, 136, 136, 119, 102], [101, 119, 103014, 117, 146, 165, 112, 181, 169, 107, 12211, 10240, 117, 107, 146, 165, 112, 181, 10105, 13486, 19918, 107, 13906, 10550, 107, 117, 169, 107, 40503, 54047, 107, 91175, 119, 112, 117, 112, 17540, 10105, 11005, 11263, 10491, 10271, 13028, 12121, 22219, 44051, 15794, 19648, 11290, 119, 119, 102], [101, 16976, 10261, 136, 187, 94592, 11783, 10526, 20758, 19153, 119, 102], [101, 146, 24376, 16938, 112, 188, 11850, 10114, 63001, 10531, 12373, 10271, 112, 187, 169, 25785, 20210, 10473, 12976, 10134, 10105, 12469, 10458, 13028, 34420, 112, 188, 26282, 10111, 31237, 136, 107, 117, 112, 19803, 119, 102], [101, 11301, 10105, 19822, 10111, 15127, 29811, 117, 169, 101328, 16405, 11160, 15042, 21937, 10911, 10189, 10271, 112, 187, 10472, 10911, 10189, 10105, 86425, 21528, 10114, 15329, 29956, 10162, 10108, 10473, 107, 166, 102], [101, 56448, 10123, 10105, 11005, 11263, 10741, 117, 28780, 90695, 10162, 38356, 13221, 10157, 119, 112, 117, 112, 138, 10153, 98119, 10817, 10134, 19508, 10106, 10105, 12014, 189, 28780, 90695, 10162, 11783, 10526, 20758, 19153, 119, 119, 102], [101, 119, 14820, 10105, 54963, 10108, 12014, 78560, 11676, 29597, 10106, 17627, 11393, 20648, 10305, 119, 112, 117, 107, 10271, 112, 187, 10380, 11005, 106140, 119, 107, 166, 102], [101, 119, 44170, 10124, 71028, 10135, 10105, 10950, 48865, 10189, 10134, 10380, 21610, 10112, 10106, 20442, 13578, 10893, 10114, 17860, 10950, 10271, 136, 187, 11005, 106140, 10135, 119, 102], [101, 11740, 136, 188, 21852, 12976, 136, 187, 110353, 117, 10105, 18638, 10261, 136, 187, 25235, 10230, 64301, 10106, 11360, 10105, 12286, 10345, 10226, 67952, 11005, 106140, 13295, 10160, 10105, 11572, 10108, 10189, 11618, 119, 102], [101, 12604, 10174, 31237, 193, 136, 10435, 10678, 10135, 19353, 10169, 193, 136, 10435, 72773, 10978, 11426, 10479, 100332, 11951, 10336, 119, 112, 117, 112, 59232, 10192, 38078, 11131, 10107, 10978, 12976, 13028, 10529, 10114, 23763, 119, 102], [101, 32650, 21353, 21550, 10169, 15045, 37382, 10155, 108, 140, 73803, 11975, 108, 14017, 108, 20749, 109641, 11406, 119, 16232, 16105, 10380, 10841, 10105, 57667, 10123, 21405, 12935, 10301, 193, 119, 102], [101, 119, 13961, 10183, 10115, 11054, 15587, 13893, 50756, 78006, 11005, 72333, 119, 102], [101, 14962, 10149, 13028, 38008, 10189, 59107, 15417, 12172, 15045, 36608, 10106, 27830, 11130, 23886, 16497, 136, 112, 117, 112, 136, 10261, 136, 187, 10151, 55540, 10414, 25749, 119, 112, 117, 112, 10261, 10374, 48628, 56294, 10261, 10134, 21484, 18306, 119, 102], [101, 13486, 11490, 21051, 10162, 11090, 12659, 10410, 52158, 10123, 20758, 19153, 12361, 105826, 78254, 57667, 10123, 117, 48989, 16780, 10251, 106, 119, 102], [101, 119, 31558, 10160, 10105, 11616, 10108, 10531, 52158, 10123, 20758, 19153, 117, 10111, 10261, 14009, 10142, 11152, 10808, 12100, 119, 119, 102], [101, 35936, 117, 39933, 106543, 119, 112, 117, 107, 11065, 112, 11639, 171, 10908, 10230, 119, 107, 117, 112, 24781, 10301, 13028, 171, 10908, 10230, 136, 112, 117, 112, 30929, 12926, 75354, 31237, 119, 112, 117, 107, 11065, 112, 11639, 171, 10908, 10230, 170, 107, 166, 102], [101, 22800, 26905, 119, 117, 14890, 67524, 119, 112, 117, 112, 11590, 55768, 119, 112, 117, 112, 11791, 13028, 21528, 169, 13486, 57085, 10345, 10149, 13028, 191, 119, 102], [101, 20517, 171, 10908, 10230, 24984, 10263, 117, 10301, 13028, 169, 49422, 10345, 169, 46960, 16105, 136, 112, 117, 112, 10149, 13028, 21528, 10114, 10347, 18689, 136, 112, 117, 112, 183, 10237, 10237, 10189, 10107, 10105, 18077, 119, 102], [101, 71547, 19353, 13028, 10301, 12373, 10271, 136, 187, 10435, 13028, 10529, 119, 112, 117, 112, 12489, 15107, 10271, 38008, 11850, 11471, 15629, 10741, 104862, 13672, 119, 102], [101, 146, 11337, 28086, 13028, 12277, 13028, 10301, 10472, 169, 98453, 101695, 117, 20428, 117, 10345, 13028, 10160, 10112, 16247, 10169, 102549, 11517, 177, 10392, 169, 124, 110, 10163, 119, 102], [101, 119, 146, 10529, 10114, 12608, 15127, 15293, 119, 112, 117, 112, 11149, 30181, 12415, 117, 136, 145, 33893, 99843, 100061, 22570, 68999, 11369, 151, 89696, 39061, 136, 10111, 146, 12415, 136, 151, 118, 146, 118, 144, 118, 144, 118, 138, 136, 10111, 10833, 25441, 136, 11059, 191, 10237, 119, 102], [101, 146, 14794, 15329, 11005, 72333, 10155, 169, 10414, 25749, 117, 169, 12361, 105826, 10345, 169, 10144, 10874, 10106, 10164, 15127, 19192, 12103, 106, 117, 93951, 12676, 13935, 84569, 10107, 10479, 41549, 119, 119, 119, 119, 102], [101, 146, 136, 181, 13301, 10188, 10151, 39957, 10111, 146, 16938, 136, 188, 21852, 10435, 10105, 73367, 119, 112, 117, 112, 12209, 117, 146, 10149, 21852, 10189, 11178, 18086, 10105, 16304, 119, 102], [101, 119, 11152, 27833, 10301, 41319, 10115, 15127, 52680, 18492, 18745, 106, 106, 106, 106, 112, 117, 112, 10211, 169, 171, 29948, 10157, 17684, 10269, 177, 11337, 21610, 13028, 136, 136, 119, 102], [101, 16040, 13028, 16683, 10192, 38078, 11131, 10107, 10978, 11762, 10479, 11234, 119, 102], [101, 33200, 10107, 19220, 51462, 72686, 131, 67788, 11610, 33377, 15153, 45791, 10106, 11750, 11440, 119, 112, 117, 112, 10117, 21316, 10107, 10108, 65330, 103269, 117, 99946, 14752, 10908, 117, 119, 102], [101, 10747, 105156, 21484, 10162, 10240, 10689, 136, 11639, 71028, 10741, 15130, 10188, 119, 10105, 17298, 10758, 11140, 10124, 10380, 11005, 106140, 119, 146, 10894, 12647, 10347, 10824, 10162, 13246, 12277, 10271, 10309, 81506, 104739, 19777, 20648, 42658, 10230, 10473, 173, 10874, 119, 102], [101, 14535, 10271, 20562, 189, 38008, 11178, 18322, 117, 146, 112, 181, 169, 28780, 90695, 10162, 67603, 10116, 102], [101, 17144, 112, 187, 18090, 11762, 28336, 72003, 39287, 16938, 33876, 169, 19508, 10114, 10347, 42819, 12452, 11850, 169, 14039, 15014, 12373, 10261, 10393, 10226, 31251, 12166, 10226, 175, 10575, 12976, 169, 12211, 10240, 102], [101, 119, 146, 13009, 11951, 10301, 10893, 187, 40333, 15398, 10105, 12364, 10108, 10105, 171, 95898, 10336, 24682, 10189, 141, 72679, 35999, 49248, 12172, 106, 119, 102], [101, 10657, 10798, 95794, 10741, 10111, 10134, 12141, 17920, 10135, 191, 53750, 10107, 13123, 10747, 119, 175, 30905, 62808, 69229, 10124, 169, 11661, 88674, 119, 102], [101, 12689, 94452, 10454, 10689, 10149, 21852, 12976, 24106, 10165, 186, 119, 102], [101, 10117, 10893, 40414, 13028, 112, 11639, 107, 48710, 19308, 107, 10124, 20442, 44112, 10157, 15626, 83109, 117, 11499, 56056, 119, 10796, 10380, 56011, 10908, 10142, 13028, 102], [101, 11399, 10105, 15626, 83109, 10531, 10124, 10472, 169, 33311, 12820, 48281, 10230, 10105, 53839, 10165, 119, 10377, 10124, 12820, 169, 33311, 10108, 18638, 119, 112, 102], [101, 17121, 10833, 98935, 14234, 10414, 38541, 10479, 25470, 25096, 10162, 10485, 14382, 12683, 10171, 10142, 11223, 20165, 11084, 17767, 100332, 111, 10392, 10410, 132, 12415, 11005, 11263, 20585, 26536, 10147, 10833, 30870, 11085, 10920, 119, 102], [101, 119, 146, 12820, 28870, 15127, 13337, 10111, 11783, 20395, 119, 112, 117, 112, 30665, 10531, 10124, 30181, 84630, 10230, 119, 119, 15127, 54892, 21322, 10107, 10124, 30181, 48171, 10188, 16083, 119, 102], [101, 99843, 78043, 11259, 93202, 106, 106, 106, 106, 106, 112, 117, 112, 12222, 12504, 51135, 10107, 10114, 11005, 106140, 41435, 10111, 23254, 106, 112, 117, 112, 13073, 29956, 36611, 12150, 119, 112, 117, 107, 144, 97417, 10115, 47798, 112, 188, 53183, 64474, 10446, 59077, 10112, 119, 107, 166, 102], [101, 10747, 10124, 15127, 40138, 17977, 10478, 10161, 136, 187, 10422, 80800, 10111, 146, 136, 181, 32862, 10114, 67004, 10105, 41859, 28088, 25584, 57675, 12754, 10155, 109784, 10485, 10435, 10105, 41111, 10107, 10854, 10107, 10271, 119, 102], [101, 23946, 23392, 136, 112, 117, 112, 11065, 14982, 10347, 11031, 10114, 51191, 10189, 117, 13028, 11005, 106140, 11499, 17903, 119, 119, 119, 102], [101, 10747, 75980, 10157, 119, 40879, 14996, 16646, 19390, 10124, 169, 11339, 24984, 10263, 106, 106, 112, 117, 112, 33974, 17616, 15165, 13520, 87349, 17616, 149, 72918, 24951, 84444, 106, 112, 117, 112, 136, 11065, 10944, 136, 188, 13086, 41807, 183, 119, 102], [101, 119, 11085, 10253, 11215, 14971, 27833, 33003, 38367, 10123, 11005, 72453, 119, 102], [101, 10838, 20758, 87147, 10107, 119, 102], [101, 87261, 10738, 12489, 10151, 23602, 36064, 11236, 12947, 11195, 14179, 119, 112, 117, 112, 146, 12820, 10944, 136, 188, 23763, 12976, 26777, 109361, 146, 10529, 10142, 10531, 25831, 17684, 10269, 119, 119, 102], [101, 12480, 30856, 10948, 169, 98453, 101695, 10111, 169, 12153, 11293, 120, 28950, 119, 112, 117, 112, 14535, 20442, 17904, 45676, 53037, 10107, 27546, 117, 13028, 136, 11639, 119, 102], [101, 10747, 10124, 13173, 24874, 35214, 117, 10111, 21833, 13173, 24874, 31748, 29626, 119, 112, 117, 112, 11469, 12676, 10108, 13028, 12647, 72082, 31237, 11951, 17367, 20585, 26536, 10147, 117, 157, 108880, 10731, 40214, 160, 12396, 14703, 119, 119, 102], [101, 12845, 10667, 14819, 10347, 11005, 72453, 65827, 10162, 10160, 10531, 18344, 119, 119, 119, 39871, 138, 38367, 10123, 119, 119, 119, 112, 117, 107, 10747, 98370, 112, 188, 169, 75980, 10157, 110039, 169, 49704, 49330, 10160, 169, 11859, 80092, 10479, 10106, 107, 166, 102], [101, 61694, 10133, 12541, 10703, 14796, 10301, 13028, 40138, 11387, 177, 10529, 169, 38171, 10188, 20442, 46960, 16105, 136, 136, 136, 136, 136, 136, 136, 136, 136, 136, 136, 136, 119, 102], [101, 146, 112, 181, 10472, 12211, 10550, 42819, 119, 42384, 49775, 107292, 11223, 16038, 10271, 119, 102], [101, 119, 119, 171, 10686, 36795, 119, 104903, 11273, 57540, 10570, 119, 35921, 10162, 11127, 10567, 13034, 68380, 119, 159, 52338, 10731, 119, 36358, 119, 39999, 11537, 67292, 11537, 119, 11641, 13034, 23641, 11273, 53624, 10759, 119, 10628, 64638, 10206, 53398, 10929, 119, 27324, 119, 32070, 11293, 119, 10119, 23486, 45376, 10929, 119, 102], [101, 119, 98314, 10473, 10992, 10108, 10105, 70719, 12600, 13448, 11858, 10301, 12820, 62020, 11005, 106140, 119, 102], [101, 13486, 11490, 21051, 10162, 11090, 12659, 10410, 13554, 11049, 10151, 19648, 11290, 106, 112, 117, 112, 107561, 13028, 21528, 12976, 10124, 84630, 10230, 10106, 10829, 10114, 10347, 84630, 10230, 19353, 119, 112, 117, 112, 11065, 119, 102], [101, 52866, 72808, 11630, 22491, 11263, 30122, 169, 18048, 117, 10151, 10427, 45463, 10237, 191, 120, 20442, 13578, 10106, 10105, 45989, 49775, 107292, 10189, 13028, 12962, 10106, 169, 11356, 191, 120, 77946, 85377, 119, 102], [101, 119, 119, 158, 11565, 10729, 131, 35343, 10393, 19034, 13245, 169, 23680, 12820, 29748, 10142, 10104, 91823, 10230, 26342, 11327, 56126, 118, 27874, 10901, 119, 112, 117, 112, 14535, 10464, 10124, 15045, 10111, 69179, 11152, 10263, 119, 102], [101, 11783, 10114, 14866, 10142, 13961, 23515, 10108, 20585, 26536, 10147, 136, 16140, 10454, 10464, 14064, 10662, 11223, 19326, 15711, 117, 20187, 37249, 10562, 53960, 15893, 10162, 37343, 11790, 10111, 12865, 73267, 119, 102], [101, 10747, 10124, 10105, 12807, 10108, 15626, 83109, 21227, 11951, 112, 11639, 73082, 10169, 117, 12211, 10147, 107, 166, 102], [101, 119, 13069, 10161, 12126, 11252, 10116, 18863, 10457, 26506, 10879, 10679, 12541, 12361, 10418, 11643, 13145, 24668, 10525, 170, 76797, 10189, 107, 58768, 26134, 25969, 107, 10393, 18058, 10189, 29448, 10165, 165, 112, 187, 11005, 106140, 13935, 10106, 119, 102], [101, 58776, 11023, 10107, 117, 52428, 146, 143, 93089, 59879, 34065, 47855, 66014, 100061, 58573, 24707, 82834, 27277, 119, 102], [101, 10685, 10237, 29055, 10124, 10531, 37836, 11121, 20585, 26536, 10147, 79436, 19090, 10135, 119, 102], [101, 146, 36110, 117, 138, 19826, 10108, 11426, 25157, 10160, 10183, 10115, 117, 10473, 10271, 136, 187, 10472, 15198, 10114, 10347, 169, 11951, 21057, 10133, 117, 10189, 136, 187, 12820, 94536, 10162, 10741, 119, 102], [101, 27956, 47125, 10269, 103014, 117, 146, 10392, 62452, 100061, 11273, 22009, 72894, 75662, 10107, 10108, 169, 11499, 17903, 10230, 117, 23900, 10262, 33121, 117, 74730, 117, 46960, 16105, 63706, 37801, 10115, 119, 102], [101, 119, 47168, 119, 94566, 21322, 10107, 109320, 10105, 17333, 10108, 11440, 11858, 10393, 10114, 19918, 10169, 10455, 11639, 97309, 14446, 18926, 119, 119, 102], [101, 31237, 10105, 61694, 10301, 13028, 30918, 12864, 10193, 19573, 10142, 10464, 16745, 19868, 12839, 10123, 10261, 55233, 119, 117, 14812, 10464, 10134, 128, 68699, 10108, 119, 102], [101, 60082, 10107, 44271, 10240, 10399, 12820, 10144, 22219, 10251, 119, 102], [101, 119, 11206, 12976, 146, 98075, 44936, 111, 10392, 10410, 132, 146, 19556, 11552, 169, 12211, 10240, 119, 102], [101, 119, 119, 10266, 10369, 10425, 10138, 100595, 10838, 22659, 91251, 16587, 10410, 12504, 10668, 10105, 22185, 11005, 11263, 11898, 66003, 10115, 10686, 41960, 16406, 77805, 10105, 12211, 10240, 136, 136, 136, 136, 12976, 169, 13190, 119, 102], [101, 12882, 11858, 10833, 12820, 14541, 10911, 169, 156, 57992, 10111, 10271, 10134, 169, 13935, 11119, 10707, 48237, 10105, 96881, 10106, 10105, 11519, 106543, 10692, 11085, 10253, 136, 136, 136, 136, 136, 136, 136, 136, 136, 136, 136, 136, 136, 136, 136, 136, 136, 136, 136, 136, 146, 136, 181, 11850, 143, 27128, 32002, 11369, 14703, 119, 119, 102], [101, 11887, 44466, 119, 119, 10189, 19589, 10124, 11005, 106140, 119, 102], [101, 14516, 10105, 61694, 10124, 10261, 136, 136, 112, 117, 112, 12489, 10978, 25791, 13069, 10679, 117, 14015, 36274, 10111, 14248, 10703, 22786, 80157, 10123, 24496, 136, 136, 112, 117, 112, 12271, 31572, 10124, 119, 102], [101, 35936, 11783, 10526, 20758, 19153, 49056, 49537, 25506, 10111, 10684, 26598, 187, 23722, 13028, 14541, 10114, 25612, 88134, 11337, 170, 119, 102], [101, 146, 30181, 27874, 10271, 112, 187, 171, 29948, 10157, 14796, 10380, 11299, 11426, 117, 11198, 27718, 112, 187, 46197, 10345, 27874, 10189, 189, 10392, 14015, 59257, 155, 72185, 14703, 112, 156, 19634, 10345, 102], [101, 23525, 10392, 146, 109969, 53320, 10230, 11178, 29435, 10588, 136, 112, 117, 112, 146, 12415, 146, 170, 119, 102], [101, 31558, 10107, 11850, 169, 60109, 118, 19642, 10106, 22419, 10108, 169, 14325, 10115, 119, 112, 117, 112, 108, 17056, 106140, 119, 102], [101, 12865, 11408, 10529, 12902, 72773, 10108, 11948, 10684, 119, 112, 117, 112, 11065, 27874, 10189, 146, 10392, 10151, 23602, 36064, 11236, 98453, 101695, 10479, 10124, 10151, 107, 119, 102], [101, 75151, 38025, 44802, 10858, 145, 37611, 10731, 10523, 12820, 11553, 118, 156, 10454, 111, 10392, 10410, 132, 14830, 14468, 118, 156, 10454, 111, 10392, 10410, 132, 14830, 14468, 118, 11740, 112, 188, 23553, 11589, 30409, 25749, 117, 12136, 10157, 102], [101, 63118, 11131, 10107, 10978, 23894, 10157, 47382, 119, 112, 117, 112, 10377, 136, 187, 175, 119, 102], [101, 119, 19431, 13051, 57085, 131, 14535, 146, 10944, 27224, 13979, 169, 12136, 11757, 10188, 169, 29448, 13499, 51071, 11733, 12136, 78051, 80092, 120, 25831, 76482, 136, 13028, 10944, 27920, 119, 102], [101, 10747, 10124, 92755, 12864, 107, 34200, 10877, 10575, 107, 14316, 10146, 37241, 118, 11419, 92915, 14926, 31991, 87468, 10107, 113, 103462, 11565, 10107, 114, 187, 40333, 48272, 10162, 10114, 28250, 10216, 10435, 10455, 13935, 11605, 119, 102], [101, 11065, 25157, 11678, 10454, 10146, 20758, 11263, 10472, 13246, 169, 11783, 10526, 20758, 19153, 12261, 20764, 120, 45131, 10894, 82523, 13028, 119, 119, 102], [101, 10841, 20442, 13987, 59148, 14942, 11371, 13028, 11005, 11263, 11345, 170, 10350, 10689, 15329, 10380, 58768, 86522, 10336, 10380, 13028, 30518, 17437, 10455, 13295, 10111, 23763, 136, 25157, 10160, 10911, 10841, 10211, 119, 102], [101, 30929, 12926, 40843, 10134, 10106, 10105, 12117, 10741, 23423, 10142, 10485, 10111, 10689, 19556, 10114, 13424, 14229, 11371, 10833, 11887, 10162, 10114, 49866, 169, 11005, 106140, 96622, 119, 102], [101, 75416, 49248, 160, 108880, 29833, 143, 67753, 27128, 19088, 11517, 136, 112, 117, 112, 149, 63310, 11281, 136, 112, 117, 112, 160, 12396, 24093, 11259, 136, 119, 102], [101, 119, 14535, 13028, 39224, 20442, 43310, 10106, 108, 13736, 108, 21227, 10114, 10105, 108, 12153, 10345, 108, 13448, 119, 112, 117, 112, 11065, 10529, 13745, 169, 108, 11661, 13028, 10944, 14794, 119, 102], [101, 18740, 33700, 10188, 22907, 35772, 10419, 10111, 71841, 14985, 10941, 10415, 10170, 35240, 10142, 10105, 10992, 95652, 10108, 10105, 47842, 99749, 10107, 10108, 10817, 62891, 117, 10105, 18194, 10108, 77586, 119, 102], [101, 11005, 106140, 146, 18957, 10531, 10134, 169, 144, 53668, 10111, 66956, 16898, 12253, 10160, 11424, 10169, 15127, 41008, 58193, 16683, 10406, 11679, 119, 119, 119, 119, 102], [101, 146, 11250, 10112, 169, 136, 146, 11367, 136, 188, 10347, 10240, 10142, 13028, 10114, 10347, 10106, 15127, 12103, 136, 13935, 181, 10575, 119, 112, 117, 112, 15105, 17684, 10269, 117, 10149, 13028, 21852, 12976, 24912, 10124, 136, 112, 117, 112, 80047, 14703, 50183, 111, 10392, 10410, 132, 46291, 11447, 100075, 34065, 10301, 10212, 22238, 119, 102], [101, 11065, 10301, 33338, 10473, 169, 11005, 72453, 11614, 10354, 119, 112, 117, 112, 16260, 42536, 119, 112, 117, 112, 12689, 13028, 21852, 10271, 119, 112, 117, 112, 11065, 43509, 14985, 26767, 10108, 57667, 10123, 119, 102], [101, 11176, 111, 28439, 15453, 10106, 76342, 117, 72513, 10151, 23200, 60914, 15629, 30455, 40843, 11371, 11520, 13971, 10271, 119, 102], [101, 119, 149, 39272, 117, 146, 59232, 12820, 18939, 16219, 15127, 90669, 10107, 17835, 12166, 15127, 13215, 117, 52289, 10957, 10105, 11005, 11263, 10741, 111, 10392, 10410, 132, 59232, 80516, 10957, 10950, 31095, 10105, 184, 119, 102], [101, 107, 146, 165, 112, 181, 14794, 19090, 10114, 10479, 13362, 15127, 82808, 107, 11065, 45041, 11639, 69013, 61024, 10841, 20442, 124, 10924, 12898, 10124, 10198, 40692, 10230, 20442, 54892, 21322, 10107, 15916, 10105, 179, 119, 102], [101, 11065, 10301, 59232, 10464, 10108, 10105, 10992, 62893, 45592, 10162, 11426, 146, 10529, 17038, 10428, 117, 10111, 146, 38008, 56011, 10908, 174, 10133, 119, 102], [101, 10281, 26264, 13028, 10529, 10192, 10464, 31962, 13028, 10741, 12373, 10108, 14796, 13172, 10108, 169, 38367, 10123, 13028, 10301, 14796, 10894, 13028, 11614, 119, 102], [101, 12489, 169, 54892, 21322, 10107, 119, 112, 117, 107, 10747, 10452, 49343, 14079, 14204, 30397, 10944, 112, 188, 13246, 13086, 169, 12541, 10550, 49148, 10454, 119, 107, 117, 112, 10117, 34286, 12117, 10894, 10529, 10590, 117, 107, 11791, 119, 102], [101, 11334, 34420, 112, 188, 19068, 10114, 42852, 18416, 10189, 31311, 10978, 20585, 26536, 10147, 117, 39585, 117, 11750, 37177, 62989, 117, 27993, 17004, 117, 14054, 107, 166, 102], [101, 47556, 10108, 62151, 12166, 10435, 11940, 11223, 10824, 10162, 10160, 10911, 10111, 15127, 47226, 14796, 10978, 13028, 106615, 10157, 10870, 12976, 10271, 10124, 10978, 10911, 10189, 15633, 25749, 10107, 11049, 119, 102], [101, 11065, 10529, 19556, 10114, 10347, 10879, 51256, 10240, 136, 112, 117, 112, 24852, 13028, 10472, 15652, 24109, 13331, 10108, 15637, 14873, 41665, 136, 112, 117, 112, 13646, 11897, 10124, 17339, 10343, 20572, 13499, 10111, 184, 119, 102], [101, 10357, 10134, 34584, 12775, 12928, 10108, 10105, 10924, 163, 104737, 13465, 119, 112, 117, 112, 10357, 11367, 169, 10862, 119, 102], [101, 146, 31580, 39709, 13503, 10107, 11850, 13028, 10662, 13028, 26282, 11424, 10160, 10105, 41203, 10525, 10248, 12090, 119, 58776, 13258, 18443, 13167, 119, 98314, 10978, 20442, 15626, 83109, 119, 119, 102], [101, 115, 46291, 44802, 60675, 119, 112, 117, 112, 15105, 13872, 32994, 56294, 10189, 136, 187, 45218, 13096, 119, 112, 117, 112, 139, 10350, 10108, 169, 19310, 10160, 10105, 11572, 119, 112, 117, 112, 62234, 11309, 10161, 13451, 16118, 11783, 16441, 10347, 22807, 136, 11206, 177, 119, 102], [101, 119, 12242, 96969, 117, 11859, 65571, 117, 22185, 11290, 10908, 117, 22907, 35772, 10419, 117, 11250, 15711, 117, 18908, 68756, 117, 15648, 15453, 117, 91253, 10108, 10542, 117, 10911, 47019, 16589, 172, 119, 102], [101, 20304, 76797, 23203, 10531, 12277, 13028, 27874, 10189, 119, 12916, 89525, 64576, 24030, 24747, 10124, 169, 50756, 119, 119, 102], [101, 119, 94592, 140, 65729, 11259, 141, 72679, 35999, 49248, 119, 102], [101, 146, 18957, 10689, 12647, 12604, 112, 172, 10146, 10456, 14783, 10419, 10380, 177, 10134, 12796, 24874, 10336, 117, 170, 10350, 12277, 30455, 19873, 10105, 107, 166, 102], [101, 146, 10347, 10240, 13028, 117, 20517, 67306, 10911, 25377, 13520, 16382, 14424, 119, 112, 117, 112, 146, 16938, 136, 188, 11131, 119, 112, 117, 112, 146, 52289, 10531, 54892, 21322, 10107, 28553, 10106, 169, 97586, 10350, 10841, 10151, 94526, 119, 102], [101, 14516, 10113, 10479, 10113, 10479, 10113, 117, 16938, 165, 112, 188, 20575, 10105, 75980, 10157, 10479, 45769, 10114, 11419, 97038, 10216, 18123, 10108, 11426, 169, 25831, 119, 107, 119, 102], [101, 14111, 19088, 77836, 11259, 143, 11403, 98348, 106, 112, 117, 112, 25831, 61001, 15388, 106, 112, 117, 112, 138, 41671, 22451, 72337, 30759, 13697, 10269, 106, 112, 117, 112, 108, 43974, 14260, 10115, 10731, 46704, 32435, 20395, 106, 112, 117, 112, 85212, 10271, 10435, 113, 10111, 10798, 114, 10135, 17446, 50908, 14320, 131, 119, 102], [101, 71292, 11781, 96585, 10421, 11733, 93227, 136, 136, 136, 136, 136, 136, 136, 136, 198, 13028, 30181, 10301, 169, 14478, 16745, 98453, 101695, 119, 102], [101, 10117, 75980, 10157, 10479, 11552, 169, 62151, 22872, 14100, 17086, 169, 11783, 10526, 20758, 19153, 10111, 27062, 28353, 169, 22919, 11293, 10453, 16740, 10124, 187, 119, 102], [101, 22034, 11155, 19540, 10531, 13172, 11250, 15711, 10111, 22907, 35772, 10419, 11360, 10105, 18938, 10345, 10393, 10105, 18938, 12820, 53305, 10271, 10798, 26874, 119, 102], [101, 146, 24339, 49307, 11090, 169, 30776, 79203, 119, 112, 117, 112, 146, 10392, 169, 12142, 28950, 119, 112, 117, 112, 10117, 62436, 146, 10228, 10477, 119, 102], [101, 10117, 11005, 11263, 44936, 10114, 10189, 75980, 12682, 14325, 10115, 136, 112, 117, 112, 146, 22151, 10142, 169, 16567, 10400, 117, 10472, 66995, 123, 106, 112, 117, 112, 17056, 106140, 46912, 21330, 119, 102], [101, 10747, 38171, 10893, 64874, 10189, 12991, 10124, 28101, 14446, 60015, 10689, 10301, 11223, 30272, 16934, 119, 102], [101, 10657, 117, 10689, 10301, 10472, 119, 112, 117, 107, 138, 11783, 10526, 20758, 19153, 11005, 18676, 11783, 16883, 117, 10261, 47798, 112, 188, 12820, 23763, 10261, 15107, 10114, 92746, 13028, 10950, 119, 107, 166, 102], [101, 48655, 76624, 11783, 10526, 20758, 19153, 136, 12689, 24944, 16584, 33396, 10472, 20442, 11005, 72453, 48465, 10116, 15541, 11790, 10133, 119, 102], [101, 13486, 11490, 21051, 10162, 11090, 12659, 10410, 10377, 12820, 98370, 136, 188, 15838, 10422, 11898, 117, 10111, 11132, 10454, 10149, 13028, 17038, 62064, 119, 102], [101, 12384, 15417, 55497, 13034, 39041, 10107, 28353, 41594, 10531, 25831, 106, 119, 102], [101, 16976, 31237, 10124, 11612, 10116, 136, 187, 36761, 38523, 13998, 10111, 27546, 59148, 27920, 104277, 10230, 136, 136, 10531, 10124, 22907, 35772, 10419, 10111, 146, 136, 181, 10472, 54214, 119, 102], [101, 12882, 146, 10134, 56126, 117, 146, 136, 22469, 10840, 15772, 12820, 12373, 13028, 25157, 11850, 169, 16762, 23005, 49525, 10112, 47798, 136, 188, 36110, 10189, 13028, 10301, 119, 117, 145, 119, 102], [101, 11065, 10301, 169, 26767, 10108, 57667, 10123, 14796, 10978, 21964, 10392, 13227, 10425, 13028, 43509, 14985, 14179, 11223, 66069, 10230, 12557, 10135, 51747, 20562, 13028, 169, 11170, 16988, 119, 119, 119, 102], [101, 10747, 10124, 31237, 13028, 10301, 169, 46960, 16105, 148, 100025, 17609, 136, 112, 117, 112, 11065, 27207, 15774, 22978, 119, 112, 117, 112, 56448, 10123, 10741, 13028, 10321, 24769, 119, 112, 117, 112, 11065, 36833, 10135, 10181, 119, 102], [101, 13491, 13028, 38522, 10155, 169, 26699, 10345, 11426, 10169, 31199, 136, 112, 117, 112, 107561, 10472, 20442, 11049, 169, 108, 45896, 89024, 10192, 38078, 11131, 10107, 10978, 13028, 119, 102], [101, 11005, 106140, 14796, 10301, 13028, 18745, 11499, 56056, 119, 102], [101, 10955, 12882, 12333, 10124, 11858, 32862, 10114, 10411, 76299, 12991, 28553, 119, 112, 117, 112, 10955, 12882, 12333, 10134, 10379, 169, 12008, 10108, 10105, 25831, 24215, 119, 112, 117, 112, 17121, 10271, 10435, 181, 119, 102], [101, 164, 107, 18877, 179, 112, 156, 56059, 12355, 27922, 13536, 10473, 10379, 10124, 58081, 13190, 12976, 169, 19648, 11290, 12211, 10240, 107, 166, 102], [101, 13486, 11490, 21051, 10162, 11090, 12659, 10410, 11065, 10301, 92755, 10151, 19648, 11290, 106, 119, 102], [101, 146, 10529, 17327, 20442, 42281, 10107, 117, 14612, 119, 119, 102], [101, 12275, 10116, 11369, 12257, 10969, 146, 11337, 35905, 13028, 10301, 169, 62893, 13167, 119, 117, 11065, 18090, 10911, 20442, 32198, 10111, 11059, 41256, 10136, 10911, 10111, 10271, 112, 187, 10435, 10106, 17637, 119, 13069, 10161, 119, 102], [101, 48465, 10291, 10301, 10104, 101319, 20709, 10108, 27949, 10230, 87020, 10111, 24529, 146, 16938, 112, 188, 31624, 11345, 119, 117, 146, 36110, 10149, 13028, 31624, 169, 62893, 13167, 10142, 10492, 119, 102], [101, 156, 32239, 10703, 32310, 16272, 51930, 11268, 57667, 10123, 182, 10477, 10147, 10406, 10161, 10379, 10134, 58081, 13190, 12976, 169, 19648, 11290, 12211, 10240, 119, 102], [101, 119, 66133, 17835, 119, 119, 33338, 15198, 21405, 10188, 45131, 119, 119, 11783, 10526, 20758, 19153, 119, 102], [101, 29263, 23497, 11008, 10738, 10376, 10284, 14880, 11537, 76754, 100061, 50884, 11259, 138, 143, 93089, 59879, 34065, 71033, 24951, 84444, 106, 106, 106, 112, 117, 112, 119, 10143, 32194, 76280, 10240, 37115, 10759, 119, 102], [101, 119, 119, 21776, 53244, 10738, 119, 18970, 10774, 10537, 160, 10123, 10575, 10301, 13028, 30918, 10414, 25749, 119, 102], [101, 119, 29091, 10911, 31237, 13308, 10134, 10151, 13935, 84569, 10106, 11226, 10464, 10111, 146, 11337, 100062, 67004, 10230, 31237, 13028, 10301, 56126, 119, 119, 102], [101, 25148, 160, 68380, 48628, 15107, 10271, 10434, 54892, 21322, 10107, 10111, 10271, 112, 187, 138, 13034, 107, 102], [101, 11065, 10529, 13961, 29811, 10473, 10473, 12277, 13028, 11760, 10271, 10114, 10347, 10151, 13935, 84569, 11426, 10301, 19090, 10114, 10529, 10151, 32282, 10135, 10271, 119, 102], [101, 119, 10117, 115, 19192, 115, 65081, 10112, 10135, 10105, 13448, 10393, 10590, 10323, 19232, 117, 11764, 10105, 28710, 10108, 33436, 64200, 15871, 15774, 117, 10114, 136, 10479, 10944, 10347, 10105, 10992, 10950, 10129, 119, 102], [101, 119, 11023, 10107, 146, 10392, 59995, 10111, 11023, 10107, 146, 10392, 169, 17876, 54892, 21322, 10107, 17611, 10111, 11023, 10107, 146, 10392, 10406, 11679, 10146, 61694, 10111, 11023, 10107, 146, 16138, 11426, 10169, 181, 119, 102], [101, 88002, 119, 10883, 12682, 10466, 119, 14815, 136, 136, 146, 10134, 11552, 169, 39925, 11293, 117, 29448, 10165, 117, 25831, 117, 12375, 10841, 146, 17696, 29079, 10107, 108, 11144, 11565, 10667, 11403, 10546, 11369, 24407, 14416, 10146, 169, 119, 102], [101, 119, 12410, 10135, 15127, 97257, 10414, 25749, 119, 102], [101, 20181, 18677, 10901, 11223, 12970, 10162, 10169, 15263, 11426, 10106, 10105, 34216, 30293, 10108, 26066, 10124, 30181, 41807, 10756, 131, 114, 114, 114, 170, 10350, 119, 102], [101, 11065, 10301, 13028, 10472, 21635, 10114, 10347, 169, 31624, 10114, 87672, 10870, 14325, 21181, 21367, 10376, 72413, 22024, 60495, 117, 13028, 13086, 20442, 12912, 119, 102], [101, 13486, 11490, 21051, 10162, 11090, 12659, 10410, 12916, 16437, 32221, 67299, 13028, 10301, 10105, 62006, 15042, 10189, 45286, 10106, 10105, 11061, 10146, 169, 15042, 13028, 25157, 11850, 169, 15637, 119, 102], [101, 119, 125, 10345, 126, 10780, 10825, 196, 34224, 109292, 136, 117, 10151, 32201, 44722, 11293, 10108, 17119, 52709, 117, 169, 11058, 10419, 10108, 17141, 108, 68301, 117, 12482, 10160, 10105, 144, 91724, 119, 102], [101, 119, 12882, 13028, 10309, 10160, 169, 30029, 20698, 136, 112, 117, 112, 13646, 12174, 36110, 123, 24682, 117, 20442, 10131, 76771, 169, 11264, 58916, 117, 10345, 169, 44271, 10240, 13740, 10240, 119, 119, 112, 117, 112, 10377, 55434, 11850, 10188, 12976, 193, 119, 102], [101, 119, 108, 47124, 36237, 16441, 46900, 11227, 13034, 38308, 10263, 13028, 43509, 14985, 26767, 10108, 57667, 10123, 119, 119, 119, 87589, 10124, 169, 17684, 10269, 10111, 50725, 42920, 13028, 15329, 12976, 13028, 10139, 10165, 10612, 10150, 38079, 119, 119, 119, 102], [101, 119, 11101, 13028, 17684, 16272, 10124, 11005, 106140, 117, 91053, 15629, 10135, 10149, 11355, 11850, 169, 23005, 54206, 102], [101, 119, 14535, 30455, 27024, 13028, 10106, 10105, 18093, 13051, 10108, 18873, 10189, 10689, 10301, 10151, 13935, 84569, 117, 13028, 14819, 44125, 44856, 108672, 11345, 119, 119, 102], [101, 12976, 44936, 10114, 10189, 10110, 10288, 13844, 10237, 10879, 10162, 10261, 10134, 169, 12211, 10240, 10406, 10161, 119, 102], [101, 149, 10369, 10133, 14796, 10301, 13028, 19090, 10114, 10347, 10151, 13935, 84569, 10114, 10911, 10108, 10435, 11426, 119, 102], [101, 98837, 10142, 10455, 15626, 83109, 119, 24852, 30455, 15217, 13028, 10169, 10531, 119, 43565, 10301, 17038, 14025, 119, 119, 102], [101, 119, 119, 13486, 11490, 21051, 10162, 11090, 12659, 10410, 119, 11065, 10301, 169, 20724, 118, 15306, 11367, 11304, 106, 112, 117, 112, 47556, 10108, 169, 11760, 14985, 37307, 117, 13028, 14819, 10529, 10590, 30918, 13028, 119, 102], [101, 119, 119, 18643, 24953, 52465, 21057, 10107, 10884, 119, 13885, 11490, 26426, 11599, 119, 24289, 15998, 32066, 10136, 119, 88406, 13799, 13660, 18659, 11305, 119, 34497, 25690, 11065, 10301, 11049, 169, 101701, 10112, 15042, 136, 136, 136, 136, 10149, 13028, 10678, 10135, 19353, 178, 119, 102], [101, 10377, 112, 187, 19118, 10114, 59227, 10271, 12935, 10114, 10464, 40414, 119, 11723, 10301, 59232, 84956, 10107, 119, 71284, 10108, 18128, 16624, 166, 102], [101, 146, 187, 100629, 11152, 11426, 177, 11703, 10124, 40840, 44096, 15626, 112, 102], [101, 119, 107, 146, 165, 112, 181, 18162, 10114, 15498, 16203, 13028, 10146, 13172, 10146, 146, 21528, 10114, 10473, 12277, 13028, 23763, 13246, 10464, 25785, 40414, 10978, 15127, 14927, 15092, 10116, 119, 102], [101, 164, 107, 119, 139, 10240, 24345, 35481, 10112, 119, 13114, 20664, 11259, 10107, 11703, 119, 108281, 11447, 39041, 119, 87339, 10113, 119, 10105, 10317, 60737, 10229, 32194, 119, 10117, 11273, 38961, 24153, 10531, 15263, 38055, 47798, 112, 188, 27874, 11223, 11552, 107, 166, 102], [101, 119, 13486, 11490, 21051, 10162, 11090, 12659, 10410, 107, 11723, 30181, 10124, 10192, 11324, 10142, 10271, 107, 118, 11023, 10107, 11155, 10124, 119, 119, 119, 10377, 165, 112, 187, 11552, 10117, 12136, 11545, 13028, 54892, 10457, 11005, 11263, 106, 166, 102], [101, 11065, 107761, 112, 188, 13246, 15329, 11701, 10114, 18090, 13028, 52389, 10114, 10529, 169, 46960, 16105, 41163, 146, 112, 172, 23763, 20442, 55965, 10107, 10106, 12300, 10115, 10301, 48201, 62400, 10336, 10117, 12541, 107, 166, 102], [101, 13486, 11490, 21051, 10162, 11090, 12659, 10410, 12415, 10490, 10134, 30918, 33338, 10114, 20517, 10105, 41878, 10108, 44736, 119, 112, 117, 112, 17121, 119, 153, 62146, 32612, 108, 11740, 11090, 11643, 10858, 10263, 136, 187, 13617, 177, 119, 102], [101, 12489, 10114, 23763, 10841, 30455, 38106, 10114, 17381, 88975, 14942, 10105, 36192, 16868, 55995, 119, 73714, 10310, 10237, 119, 140, 119, 102], [101, 119, 146, 136, 181, 10105, 36304, 54892, 21322, 10107, 13028, 136, 22469, 17038, 23267, 119, 102], [101, 119, 24339, 24093, 30889, 10738, 40214, 71020, 64007, 89955, 32995, 52428, 32992, 77261, 29990, 58730, 91995, 50183, 157, 108880, 10731, 160, 42622, 109166, 51036, 49248, 69308, 41275, 58719, 39774, 95825, 60493, 139, 11403, 13966, 11403, 17443, 75151, 33893, 11537, 145, 38025, 46291, 50655, 26889, 34065, 49307, 109166, 50183, 56658, 11447, 81012, 145, 19088, 119, 102], [101, 22678, 66126, 117, 75980, 12682, 106, 106, 106, 106, 112, 117, 112, 136, 136, 119, 102], [101, 131, 177, 16138, 15127, 33250, 10817, 119, 102], [101, 119, 17540, 10950, 10108, 15127, 70953, 13028, 11783, 10526, 20758, 19153, 119, 119, 102], [101, 87147, 10107, 34372, 25975, 20506, 10116, 146, 112, 150, 106, 107, 117, 112, 10105, 67420, 13051, 34372, 25975, 10106, 10105, 104783, 119, 102], [101, 11065, 10301, 10464, 37390, 16105, 11783, 10526, 20758, 19153, 10108, 169, 100766, 119, 119, 102], [101, 108, 10357, 10415, 11090, 11643, 13034, 10667, 12620, 11281, 10115, 11166, 13034, 17392, 10107, 20452, 11289, 13581, 10419, 12080, 12360, 20187, 37249, 19534, 119, 102], [101, 49983, 10230, 13028, 49151, 12103, 17252, 15498, 103437, 117, 25119, 10107, 10111, 19129, 10978, 24564, 117, 20616, 117, 10228, 36651, 14010, 117, 108405, 117, 22907, 35772, 10419, 10111, 119, 102], [101, 12882, 11357, 95171, 10124, 29448, 10473, 34248, 13190, 10479, 15329, 11357, 95171, 10107, 10124, 10472, 119, 119, 102], [101, 10377, 136, 187, 38576, 14446, 10114, 34481, 20442, 17912, 10684, 18042, 10142, 12864, 10817, 119, 112, 117, 112, 62663, 10454, 10841, 10261, 136, 187, 52340, 10798, 27411, 10336, 11084, 13028, 119, 102], [101, 10747, 24699, 10124, 10105, 12947, 14197, 10123, 31569, 17761, 17684, 10269, 146, 112, 10323, 17038, 10428, 119, 107, 117, 112, 11791, 10472, 54399, 10485, 119, 112, 117, 112, 11149, 10124, 169, 11005, 106140, 78006, 119, 102], [101, 26606, 11130, 42108, 12022, 11733, 196, 50884, 11090, 10107, 10108, 43436, 11090, 196, 11160, 14957, 12000, 118, 12972, 13842, 57246, 10107, 196, 12972, 11127, 25920, 10123, 107, 75151, 38025, 12396, 10108, 10105, 21030, 10731, 107, 113, 67788, 142, 84421, 114, 119, 102], [101, 14962, 10380, 136, 112, 117, 107, 13028, 16938, 112, 188, 27874, 30455, 10479, 11552, 30455, 10105, 174, 12307, 10111, 169, 98453, 101695, 10111, 10151, 18155, 10112, 48201, 107, 166, 102], [101, 17044, 10123, 198, 136, 118, 18194, 20562, 10911, 21053, 17483, 10161, 118, 146, 11250, 10112, 11426, 10479, 10301, 11170, 30742, 118, 12277, 13028, 23763, 13028, 112, 11639, 19090, 10114, 10149, 26133, 10111, 11284, 102], [101, 80272, 18823, 141, 37445, 10133, 10124, 29698, 13559, 10473, 10531, 11250, 16822, 10604, 129, 57667, 10123, 10374, 10911, 77586, 30700, 25905, 10454, 73173, 10146, 10114, 14796, 10261, 11019, 11049, 169, 181, 119, 102], [101, 11590, 23599, 10114, 66069, 13028, 11206, 10111, 10472, 18090, 169, 11005, 11263, 10978, 13028, 10160, 10105, 11561, 10635, 10124, 28149, 19308, 119, 119, 102], [101, 94566, 21322, 10107, 37013, 16490, 10350, 24109, 10240, 28615, 10114, 64354, 119, 102], [101, 119, 10747, 75980, 10157, 18322, 10347, 11486, 119, 112, 117, 112, 17101, 37013, 16490, 10350, 55526, 117, 14819, 10347, 10106, 20538, 119, 102], [101, 119, 18745, 177, 10392, 67952, 15529, 10111, 11005, 106140, 119, 102], [101, 10630, 10230, 20442, 18381, 113, 10111, 33370, 20442, 12103, 114, 10114, 15626, 83109, 15045, 10212, 44092, 10124, 10192, 22185, 19918, 119, 119, 119, 119, 102], [101, 146, 11346, 10115, 112, 188, 10149, 10271, 93742, 146, 187, 100629, 10271, 112, 187, 119, 175, 21069, 10162, 92507, 11157, 28088, 13028, 19556, 10213, 34481, 10950, 10142, 119, 107, 117, 112, 11149, 11823, 10950, 15127, 13023, 11359, 174, 119, 102], [101, 119, 72734, 10858, 13020, 11183, 69841, 10271, 13086, 13028, 38008, 11850, 169, 110102, 15042, 10114, 15498, 16203, 14633, 136, 112, 117, 112, 146, 27874, 10271, 23282, 15107, 170, 119, 102], [101, 14235, 19540, 63001, 10911, 12277, 146, 136, 181, 169, 87468, 10111, 146, 136, 181, 30181, 10472, 62452, 146, 10944, 23763, 146, 10392, 119, 112, 117, 112, 20187, 37249, 19534, 10124, 10978, 21528, 10230, 106411, 119, 112, 117, 112, 146, 136, 181, 13173, 119, 102], [101, 12976, 10301, 13028, 75993, 10188, 11223, 10151, 13935, 84569, 119, 102], [101, 34782, 89525, 10604, 43958, 169, 62893, 13167, 13028, 10301, 119, 102], [101, 146, 112, 181, 12820, 19353, 117, 19090, 10114, 34481, 11152, 11951, 21057, 10133, 50171, 10135, 169, 15293, 20758, 72453, 22185, 29963, 10473, 49307, 146, 62997, 11090, 50972, 14703, 109166, 50183, 27277, 14703, 11274, 11259, 50972, 109821, 102], [101, 146, 12820, 21528, 10114, 23296, 23763, 93951, 10772, 19416, 30244, 10111, 10435, 10105, 15626, 177, 11703, 171, 68399, 10891, 10189, 12647, 60041, 10957, 119, 112, 117, 112, 40486, 102117, 10393, 10590, 24984, 119, 102], [101, 93951, 10230, 61001, 10908, 87147, 10107, 119, 102], [101, 107561, 10485, 20585, 26536, 10147, 21405, 10188, 10485, 72445, 119, 112, 117, 112, 146, 27874, 10105, 26070, 10833, 44861, 10107, 10114, 10124, 10120, 10575, 119, 102], [101, 39121, 10115, 146, 136, 181, 11005, 106140, 119, 102], [101, 28140, 10841, 13028, 18090, 169, 11005, 11263, 13028, 10944, 10123, 18090, 169, 11005, 11263, 119, 119, 119, 119, 102], [101, 31518, 10325, 10679, 119, 119, 119, 30122, 22274, 10134, 26546, 10135, 43143, 13416, 119, 119, 119, 24852, 11152, 48201, 18969, 11783, 10526, 20758, 19153, 119, 119, 102], [101, 50177, 10105, 27722, 94566, 21322, 10107, 106, 102], [101, 119, 119, 79726, 45676, 10107, 49458, 17116, 10146, 11206, 10271, 70323, 117, 10322, 10230, 10106, 169, 13055, 10457, 10108, 11170, 10812, 10169, 169, 12211, 10240, 60083, 10230, 10950, 10226, 42213, 119, 112, 117, 112, 146, 35028, 11488, 10114, 27874, 60818, 119, 102], [101, 10882, 15838, 10146, 14927, 22907, 35772, 10419, 10124, 117, 14927, 22907, 119, 102], [101, 10117, 18938, 112, 187, 36304, 25831, 93838, 10301, 48237, 169, 20570, 10911, 11533, 27160, 20973, 23894, 31044, 112, 187, 10111, 10105, 17252, 23894, 10165, 112, 187, 13990, 20970, 10347, 107, 166, 102], [101, 138, 12377, 82065, 18832, 15263, 10879, 10162, 10188, 34919, 117, 10169, 50588, 21776, 17293, 117, 10479, 13446, 10188, 14061, 31486, 10877, 10114, 13375, 118, 10135, 25831, 119, 112, 117, 112, 29091, 181, 119, 102], [101, 146, 10529, 10192, 14932, 117, 146, 10134, 10160, 11850, 10407, 10106, 11212, 117, 10111, 12187, 110, 10108, 15127, 68699, 10301, 10978, 102418, 11747, 40762, 10380, 12604, 10174, 31237, 146, 112, 181, 34875, 54892, 21322, 10107, 171, 37925, 10123, 119, 107, 166, 102], [101, 14796, 10301, 49718, 10151, 11419, 14319, 10112, 136, 136, 136, 136, 112, 117, 107, 10271, 112, 187, 59232, 169, 18638, 117, 11951, 34420, 112, 188, 10529, 11152, 10108, 17446, 12504, 16021, 119, 107, 117, 112, 12253, 189, 119, 102], [101, 32470, 10550, 37013, 16490, 10350, 28950, 10107, 41549, 10911, 10189, 10435, 10105, 10635, 119, 112, 117, 112, 14535, 146, 11131, 10162, 12976, 169, 55526, 176, 119, 102], [101, 10315, 13551, 83109, 10124, 10104, 86257, 10230, 12373, 12628, 11356, 10393, 10798, 15688, 68275, 11084, 11767, 10111, 86607, 12782, 119, 28803, 83109, 55031, 10393, 60971, 102], [101, 12277, 13028, 10301, 11049, 169, 98149, 75980, 10157, 117, 31237, 65000, 112, 188, 13028, 10374, 11178, 38078, 10479, 10124, 10379, 169, 98149, 15042, 102], [101, 13486, 11490, 21051, 10162, 11090, 12659, 10410, 160, 68380, 11101, 12676, 10189, 21528, 10114, 12888, 169, 55720, 10108, 29846, 10106, 14539, 13348, 106, 112, 117, 112, 18249, 10124, 10151, 80433, 11065, 79321, 119, 102], [101, 119, 119, 110142, 10107, 11396, 10759, 11127, 99799, 10376, 131, 119, 171, 10686, 36795, 119, 104903, 11273, 57540, 10570, 119, 35921, 10162, 11127, 10567, 13034, 68380, 119, 159, 52338, 10731, 119, 36358, 119, 39999, 11537, 67292, 11537, 119, 11641, 13034, 23641, 11273, 53624, 10759, 119, 10628, 64638, 10206, 53398, 10929, 119, 27324, 119, 32070, 11293, 119, 10119, 23486, 45376, 10929, 119, 74846, 32168, 76897, 11373, 10884, 74178, 119, 102], [101, 18552, 103665, 112, 187, 15549, 15432, 191, 49311, 25975, 118, 12142, 10454, 43619, 118, 42492, 10575, 29465, 10379, 11856, 96249, 13971, 10146, 36500, 29329, 106543, 16740, 119, 107, 166, 102], [101, 40879, 14996, 16220, 10263, 11065, 10301, 10151, 19648, 11290, 106, 112, 117, 112, 146, 16938, 136, 188, 34481, 20442, 56011, 10908, 13935, 11178, 19594, 106, 119, 102], [101, 119, 146, 11250, 10112, 10105, 11309, 10161, 10189, 47715, 10435, 10105, 10697, 10874, 20713, 10108, 169, 23050, 10841, 10271, 30811, 169, 13183, 10741, 119, 112, 117, 112, 15105, 10142, 30759, 87147, 10107, 119, 102], [101, 11065, 10301, 19090, 10114, 23819, 14310, 10108, 10435, 119, 14005, 10858, 50647, 10570, 11490, 12674, 11274, 37021, 40209, 10111, 16868, 11898, 10105, 40162, 14234, 14064, 119, 112, 117, 112, 11149, 47798, 10123, 17038, 13246, 11471, 10115, 119, 102], [101, 13646, 62893, 13167, 107761, 112, 188, 13246, 41549, 43084, 10105, 13486, 155, 11779, 10169, 10151, 10211, 41372, 120, 96820, 21863, 20584, 23200, 119, 107, 117, 112, 28803, 83109, 106, 119, 102], [101, 119, 20593, 117, 11309, 10161, 10479, 100332, 12166, 82808, 119, 112, 117, 112, 93951, 13028, 117, 54892, 10457, 13935, 119, 102], [101, 16788, 32981, 20585, 26536, 10147, 10124, 10380, 15838, 10142, 13190, 10271, 136, 187, 17122, 31761, 10415, 119, 119, 102], [101, 10117, 14932, 10189, 13028, 10944, 34236, 19777, 26155, 25831, 31773, 10107, 10473, 10472, 10347, 169, 25831, 10124, 11850, 22807, 13028, 10944, 11005, 11263, 169, 13824, 11783, 16883, 21833, 10472, 10347, 169, 11783, 10526, 20758, 21623, 119, 102], [101, 11065, 10301, 11284, 16297, 20442, 43310, 10114, 10347, 169, 15198, 16745, 98453, 101695, 112, 117, 112, 26742, 169, 27445, 10111, 11059, 119, 102], [101, 11065, 54892, 10457, 10414, 25749, 119, 112, 117, 112, 11065, 10374, 20442, 27893, 10114, 10149, 26133, 10841, 94252, 10369, 28353, 10134, 12811, 119, 112, 117, 112, 162, 119, 102], [101, 119, 146, 17367, 30455, 10114, 27868, 10105, 14625, 57667, 10123, 10950, 10108, 15127, 54892, 21322, 10107, 119, 102], [101, 153, 39233, 10741, 10114, 82523, 169, 12211, 10240, 10106, 169, 23998, 119, 117, 12489, 10149, 13028, 23806, 12211, 10240, 136, 119, 102], [101, 13486, 11490, 21051, 10162, 11090, 12659, 10410, 11065, 10301, 10151, 143, 29265, 19648, 11290, 119, 102], [101, 11065, 10301, 169, 62893, 13167, 119, 102], [101, 119, 146, 10134, 11783, 16441, 31638, 10114, 33734, 10473, 146, 10198, 22888, 10188, 91347, 12014, 10111, 75217, 38576, 10380, 11850, 10406, 10161, 11387, 11044, 16938, 136, 188, 10347, 10151, 13935, 84569, 10114, 20442, 119, 102], [101, 98837, 12172, 146, 36766, 40167, 20442, 10107, 119, 117, 13491, 13028, 169, 62893, 13167, 136, 146, 27874, 36981, 13028, 10301, 119, 119, 102], [101, 25171, 10107, 10108, 13486, 53624, 10111, 45218, 10230, 10189, 13028, 10301, 169, 160, 108880, 29833, 36351, 11565, 24093, 37174, 11273, 20794, 11447, 119, 99946, 57921, 10106, 33848, 10107, 11152, 10108, 12852, 112, 187, 43465, 10107, 10491, 10380, 13672, 102], [101, 136, 153, 107750, 10237, 138, 20428, 136, 11940, 10124, 19132, 10667, 21454, 10106, 10105, 10523, 10111, 13246, 15102, 10211, 27920, 104277, 10336, 10531, 11951, 10435, 17367, 10114, 13574, 12229, 10425, 30861, 10107, 119, 112, 117, 112, 47464, 119, 102], [101, 11791, 110778, 10271, 10105, 61657, 10112, 21418, 10106, 16032, 119, 119, 10380, 146, 75980, 22094, 10189, 20562, 13028, 169, 22907, 35772, 10419, 38367, 10123, 136, 119, 102], [101, 10357, 10124, 11049, 169, 37013, 16490, 10350, 55526, 119, 112, 117, 112, 14664, 117, 14664, 14664, 119, 112, 117, 112, 12613, 10192, 64153, 119, 112, 117, 112, 12489, 169, 11916, 13820, 15938, 119, 102], [101, 12489, 10124, 10271, 10978, 37241, 13190, 10189, 20562, 11345, 10106, 89329, 10454, 10798, 57195, 11084, 11322, 10107, 13190, 136, 112, 117, 112, 51635, 119, 102], [101, 146, 50725, 146, 112, 181, 56126, 119, 107, 117, 112, 12242, 13028, 10212, 88975, 10978, 16021, 10135, 169, 11121, 13028, 13145, 10189, 48628, 54941, 119, 102], [101, 13491, 13028, 42374, 10142, 52660, 10107, 136, 112, 117, 112, 11590, 12936, 89220, 131, 103218, 10124, 19766, 23179, 11052, 23493, 10719, 107, 36106, 13773, 117, 36106, 10287, 107, 44131, 119, 102], [101, 11590, 10635, 10393, 10678, 119, 102], [101, 66133, 10134, 41833, 57654, 16898, 54892, 21322, 10107, 119, 102], [101, 148, 93202, 20794, 11447, 83821, 11090, 119, 102], [101, 146, 11346, 10115, 136, 188, 10347, 54468, 10192, 38078, 10142, 10455, 21341, 119, 119, 11005, 11263, 20442, 21341, 10111, 11005, 11263, 13028, 119, 119, 102], [101, 13486, 11490, 21051, 10162, 11090, 12659, 10410, 29195, 11023, 30295, 119, 119, 102], [101, 10117, 11259, 16815, 10731, 52743, 119, 87845, 10113, 12396, 71874, 10107, 37025, 117, 10635, 10114, 26905, 48426, 20442, 11897, 10111, 20442, 50306, 10107, 119, 112, 117, 112, 10377, 17684, 10171, 10473, 48628, 28615, 10114, 10347, 11991, 10114, 119, 102], [101, 160, 33893, 119, 119, 119, 119, 12976, 169, 15626, 26978, 15626, 177, 11703, 26767, 10108, 57667, 10123, 106, 102], [101, 146, 136, 181, 13301, 10188, 10151, 39957, 10111, 146, 16938, 136, 188, 21852, 10435, 10105, 73367, 119, 112, 117, 112, 12209, 117, 146, 10149, 21852, 10189, 11178, 18086, 188, 119, 102], [101, 11065, 19302, 11850, 169, 62893, 13167, 146, 11367, 11304, 12976, 13028, 10301, 30918, 10135, 188, 56082, 10877, 119, 138, 102], [101, 146, 112, 181, 11049, 169, 11005, 72453, 11005, 106140, 24109, 10240, 106, 106, 107, 117, 112, 20993, 10115, 10271, 106, 112, 117, 107, 146, 112, 181, 10380, 10478, 27821, 11912, 10169, 15127, 11005, 106140, 13295, 106, 102], [101, 14439, 12014, 10114, 64412, 15398, 11170, 25080, 13028, 54892, 10457, 11005, 11263, 119, 102], [101, 54690, 23763, 10189, 117, 119, 11161, 44466, 10400, 19237, 12034, 10105, 16298, 15499, 118, 13448, 187, 23722, 10537, 10240, 11155, 10124, 117, 10473, 13028, 20970, 14923, 10112, 10106, 20442, 65725, 174, 119, 102], [101, 119, 12786, 11419, 96691, 10142, 10117, 30122, 11280, 11710, 10108, 24362, 104380, 23748, 11949, 10155, 13539, 12212, 10161, 136, 140, 74111, 101917, 106, 112, 117, 112, 108, 11155, 34381, 30861, 70185, 74563, 35636, 16239, 17530, 10415, 119, 102], [101, 13451, 10635, 146, 48742, 15127, 37167, 146, 136, 181, 13382, 136, 17860, 15127, 37167, 136, 12976, 22282, 10108, 54892, 21322, 10107, 47798, 136, 188, 14499, 10271, 10135, 119, 102], [101, 119, 15105, 11299, 169, 10894, 118, 10347, 17034, 63378, 117, 29846, 23602, 99772, 10107, 10105, 13486, 85186, 10189, 10226, 12723, 48343, 117, 12229, 14854, 13135, 10114, 10817, 21598, 98974, 10546, 119, 102], [101, 119, 24781, 10392, 146, 11049, 169, 90960, 50756, 136, 119, 112, 117, 112, 14535, 11155, 10124, 10464, 40414, 10114, 13574, 74837, 10106, 117, 10271, 136, 187, 20442, 14943, 106, 119, 102], [101, 100397, 11447, 119, 22280, 10113, 10731, 14411, 13028, 10301, 10380, 108, 18549, 10157, 117, 10380, 108, 10127, 38036, 10251, 106, 112, 117, 112, 11065, 10529, 10105, 10992, 28149, 19308, 108, 38821, 10157, 117, 20442, 108, 39709, 12808, 117, 108, 14382, 10806, 117, 48201, 23641, 108, 46960, 16105, 117, 108, 10882, 119, 102], [101, 146, 21852, 10479, 10406, 10161, 10261, 10379, 10124, 28941, 62800, 44481, 119, 112, 117, 112, 12689, 10105, 21264, 14066, 10142, 169, 50756, 10106, 50756, 28731, 68275, 13098, 11490, 160, 13034, 10729, 119, 102], [101, 123, 10105, 136, 20950, 136, 10189, 15362, 13270, 10157, 169, 97586, 10350, 16342, 131, 93951, 13028, 119, 112, 117, 112, 123, 10105, 136, 20950, 136, 10189, 11019, 21489, 10380, 10488, 10908, 10261, 10374, 10114, 11023, 11231, 123, 11345, 10142, 119, 102], [101, 119, 12034, 11005, 106140, 169, 57887, 10112, 12307, 136, 119, 102], [101, 93495, 82800, 14819, 34465, 14249, 118, 71467, 13275, 22907, 35772, 10419, 15348, 15925, 10114, 11393, 13796, 15003, 119, 102], [101, 103014, 146, 112, 181, 169, 36192, 24523, 87468, 10319, 10124, 169, 19826, 11850, 20585, 26536, 10147, 23423, 17427, 10108, 20585, 26536, 10147, 146, 11499, 17903, 12694, 10479, 16938, 112, 188, 10173, 10575, 107, 166, 102], [101, 10117, 13216, 10108, 52158, 10806, 131, 107, 14535, 13028, 11005, 11263, 169, 11783, 10526, 32374, 52917, 117, 13028, 10301, 12647, 169, 11783, 10526, 20758, 19153, 107, 119, 112, 117, 112, 29195, 13382, 35655, 10146, 11419, 14319, 10112, 10114, 12820, 48281, 20442, 184, 119, 102], [101, 11065, 12820, 27463, 12976, 10151, 19648, 11290, 13028, 10301, 18745, 117, 13578, 12014, 10114, 10105, 41356, 27915, 10107, 13028, 13173, 15847, 11972, 117, 13028, 16938, 136, 188, 10139, 10165, 10612, 10114, 10347, 10106, 10366, 10113, 106, 119, 102], [101, 12384, 15417, 55497, 13034, 39041, 10107, 22800, 22009, 12976, 169, 46960, 16105, 13028, 10301, 117, 36833, 10741, 11178, 14978, 69154, 14193, 19139, 119, 102], [101, 45551, 10107, 131, 25562, 12557, 45006, 10106, 27801, 10421, 102530, 10129, 112, 187, 83109, 16683, 15626, 10142, 62341, 11406, 119, 183, 10874, 37893, 25080, 107, 102], [101, 66339, 16490, 10350, 55526, 112, 187, 136, 136, 18082, 10162, 10911, 20442, 17920, 108, 16868, 12675, 10240, 108, 17860, 10692, 108, 34778, 110354, 108, 52828, 51100, 10112, 107, 166, 102], [101, 11005, 106140, 11500, 10164, 33661, 21868, 10114, 15329, 169, 13578, 41944, 15127, 43310, 119, 102], [101, 146, 112, 10323, 11639, 66058, 10105, 77586, 66058, 10531, 10435, 11941, 10169, 119, 107, 117, 112, 146, 10149, 50725, 13028, 10944, 10678, 10114, 49151, 14796, 27920, 119, 102], [101, 14535, 39408, 10310, 20575, 157, 112, 18939, 11083, 169, 30409, 25749, 10169, 10189, 23946, 67820, 11951, 58768, 17437, 15398, 10105, 33462, 79657, 10105, 11005, 11263, 10491, 119, 119, 102], [101, 40690, 117, 11023, 10107, 119, 112, 117, 107, 12865, 10435, 15329, 10189, 13028, 112, 11639, 11005, 72453, 10105, 11783, 10526, 32374, 52917, 119, 107, 117, 107, 11065, 112, 11639, 12647, 169, 11783, 10526, 20758, 19153, 119, 107, 166, 102], [101, 18249, 136, 187, 10114, 37390, 16105, 117, 32282, 22525, 13190, 118, 11387, 11155, 10347, 10798, 10108, 11345, 119, 112, 117, 112, 108, 20585, 26536, 10147, 119, 102], [101, 22716, 11783, 10526, 20758, 19153, 117, 16745, 17981, 10111, 10261, 15329, 187, 23486, 10162, 13935, 84569, 119, 119, 102], [101, 71292, 11781, 96585, 119, 13486, 11490, 21051, 10162, 11090, 12659, 10410, 17244, 11426, 27874, 13028, 10301, 169, 13258, 18443, 13167, 24984, 10263, 119, 119, 119, 119, 102], [101, 12277, 13028, 60041, 30455, 22807, 10414, 25749, 13028, 136, 11639, 12820, 10146, 11859, 80092, 10146, 11345, 10380, 11783, 10114, 61694, 119, 102], [101, 146, 112, 181, 54892, 10457, 117, 177, 21852, 12976, 146, 112, 181, 22807, 119, 119, 119, 177, 10379, 28685, 10271, 10146, 146, 23763, 10271, 10146, 11206, 13028, 54892, 21322, 10107, 119, 119, 119, 119, 119, 119, 107, 117, 112, 146, 18090, 13028, 119, 102], [101, 119, 90360, 42374, 10160, 30455, 40843, 136, 187, 13215, 10124, 10380, 11005, 10686, 15629, 39608, 14446, 10529, 10114, 78978, 11850, 10150, 11005, 72453, 10950, 48865, 10107, 10106, 41621, 10105, 13065, 10115, 119, 102]]>"
            ]
          },
          "metadata": {
            "tags": []
          },
          "execution_count": 25
        }
      ]
    },
    {
      "cell_type": "code",
      "metadata": {
        "colab": {
          "base_uri": "https://localhost:8080/",
          "height": 282
        },
        "id": "_ap2e9Jwpp5m",
        "outputId": "6acf94ad-8aa7-4976-fac8-8ab6ac2dcee3"
      },
      "source": [
        "input_mask = tf.ones_like(input_word_ids).to_tensor()\n",
        "\n",
        "plt.pcolormesh(input_mask)"
      ],
      "execution_count": null,
      "outputs": [
        {
          "output_type": "execute_result",
          "data": {
            "text/plain": [
              "<matplotlib.collections.QuadMesh at 0x7f7b32e2db90>"
            ]
          },
          "metadata": {
            "tags": []
          },
          "execution_count": 26
        },
        {
          "output_type": "display_data",
          "data": {
            "image/png": "[encoded data removed]",
            "text/plain": [
              "<Figure size 432x288 with 1 Axes>"
            ]
          },
          "metadata": {
            "tags": [],
            "needs_background": "light"
          }
        }
      ]
    },
    {
      "cell_type": "markdown",
      "metadata": {
        "id": "I3PP1TCbp277"
      },
      "source": [
        "Here each yellow block has some input. We just make this for the model to differ between padding and input."
      ]
    },
    {
      "cell_type": "code",
      "metadata": {
        "colab": {
          "base_uri": "https://localhost:8080/",
          "height": 282
        },
        "id": "004D4DFgptF1",
        "outputId": "b9761b1b-7f25-4412-91c1-e1dfd5ec1591"
      },
      "source": [
        "type_cls = tf.zeros_like(cls)\n",
        "type_tweet = tf.ones_like(tweets)\n",
        "input_type_ids = tf.concat([type_cls, type_tweet], axis=-1).to_tensor()\n",
        "\n",
        "plt.pcolormesh(input_type_ids)"
      ],
      "execution_count": null,
      "outputs": [
        {
          "output_type": "execute_result",
          "data": {
            "text/plain": [
              "<matplotlib.collections.QuadMesh at 0x7f7b32deb090>"
            ]
          },
          "metadata": {
            "tags": []
          },
          "execution_count": 27
        },
        {
          "output_type": "display_data",
          "data": {
            "image/png": "[encoded data removed]",
            "text/plain": [
              "<Figure size 432x288 with 1 Axes>"
            ]
          },
          "metadata": {
            "tags": [],
            "needs_background": "light"
          }
        }
      ]
    },
    {
      "cell_type": "markdown",
      "metadata": {
        "id": "iCxfbBSup-G4"
      },
      "source": [
        "\n",
        "It's hard to see but we added an empty block in front of each tweet for the [CLS] token. Check tensor below"
      ]
    },
    {
      "cell_type": "code",
      "metadata": {
        "colab": {
          "base_uri": "https://localhost:8080/"
        },
        "id": "kKJrkwrGp6P5",
        "outputId": "7aee5f55-2711-40fd-e1e6-f621eb907aa1"
      },
      "source": [
        "input_type_ids"
      ],
      "execution_count": null,
      "outputs": [
        {
          "output_type": "execute_result",
          "data": {
            "text/plain": [
              "<tf.Tensor: shape=(852, 70), dtype=int32, numpy=\n",
              "array([[0, 1, 1, ..., 0, 0, 0],\n",
              "       [0, 1, 1, ..., 0, 0, 0],\n",
              "       [0, 1, 1, ..., 0, 0, 0],\n",
              "       ...,\n",
              "       [0, 1, 1, ..., 0, 0, 0],\n",
              "       [0, 1, 1, ..., 0, 0, 0],\n",
              "       [0, 1, 1, ..., 0, 0, 0]], dtype=int32)>"
            ]
          },
          "metadata": {
            "tags": []
          },
          "execution_count": 28
        }
      ]
    },
    {
      "cell_type": "markdown",
      "metadata": {
        "id": "xOWgnh14qG91"
      },
      "source": [
        "Remake into a function for normal use\n",
        "So at this point we have all of our three inputs:\n",
        "\n",
        "* Tokens\n",
        "\n",
        "* Input mask\n",
        "\n",
        "* Input type\n"
      ]
    },
    {
      "cell_type": "code",
      "metadata": {
        "id": "Noc_bbm4qAyH"
      },
      "source": [
        "lens = [len(i) for i in input_word_ids]"
      ],
      "execution_count": null,
      "outputs": []
    },
    {
      "cell_type": "code",
      "metadata": {
        "colab": {
          "base_uri": "https://localhost:8080/"
        },
        "id": "3tXwALH0qRiw",
        "outputId": "dad4d382-bcf5-4806-a48f-d6290cea7806"
      },
      "source": [
        "\n",
        "max_seq_length = max(lens)\n",
        "print('Max length is:', max_seq_length)"
      ],
      "execution_count": null,
      "outputs": [
        {
          "output_type": "stream",
          "text": [
            "Max length is: 70\n"
          ],
          "name": "stdout"
        }
      ]
    },
    {
      "cell_type": "code",
      "metadata": {
        "colab": {
          "base_uri": "https://localhost:8080/"
        },
        "id": "O26nEU5sqXIx",
        "outputId": "2c9ca13c-f62e-4d9a-8615-c3a68f55868d"
      },
      "source": [
        "max_seq_length = int(1.5*max_seq_length)\n",
        "print('Max length is:', max_seq_length)"
      ],
      "execution_count": null,
      "outputs": [
        {
          "output_type": "stream",
          "text": [
            "Max length is: 105\n"
          ],
          "name": "stdout"
        }
      ]
    },
    {
      "cell_type": "markdown",
      "metadata": {
        "id": "26pEujn8qlMN"
      },
      "source": [
        "# Creating Functions"
      ]
    },
    {
      "cell_type": "code",
      "metadata": {
        "id": "XVz1OZjNqin9"
      },
      "source": [
        "def encode_names(n, tokenizer):\n",
        "   tokens = list(tokenizer.tokenize(n))\n",
        "   tokens.append('[SEP]')\n",
        "   return tokenizer.convert_tokens_to_ids(tokens)\n",
        "\n",
        "def bert_encode(string_list, tokenizer, max_seq_length):\n",
        "  num_examples = len(string_list)\n",
        "\n",
        "  string_tokens = tf.ragged.constant([\n",
        "      encode_names(n, tokenizer) for n in np.array(string_list)])\n",
        "\n",
        "  cls = [tokenizer.convert_tokens_to_ids(['[CLS]'])]*string_tokens.shape[0]\n",
        "  input_word_ids = tf.concat([cls, string_tokens], axis=-1)\n",
        "\n",
        "  input_mask = tf.ones_like(input_word_ids).to_tensor(shape=(None, max_seq_length))\n",
        "\n",
        "  type_cls = tf.zeros_like(cls)\n",
        "  type_tokens = tf.ones_like(string_tokens)\n",
        "  input_type_ids = tf.concat(\n",
        "      [type_cls, type_tokens], axis=-1).to_tensor(shape=(None, max_seq_length))\n",
        "\n",
        "  inputs = {\n",
        "      'input_word_ids': input_word_ids.to_tensor(shape=(None, max_seq_length)),\n",
        "      'input_mask': input_mask,\n",
        "      'input_type_ids': input_type_ids}\n",
        "\n",
        "  return inputs"
      ],
      "execution_count": null,
      "outputs": []
    },
    {
      "cell_type": "markdown",
      "metadata": {
        "id": "6BvsNsmRqxUI"
      },
      "source": [
        "#Processing Inputs"
      ]
    },
    {
      "cell_type": "code",
      "metadata": {
        "id": "bD7l1hs4quWY"
      },
      "source": [
        "X_train = bert_encode(x_train, tokenizer, max_seq_length)\n",
        "X_test = bert_encode(x_test, tokenizer, max_seq_length)"
      ],
      "execution_count": null,
      "outputs": []
    },
    {
      "cell_type": "markdown",
      "metadata": {
        "id": "4qwJPwnyq5TF"
      },
      "source": [
        "#Modelling\n",
        "\n",
        "**Initial training**\n",
        "\n",
        "We need to set up our model using the inputs we made, BERT model that we downloaded and an output layer based on num of classes we are using."
      ]
    },
    {
      "cell_type": "code",
      "metadata": {
        "id": "sPYZqmV8q1Ga"
      },
      "source": [
        "num_class = len(encoder.classes_)\n",
        "max_seq_length = max_seq_length\n",
        "\n",
        "\n",
        "input_word_ids = tf.keras.layers.Input(shape=(max_seq_length,), dtype=tf.int32,\n",
        "                                       name=\"input_word_ids\")\n",
        "input_mask = tf.keras.layers.Input(shape=(max_seq_length,), dtype=tf.int32,\n",
        "                                   name=\"input_mask\")\n",
        "segment_ids = tf.keras.layers.Input(shape=(max_seq_length,), dtype=tf.int32,\n",
        "                                    name=\"segment_ids\")\n",
        "\n",
        "pooled_output, sequence_output = bert_layer([input_word_ids, input_mask, segment_ids])\n",
        "\n",
        "output = tf.keras.layers.Dropout(rate=0.1)(pooled_output)\n",
        "\n",
        "output = tf.keras.layers.Dense(num_class, activation='softmax', name='output')(output)\n",
        "\n",
        "model = tf.keras.Model(\n",
        "    inputs={\n",
        "        'input_word_ids': input_word_ids,\n",
        "        'input_mask': input_mask,\n",
        "        'input_type_ids': segment_ids\n",
        "        },\n",
        "        outputs=output)"
      ],
      "execution_count": null,
      "outputs": []
    },
    {
      "cell_type": "markdown",
      "metadata": {
        "id": "fGB5xyTNrRX1"
      },
      "source": [
        "**Model Architecture**"
      ]
    },
    {
      "cell_type": "code",
      "metadata": {
        "colab": {
          "base_uri": "https://localhost:8080/",
          "height": 220
        },
        "id": "SpE26uHmrOBM",
        "outputId": "fa1167d4-5898-4195-c51a-bd05068d9adb"
      },
      "source": [
        "tf.keras.utils.plot_model(model, show_shapes=True, dpi=48)"
      ],
      "execution_count": null,
      "outputs": [
        {
          "output_type": "execute_result",
          "data": {
            "image/png": "[encoded data removed]",
            "text/plain": [
              "<IPython.core.display.Image object>"
            ]
          },
          "metadata": {
            "tags": []
          },
          "execution_count": 35
        }
      ]
    },
    {
      "cell_type": "markdown",
      "metadata": {
        "id": "GybPRJSYrav1"
      },
      "source": [
        "**Set up the training parameters.**"
      ]
    },
    {
      "cell_type": "code",
      "metadata": {
        "id": "U9RH7GN1rUbL"
      },
      "source": [
        "epochs = 3\n",
        "batch_size = 16\n",
        "eval_batch_size = batch_size\n",
        "\n",
        "train_data_size = len(dummy_y_train)\n",
        "steps_per_epoch = int(train_data_size / batch_size)\n",
        "num_train_steps = steps_per_epoch * epochs\n",
        "warmup_steps = int(epochs * train_data_size * 0.1 / batch_size)\n",
        "\n",
        "optimizer = nlp.optimization.create_optimizer(\n",
        "    2e-5, num_train_steps=num_train_steps, num_warmup_steps=warmup_steps)"
      ],
      "execution_count": null,
      "outputs": []
    },
    {
      "cell_type": "markdown",
      "metadata": {
        "id": "zs-EcAK8rhc1"
      },
      "source": [
        "# Compile the model."
      ]
    },
    {
      "cell_type": "code",
      "metadata": {
        "id": "6lLh0MMgrfXW"
      },
      "source": [
        "model.compile(optimizer=optimizer,\n",
        "              loss='categorical_crossentropy',\n",
        "              metrics=['accuracy'])"
      ],
      "execution_count": null,
      "outputs": []
    },
    {
      "cell_type": "code",
      "metadata": {
        "colab": {
          "base_uri": "https://localhost:8080/"
        },
        "id": "sXMglhbdrmdo",
        "outputId": "853e65ec-57f1-42b3-b4ab-343999f4eaf3"
      },
      "source": [
        "model.summary()"
      ],
      "execution_count": null,
      "outputs": [
        {
          "output_type": "stream",
          "text": [
            "Model: \"model\"\n",
            "__________________________________________________________________________________________________\n",
            "Layer (type)                    Output Shape         Param #     Connected to                     \n",
            "==================================================================================================\n",
            "input_word_ids (InputLayer)     [(None, 105)]        0                                            \n",
            "__________________________________________________________________________________________________\n",
            "input_mask (InputLayer)         [(None, 105)]        0                                            \n",
            "__________________________________________________________________________________________________\n",
            "segment_ids (InputLayer)        [(None, 105)]        0                                            \n",
            "__________________________________________________________________________________________________\n",
            "keras_layer (KerasLayer)        [(None, 768), (None, 177853441   input_word_ids[0][0]             \n",
            "                                                                 input_mask[0][0]                 \n",
            "                                                                 segment_ids[0][0]                \n",
            "__________________________________________________________________________________________________\n",
            "dropout (Dropout)               (None, 768)          0           keras_layer[0][0]                \n",
            "__________________________________________________________________________________________________\n",
            "output (Dense)                  (None, 2)            1538        dropout[0][0]                    \n",
            "==================================================================================================\n",
            "Total params: 177,854,979\n",
            "Trainable params: 177,854,978\n",
            "Non-trainable params: 1\n",
            "__________________________________________________________________________________________________\n"
          ],
          "name": "stdout"
        }
      ]
    },
    {
      "cell_type": "markdown",
      "metadata": {
        "id": "hc6IFD1mrysH"
      },
      "source": [
        "Set up a history to check our model performance afterwards."
      ]
    },
    {
      "cell_type": "code",
      "metadata": {
        "colab": {
          "base_uri": "https://localhost:8080/"
        },
        "id": "C9cwPnqCrphZ",
        "outputId": "bc596b09-cf54-474a-98c6-7b495f720f07"
      },
      "source": [
        "history = model.fit(X_train,\n",
        "                    dummy_y_train,\n",
        "                    epochs=epochs,\n",
        "                    batch_size=batch_size,\n",
        "                    validation_data=(X_test, dummy_y_test),\n",
        "                    verbose=1)"
      ],
      "execution_count": null,
      "outputs": [
        {
          "output_type": "stream",
          "text": [
            "Epoch 1/3\n",
            "54/54 [==============================] - 41s 466ms/step - loss: 0.6402 - accuracy: 0.6408 - val_loss: 0.6038 - val_accuracy: 0.7089\n",
            "Epoch 2/3\n",
            "54/54 [==============================] - 24s 447ms/step - loss: 0.4688 - accuracy: 0.7946 - val_loss: 0.6209 - val_accuracy: 0.7042\n",
            "Epoch 3/3\n",
            "54/54 [==============================] - 24s 444ms/step - loss: 0.3325 - accuracy: 0.8674 - val_loss: 0.6666 - val_accuracy: 0.7089\n"
          ],
          "name": "stdout"
        }
      ]
    },
    {
      "cell_type": "markdown",
      "metadata": {
        "id": "BqLQcBZ_sIm6"
      },
      "source": [
        "\n",
        "# Evaluation"
      ]
    },
    {
      "cell_type": "code",
      "metadata": {
        "colab": {
          "base_uri": "https://localhost:8080/"
        },
        "id": "f8WpuzWwr1mN",
        "outputId": "20d0494f-889d-49e5-8da8-0eedc929bf00"
      },
      "source": [
        "loss, accuracy = model.evaluate(X_train, dummy_y_train, verbose=False)\n",
        "print(\"Training Accuracy: {:.4f}\".format(accuracy))\n",
        "loss, accuracy = model.evaluate(X_test, dummy_y_test, verbose=False)\n",
        "print(\"Testing Accuracy:  {:.4f}\".format(accuracy))"
      ],
      "execution_count": null,
      "outputs": [
        {
          "output_type": "stream",
          "text": [
            "Training Accuracy: 0.9190\n",
            "Testing Accuracy:  0.7089\n"
          ],
          "name": "stdout"
        }
      ]
    },
    {
      "cell_type": "markdown",
      "metadata": {
        "id": "-LAT6KtPs7RJ"
      },
      "source": [
        "# Plotting graphs"
      ]
    },
    {
      "cell_type": "code",
      "metadata": {
        "id": "oUH9T9CusLva"
      },
      "source": [
        "plt.style.use('ggplot')\n",
        "\n",
        "def plot_history(history):\n",
        "    acc = history.history['accuracy']\n",
        "    val_acc = history.history['val_accuracy']\n",
        "    loss = history.history['loss']\n",
        "    val_loss = history.history['val_loss']\n",
        "    x = range(1, len(acc) + 1)\n",
        "\n",
        "    plt.figure(figsize=(12, 5))\n",
        "    plt.subplot(1, 2, 1)\n",
        "    plt.plot(x, acc, 'b', label='Training acc')\n",
        "    plt.plot(x, val_acc, 'r', label='Validation acc')\n",
        "    plt.title('Training and validation accuracy')\n",
        "    plt.legend()\n",
        "    plt.subplot(1, 2, 2)\n",
        "    plt.plot(x, loss, 'b', label='Training loss')\n",
        "    plt.plot(x, val_loss, 'r', label='Validation loss')\n",
        "    plt.title('Training and validation loss')\n",
        "    plt.legend()"
      ],
      "execution_count": null,
      "outputs": []
    },
    {
      "cell_type": "code",
      "metadata": {
        "colab": {
          "base_uri": "https://localhost:8080/",
          "height": 337
        },
        "id": "EDfzaVh1s-UJ",
        "outputId": "f0b663d5-d03a-4d97-83b1-9dd55dc7a067"
      },
      "source": [
        "plot_history(history)"
      ],
      "execution_count": null,
      "outputs": [
        {
          "output_type": "display_data",
          "data": {
            "image/png": "[encoded data removed]",
            "text/plain": [
              "<Figure size 864x360 with 2 Axes>"
            ]
          },
          "metadata": {
            "tags": []
          }
        }
      ]
    },
    {
      "cell_type": "markdown",
      "metadata": {
        "id": "4HThKR1DtMhW"
      },
      "source": [
        "\n",
        "# Model saving for later use\n",
        "\n",
        "Let's saving  our model for later use."
      ]
    },
    {
      "cell_type": "code",
      "metadata": {
        "id": "KWiomoEctCvj"
      },
      "source": [
        "model.compile(optimizer='adam',\n",
        "              loss='categorical_crossentropy',\n",
        "              metrics=['accuracy'])"
      ],
      "execution_count": null,
      "outputs": []
    },
    {
      "cell_type": "code",
      "metadata": {
        "colab": {
          "base_uri": "https://localhost:8080/"
        },
        "id": "q9HGSG5wtX7r",
        "outputId": "9ab3c3de-5995-47a2-cef9-7bdef826467d"
      },
      "source": [
        "model_fname = 'twitter_BERT'\n",
        "my_wd = '/content/drive/MyDrive/twitter_sentiment_course/'\n",
        "\n",
        "model.save(os.path.join(my_wd, model_fname))"
      ],
      "execution_count": null,
      "outputs": [
        {
          "output_type": "stream",
          "text": [
            "WARNING:absl:Found untraced functions such as restored_function_body, restored_function_body, restored_function_body, restored_function_body, restored_function_body while saving (showing 5 of 945). These functions will not be directly callable after loading.\n"
          ],
          "name": "stderr"
        },
        {
          "output_type": "stream",
          "text": [
            "INFO:tensorflow:Assets written to: /content/drive/MyDrive/twitter_sentiment_course/twitter_BERT/assets\n"
          ],
          "name": "stdout"
        },
        {
          "output_type": "stream",
          "text": [
            "INFO:tensorflow:Assets written to: /content/drive/MyDrive/twitter_sentiment_course/twitter_BERT/assets\n"
          ],
          "name": "stderr"
        }
      ]
    },
    {
      "cell_type": "markdown",
      "metadata": {
        "id": "NcWfUEF2tvtO"
      },
      "source": [
        "**Validate saved model**"
      ]
    },
    {
      "cell_type": "code",
      "metadata": {
        "id": "o2ABOUcltjfM"
      },
      "source": [
        "model_fname = 'twitter_BERT'\n",
        "my_wd = '/content/drive/MyDrive/twitter_sentiment_course/'\n",
        "\n",
        "new_model = tf.keras.models.load_model(os.path.join(my_wd, model_fname))"
      ],
      "execution_count": null,
      "outputs": []
    },
    {
      "cell_type": "code",
      "metadata": {
        "colab": {
          "base_uri": "https://localhost:8080/"
        },
        "id": "4L0ppF0Kt-rF",
        "outputId": "32797b81-cd83-4198-b9ed-f668417dc8a7"
      },
      "source": [
        "loss, accuracy = new_model.evaluate(X_test, dummy_y_test, verbose=False)\n",
        "print(\"Testing Accuracy:  {:.4f}\".format(accuracy))"
      ],
      "execution_count": null,
      "outputs": [
        {
          "output_type": "stream",
          "text": [
            "Testing Accuracy:  0.7089\n"
          ],
          "name": "stdout"
        }
      ]
    },
    {
      "cell_type": "markdown",
      "metadata": {
        "id": "iY0uw-ukxkgC"
      },
      "source": [
        "# **Test**"
      ]
    },
    {
      "cell_type": "markdown",
      "metadata": {
        "id": "9tEbeXYXxpe4"
      },
      "source": [
        "We need to check in with our label encoder to get our classes."
      ]
    },
    {
      "cell_type": "code",
      "metadata": {
        "id": "dSZCZAn_72Sy"
      },
      "source": [
        "model_fname = 'twitter_BERT'\n",
        "my_wd = '/content/drive/MyDrive/twitter_sentiment_course/'\n",
        "\n",
        "tokenizerSaved = bert.tokenization.FullTokenizer(\n",
        "    vocab_file=os.path.join(my_wd, model_fname, 'assets/vocab.txt'),\n",
        "    do_lower_case=False)"
      ],
      "execution_count": null,
      "outputs": []
    },
    {
      "cell_type": "code",
      "metadata": {
        "id": "t6-Hoy2kuB_F"
      },
      "source": [
        "encoder_fname = 'twitter_classes.npy'\n",
        "my_wd = '/content/drive/MyDrive/twitter_sentiment_course/'\n",
        "\n",
        "encoder = LabelEncoder()\n",
        "encoder.classes_ = np.load(os.path.join(my_wd, encoder_fname), allow_pickle=True)"
      ],
      "execution_count": null,
      "outputs": []
    },
    {
      "cell_type": "markdown",
      "metadata": {
        "id": "Gw0BpHSgx0i7"
      },
      "source": [
        "This is how our classes are encoded for the model."
      ]
    },
    {
      "cell_type": "code",
      "metadata": {
        "colab": {
          "base_uri": "https://localhost:8080/"
        },
        "id": "_LxcpmQ9xwVk",
        "outputId": "ce55aa19-aade-4918-b970-03795303d4ea"
      },
      "source": [
        "encoder.classes_"
      ],
      "execution_count": null,
      "outputs": [
        {
          "output_type": "execute_result",
          "data": {
            "text/plain": [
              "array([0, 1])"
            ]
          },
          "metadata": {
            "tags": []
          },
          "execution_count": 60
        }
      ]
    },
    {
      "cell_type": "markdown",
      "metadata": {
        "id": "WIY5EJjix58c"
      },
      "source": [
        "Input preprocessing."
      ]
    },
    {
      "cell_type": "code",
      "metadata": {
        "id": "7YG5EbwRys8E"
      },
      "source": [
        "tweet = ['And why do you care what I say???, Lol looks like you have a crush you creepy Fag.']\n",
        "inputs = bert_encode(string_list=list(tweet),\n",
        "                     tokenizer=tokenizerSaved,\n",
        "                     max_seq_length=105)"
      ],
      "execution_count": null,
      "outputs": []
    },
    {
      "cell_type": "markdown",
      "metadata": {
        "id": "je-_JvgA82Y7"
      },
      "source": [
        "Prediction\n"
      ]
    },
    {
      "cell_type": "code",
      "metadata": {
        "id": "1PhMpNRX86B1"
      },
      "source": [
        "prediction = new_model.predict(inputs)\n",
        "print(prediction)\n",
        "print('Tweet is', 'Non-Bullying' if encoder.classes_[np.argmax(prediction)]==1 else 'Bullying')"
      ],
      "execution_count": null,
      "outputs": []
    },
    {
      "cell_type": "code",
      "metadata": {
        "id": "6Y2SzW-p9PFL"
      },
      "source": [
        "inputs"
      ],
      "execution_count": null,
      "outputs": []
    },
    {
      "cell_type": "code",
      "metadata": {
        "id": "VXnkTf1W_StK"
      },
      "source": [
        "tweet = ['I had to dress up for a presentation in class today and I?m giving some serious Mr. Grey zaddy vibes if I do say so myself']\n",
        "inputs = bert_encode(string_list=list(tweet),\n",
        "                     tokenizer=tokenizerSaved,\n",
        "                     max_seq_length=105)"
      ],
      "execution_count": null,
      "outputs": []
    },
    {
      "cell_type": "code",
      "metadata": {
        "id": "-hWYzggrAW-S"
      },
      "source": [
        "prediction = new_model.predict(inputs)\n",
        "print(prediction)\n",
        "print('Tweet is', 'Non-Bullying' if encoder.classes_[np.argmax(prediction)]==1 else 'Bullying')"
      ],
      "execution_count": null,
      "outputs": []
    },
    {
      "cell_type": "markdown",
      "metadata": {
        "id": "6qjRaTs6EjU_"
      },
      "source": [
        "# Evaluation"
      ]
    },
    {
      "cell_type": "code",
      "metadata": {
        "colab": {
          "base_uri": "https://localhost:8080/"
        },
        "id": "i1kobCyZMq4l",
        "outputId": "795e7c22-2aec-4718-f46a-45530c30baec"
      },
      "source": [
        "from sklearn.metrics import classification_report\n",
        "print(classification_report(encoder.classes_[np.argmax(dummy_y_test,axis=1)],encoder.classes_[np.argmax(test_predict,axis=1)]))"
      ],
      "execution_count": null,
      "outputs": [
        {
          "output_type": "stream",
          "text": [
            "              precision    recall  f1-score   support\n",
            "\n",
            "           0       0.65      0.57      0.61        84\n",
            "           1       0.74      0.80      0.77       129\n",
            "\n",
            "    accuracy                           0.71       213\n",
            "   macro avg       0.69      0.68      0.69       213\n",
            "weighted avg       0.70      0.71      0.71       213\n",
            "\n"
          ],
          "name": "stdout"
        }
      ]
    },
    {
      "cell_type": "code",
      "metadata": {
        "colab": {
          "base_uri": "https://localhost:8080/"
        },
        "id": "zOMJQQa7Nv4j",
        "outputId": "d550c39e-840c-403f-f1b0-e81f73d57708"
      },
      "source": [
        "from sklearn.metrics import confusion_matrix\n",
        "print(confusion_matrix(encoder.classes_[np.argmax(dummy_y_test,axis=1)],encoder.classes_[np.argmax(test_predict,axis=1)]))"
      ],
      "execution_count": null,
      "outputs": [
        {
          "output_type": "stream",
          "text": [
            "[[ 48  36]\n",
            " [ 26 103]]\n"
          ],
          "name": "stdout"
        }
      ]
    },
    {
      "cell_type": "code",
      "metadata": {
        "colab": {
          "base_uri": "https://localhost:8080/",
          "height": 282
        },
        "id": "-Q5z6xk9Q5oU",
        "outputId": "51592149-1873-494d-8015-2db6571f6e7d"
      },
      "source": [
        "cm = confusion_matrix(encoder.classes_[np.argmax(dummy_y_test,axis=1)],encoder.classes_[np.argmax(test_predict,axis=1)])\n",
        "import seaborn as sns\n",
        "group_names = ['True Neg','False Pos','False Neg','True Pos']\n",
        "  group_counts = [\"{0:0.0f}\".format(value) for value in\n",
        "                  cm.flatten()]\n",
        "group_percentages = [\"{0:.2%}\".format(value) for value in\n",
        "                     cm.flatten()/np.sum(cm)]\n",
        "labels = [f\"{v1}\\n{v2}\\n{v3}\" for v1, v2, v3 in\n",
        "          zip(group_names,group_counts,group_percentages)]\n",
        "labels = np.asarray(labels).reshape(2,2)\n",
        "sns.heatmap(cm, annot=labels, fmt='', cmap='Blues')"
      ],
      "execution_count": null,
      "outputs": [
        {
          "output_type": "execute_result",
          "data": {
            "text/plain": [
              "<matplotlib.axes._subplots.AxesSubplot at 0x7f7912c05810>"
            ]
          },
          "metadata": {
            "tags": []
          },
          "execution_count": 88
        },
        {
          "output_type": "display_data",
          "data": {
            "image/png": "[encoded data removed]",
            "text/plain": [
              "<Figure size 432x288 with 2 Axes>"
            ]
          },
          "metadata": {
            "tags": []
          }
        }
      ]
    }
  ]
}